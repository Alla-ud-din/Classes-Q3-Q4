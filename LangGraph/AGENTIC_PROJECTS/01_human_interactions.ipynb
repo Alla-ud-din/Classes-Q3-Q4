{
  "cells": [
    {
      "cell_type": "markdown",
      "metadata": {
        "id": "view-in-github",
        "colab_type": "text"
      },
      "source": [
        "<a href=\"https://colab.research.google.com/github/Alla-ud-din/Classes-Q3-Q4/blob/langgraph/LangGraph/AGENTIC_PROJECTS/01_human_interactions.ipynb\" target=\"_parent\"><img src=\"https://colab.research.google.com/assets/colab-badge.svg\" alt=\"Open In Colab\"/></a>"
      ]
    },
    {
      "cell_type": "markdown",
      "metadata": {
        "id": "gT-vFiMrl2KH"
      },
      "source": [
        "## **Project 01: User-Chat-Interactions**\n",
        "\n",
        "---\n",
        "\n",
        "### **Objective:**\n",
        "Make your chat-agent developed in 00_chat_agent smarter by allowing it to:\n",
        "1. Get help from a human assistant when needed.\n",
        "2. Pause and ask the user for extra information if something is unclear.\n",
        "3. Personalize its answers using long-term memory.\n",
        "4. Offloading conversation to Human\n",
        "\n",
        "**Note:** This project builds on the skills learned in Project 00 and prepares you for advanced Agentic AI features like dynamic workflows and user personalization.\n",
        "\n",
        "---\n",
        "\n",
        "### **Requirements:**\n",
        "\n",
        "1. **Human Assistant Interrupts (Static Interrupts):**\n",
        "   - Add a feature where your chatbot can **pause** and connect to a human assistant if needed.\n",
        "   - This can be a **static interrupt**—you decide when the chatbot needs help from a human.\n",
        "   - Example: If the chatbot can’t answer a question or doesn’t have enough information, it stops and sends the question to a human for assistance.\n",
        "\n",
        "**Reference Material:**\n",
        "- [Static Breakpoints](https://github.com/panaversity/learn-agentic-ai/blob/main/12_langchain_ecosystem/langgraph/course-notebooks/module-3/2_breakpoints.ipynb)\n",
        "\n",
        "2. **Ask the User for More Information (Dynamic Interrupts):**\n",
        "   - Make the chatbot smart enough to **pause its workflow** and ask the user for more information when it’s confused.\n",
        "   - Steps:\n",
        "     - Add a **decision step** after each user message.\n",
        "     - If the chatbot detects a question or needs more details, it pauses and asks the user to clarify.\n",
        "     - The user can:\n",
        "       - **Answer the question** to help the chatbot.\n",
        "       - **Skip the question** and let the chatbot guess the best answer.\n",
        "\n",
        "**Reference Material:**\n",
        "- [Dynamic Breakpoints](https://github.com/panaversity/learn-agentic-ai/blob/main/12_langchain_ecosystem/langgraph/course-notebooks/module-3/4_dynamic_breakpoints.ipynb)\n",
        "- [Editing State](https://github.com/panaversity/learn-agentic-ai/blob/main/12_langchain_ecosystem/langgraph/course-notebooks/module-3/3_edit_state_human_feedback.ipynb)\n",
        "\n",
        "3. **(Optional) Personalize Using Long-Term Memory:**\n",
        "   - Use a memory system to **save important details** about the user.\n",
        "   - Examples of what to remember:\n",
        "     - Preferences (e.g., favorite subjects, preferred clothing styles).\n",
        "     - Recurring needs (e.g., study schedules, favorite recipes).\n",
        "   - Use this memory to give **better and more personal answers** over time.\n",
        "\n",
        "**Tools:** Use **LangGraph Memory Store** to save and retrieve user data.\n",
        "\n",
        "**Reference Material:**\n",
        "- [Concept](https://langchain-ai.github.io/langgraph/concepts/memory/#long-term-memory)\n",
        "- [Memory Template](https://github.com/langchain-ai/memory-template)\n",
        "\n",
        "*Note:* This is an optional step. Focus on completing the first two requirements before attempting long-term memory integration if you feel confident.\n",
        "\n",
        "---\n",
        "\n",
        "### **Deliverables:**\n",
        "- A working chatbot prototype with:\n",
        "  1. Human assistant interrupts.\n",
        "  2. Dynamic user clarifications.\n",
        "  3. Long-term memory for personalization (Optional).\n",
        "\n",
        "---\n",
        "\n",
        "## **Submission Form**\n",
        "\n",
        "Submit your projects here:  \n",
        "[**Project Submission Form**](https://forms.gle/yB6X4TzE2dCVThCj8)\n",
        "\n",
        "---\n",
        "\n",
        "### **Example Scenarios:**\n",
        "\n",
        "1. **Human Assistant Interrupt:**\n",
        "   - User asks: *\"Can you help with tax calculations?\"*\n",
        "   - Chatbot: *\"Let me connect you to a human assistant for this question.\"*\n",
        "   \n",
        "2. **Dynamic Interrupt:**\n",
        "   - User asks: *\"Plan a study schedule for me.\"*\n",
        "   - Chatbot: *\"What is your next exam date? Should I include break times?\"*\n",
        "\n",
        "3. **Personalized Memory (Optional):**\n",
        "   - User: *\"What should I study today?\"*\n",
        "   - Chatbot: *\"Last time, you said your math exam is next week. Let’s focus on trigonometry today.\"*\n",
        "\n",
        "---\n",
        "\n",
        "### **Outcomes:**\n",
        "By completing this project, you will:\n",
        "1. Learn how to connect a chatbot with a human assistant.\n",
        "2. Understand how to make chatbots pause and ask for clarifications when needed.\n",
        "3. Use long-term memory to personalize chatbot responses."
      ]
    },
    {
      "cell_type": "code",
      "execution_count": null,
      "metadata": {
        "id": "yU9nIgRiFzwO"
      },
      "outputs": [],
      "source": [
        "%%capture --no-stderr\n",
        "%pip install -U langgraph langsmith langchain_google_genai tavily-python langchain_community"
      ]
    },
    {
      "cell_type": "code",
      "execution_count": null,
      "metadata": {
        "id": "ZAKddmjlGOWZ"
      },
      "outputs": [],
      "source": [
        "import os\n",
        "from google.colab import userdata\n",
        "\n",
        "os.environ[\"LANGCHAIN_API_KEY\"] = userdata.get('LANGCHAIN_API_KEY')\n",
        "os.environ[\"LANGCHAIN_TRACING_V2\"] = \"true\"\n",
        "os.environ[\"LANGCHAIN_PROJECT\"] = \"langchain-academy\"\n",
        "os.environ[\"TAVILY_API_KEY\"] = userdata.get(\"TAVILY_API_KEY\")\n",
        "\n",
        "GEMINI_API_KEY = userdata.get('GEMINI_API_KEY')"
      ]
    },
    {
      "cell_type": "code",
      "execution_count": null,
      "metadata": {
        "id": "GYTnLIX1GU7S"
      },
      "outputs": [],
      "source": [
        "from langchain_google_genai import ChatGoogleGenerativeAI\n",
        "\n",
        "llm = ChatGoogleGenerativeAI(\n",
        "    model=\"gemini-1.5-flash\",\n",
        "    max_retries=2,\n",
        "    api_key=GEMINI_API_KEY\n",
        ")\n",
        "\n",
        "from langchain_community.tools.tavily_search import TavilySearchResults\n",
        "tavily_search = TavilySearchResults(max_results=2)\n",
        "# llm.invoke(\"greet me\")\n",
        "# tavily_search.invoke(\"What's a 'node' in LangGraph?\")"
      ]
    },
    {
      "cell_type": "code",
      "execution_count": null,
      "metadata": {
        "colab": {
          "base_uri": "https://localhost:8080/",
          "height": 491
        },
        "id": "v2NFxg2BG610",
        "outputId": "663ba888-5c47-4f50-d61e-69c459344bf0"
      },
      "outputs": [
        {
          "output_type": "display_data",
          "data": {
            "image/png": "[encoded data removed]",
            "text/plain": [
              "<IPython.core.display.Image object>"
            ]
          },
          "metadata": {}
        }
      ],
      "source": [
        "from typing import Annotated\n",
        "from typing_extensions import TypedDict\n",
        "from langgraph.graph import StateGraph, START, END\n",
        "from langgraph.graph.message import add_messages\n",
        "from langchain_core.messages import HumanMessage, AIMessage, AnyMessage, SystemMessage, RemoveMessage\n",
        "from langgraph.errors import NodeInterrupt\n",
        "from IPython.display import Image, display\n",
        "from langgraph.graph.state import CompiledStateGraph\n",
        "from langgraph.checkpoint.memory import MemorySaver\n",
        "\n",
        "# Define the State class to manage the state transitions\n",
        "class State(TypedDict):\n",
        "    user_query: Annotated[list[AnyMessage], add_messages]  # Stores user input messages\n",
        "    response: Annotated[list[AnyMessage], add_messages]  # Stores assistant responses\n",
        "    summary: str  # Stores a summary of the conversation\n",
        "\n",
        "# Initialize a state graph builder\n",
        "graph_builder = StateGraph(State)\n",
        "\n",
        "# Define tool: Health Tips\n",
        "def health_tips(state: State) -> State:\n",
        "    \"\"\"Provide health tips using Tavily Search.\"\"\"\n",
        "    user_query = state['user_query'][-1].content  # Extract user query\n",
        "    tavily_response = tavily_search.invoke(user_query)  # Call Tavily Search API\n",
        "    print(\"Tavily_response: \", tavily_response)\n",
        "    formatted_response = \"\\n\\n\".join(\n",
        "            f\"- (Source: {item.get('url', 'No URL')}) {item.get('content', 'No content')}\\n  \"\n",
        "            for item in tavily_response\n",
        "        )\n",
        "    print(\"Here are some health tips: \\n\")\n",
        "    return {\"response\": [AIMessage(content=formatted_response)]}  # Return the response\n",
        "\n",
        "# Define tool: Medical FAQs\n",
        "def medical_faqs(state: State) -> State:\n",
        "    \"\"\"Provide medical FAQs for a given condition using Tavily Search.\"\"\"\n",
        "    user_query = state['user_query'][-1].content  # Extract user query\n",
        "    query = f\"Medical FAQs about: {user_query}\"\n",
        "    tavily_response = tavily_search.invoke(query)  # Call Tavily Search API\n",
        "    formatted_response = \"\\n\\n\".join(\n",
        "            f\"- (Source: {item.get('url', 'No URL')}) {item.get('content', 'No content')}\\n  \"\n",
        "            for item in tavily_response\n",
        "        )\n",
        "    print(\"Here are some FAQs: \\n\")\n",
        "    return {\"response\": [AIMessage(content=formatted_response)]}  # Return the response\n",
        "\n",
        "# Define tool: Medication Info\n",
        "def medication_info(state: State) -> State:\n",
        "    \"\"\"Provide information about medications.\"\"\"\n",
        "    user_query = state['user_query'][-1].content  # Extract user query\n",
        "    query = f\"Medication information for: {user_query}\"\n",
        "    tavily_response = tavily_search.invoke(query)  # Call Tavily Search API\n",
        "    formatted_response = \"\\n\\n\".join(\n",
        "            f\"- (Source: {item.get('url', 'No URL')}) {item.get('content', 'No content')}\\n  \"\n",
        "            for item in tavily_response\n",
        "        )\n",
        "    print(\"Here is some information about the medication:\\n\")\n",
        "    return {\"response\": [AIMessage(content=formatted_response)]}  # Return the response\n",
        "\n",
        "# Define tool: General Query Handler\n",
        "def general_query_handler(state: State) -> State:\n",
        "    \"\"\"Handle general queries unrelated to medical topics.\"\"\"\n",
        "    user_query = state['user_query'][-1].content  # Extract user query\n",
        "    response = (f\"It seems like your query is unrelated to medical topics. \"\n",
        "                f\"Here's a general response to '{user_query}': I'm here to help, \"\n",
        "                \"but I specialize in health-related queries. Could you clarify or ask something health-related?\")\n",
        "    return {\"response\": [response]}  # Return the response\n",
        "\n",
        "# List of tools\n",
        "tools = [health_tips, medical_faqs, medication_info, general_query_handler]\n",
        "\n",
        "# Bind tools to the LLM\n",
        "llm_with_tools = llm.bind_tools(tools)\n",
        "\n",
        "# Define a system message to guide the assistant\n",
        "sys_msg = SystemMessage(content=\"You are a helpful assistant tasked with helping users with their medical queries.\"\n",
        "                        \"Return tool call if user's query is related to any tool mentioned.\"\n",
        "                        \"If you need more details to decide reply 'Can you clarify?'\")\n",
        "\n",
        "# Define the assistant node\n",
        "def assistant(state: State) -> State:\n",
        "    \"\"\"Generate a response from the assistant using the LLM and tools.\"\"\"\n",
        "    response = llm_with_tools.invoke([sys_msg] + state[\"user_query\"])  # Get response from the LLM\n",
        "    print(\"Response from llm: \", response)\n",
        "    if \"Can you clarify?\" in response.content:\n",
        "        raise NodeInterrupt(f\"Received input is not clear: {state['user_query']}\")\n",
        "    return {\"response\": [response]}  # Return the response\n",
        "\n",
        "# Define tool calling logic\n",
        "def tool_calling(state: State):\n",
        "    \"\"\"Determine the next tool to call based on model responses.\"\"\"\n",
        "    try:\n",
        "        if state['response'] and hasattr(state['response'][-1], 'tool_calls') and len(state['response'][-1].tool_calls) > 0:\n",
        "            tool_name = state['response'][-1].tool_calls[-1].get(\"name\", None)  # Extract tool name\n",
        "            if tool_name:\n",
        "                return tool_name  # Call the specific tool\n",
        "        return \"summarize_conversation\"  # Transition to summarization if no tool is specified\n",
        "    except Exception as e:\n",
        "        print(f\"[ERROR in tool_calling]: {e}\")\n",
        "        return \"summarize_conversation\"  # Default to summarization on error\n",
        "\n",
        "# Define the summarize conversation logic\n",
        "def summarize_conversation(state: State) -> State:\n",
        "    \"\"\"Summarize the conversation so far.\"\"\"\n",
        "    # Get the existing summary (if any)\n",
        "    summary = state.get(\"summary\", \"\")\n",
        "\n",
        "    # Create the summarization prompt\n",
        "    if summary:\n",
        "        summary_message = (\n",
        "            f\"This is summary of the conversation to date: {summary}\\n\\n\"\n",
        "            \"Extend the summary by taking into account the new messages above:\"\n",
        "        )\n",
        "    else:\n",
        "        summary_message = \"Create a summary of the conversation above:\"\n",
        "\n",
        "    # Add the summarization prompt to the history\n",
        "    messages = state[\"user_query\"] + state[\"response\"] + [HumanMessage(content=summary_message)]\n",
        "\n",
        "    # Filter valid messages (non-empty content)\n",
        "    valid_messages = [\n",
        "        message for message in messages\n",
        "        if hasattr(message, 'content') and message.content  # Ensure 'content' exists and is not empty\n",
        "    ]\n",
        "\n",
        "    # Get the response from the LLM\n",
        "    response = llm.invoke(valid_messages)\n",
        "\n",
        "    # Create RemoveMessage objects for all but the two most recent messages\n",
        "    delete_messages = [RemoveMessage(id=m.id) for m in state[\"user_query\"][:-1] + state[\"response\"][:-1]]\n",
        "\n",
        "    # Return the updated state\n",
        "    return {\n",
        "        \"summary\": str(response.content),  # Update the summary\n",
        "        \"response\": [state[\"response\"][-1]],  # Keep only the summarization response\n",
        "    }\n",
        "\n",
        "# Initialize the state graph builder\n",
        "builder: StateGraph = StateGraph(State)\n",
        "\n",
        "# Define nodes in the graph\n",
        "builder.add_node(\"assistant\", assistant)\n",
        "builder.add_node(\"health_tips\", health_tips)\n",
        "builder.add_node(\"medical_faqs\", medical_faqs)\n",
        "builder.add_node(\"medication_info\", medication_info)\n",
        "builder.add_node(\"general_query_handler\", general_query_handler)\n",
        "builder.add_node(\"summarize_conversation\", summarize_conversation)\n",
        "\n",
        "# Define edges in the graph\n",
        "builder.add_edge(START, \"assistant\")  # Start with the assistant node\n",
        "builder.add_conditional_edges(\"assistant\", tool_calling)  # Add conditional edges for tool calling\n",
        "\n",
        "# Tools transition to summarize_conversation\n",
        "builder.add_edge(\"health_tips\", \"summarize_conversation\")\n",
        "builder.add_edge(\"medical_faqs\", \"summarize_conversation\")\n",
        "builder.add_edge(\"medication_info\", \"summarize_conversation\")\n",
        "builder.add_edge(\"general_query_handler\", \"summarize_conversation\")\n",
        "\n",
        "# Summarize conversation transitions to END\n",
        "builder.add_edge(\"summarize_conversation\", END)\n",
        "\n",
        "# Initialize memory to save conversation\n",
        "memory: MemorySaver = MemorySaver()\n",
        "\n",
        "# Compile the state graph\n",
        "graph: CompiledStateGraph = builder.compile(interrupt_before = [\"summarize_conversation\"], checkpointer=memory)\n",
        "\n",
        "# Visualize the graph\n",
        "display(Image(graph.get_graph(xray=True).draw_mermaid_png()))\n"
      ]
    },
    {
      "cell_type": "code",
      "execution_count": null,
      "metadata": {
        "id": "nyzNqaQkUvDo"
      },
      "outputs": [],
      "source": [
        "# Specify a thread configuration\n",
        "config = {\"configurable\": {\"thread_id\": \"1\"}}"
      ]
    },
    {
      "cell_type": "code",
      "execution_count": null,
      "metadata": {
        "id": "3YUwum7mtMSR"
      },
      "outputs": [],
      "source": [
        "# # Main interaction loop\n",
        "\n",
        "exit = True\n",
        "while exit:\n",
        "    user_input = input(\"Welcome to HealthHub! How can I assist you today? (type 'quit', 'exit', 'q' to exit): \")\n",
        "    if user_input.lower() in [\"quit\", \"exit\", \"q\"]:\n",
        "        print(\"Goodbye! Stay healthy and take care!\")\n",
        "        break\n",
        "\n",
        "\n",
        "    for result in graph.stream({\"user_query\": user_input}, config, stream_mode=\"updates\"):\n",
        "        print(\"Result:\", result)\n",
        "        if \"__interrupt__\" in result and result[\"__interrupt__\"] and \"Received input is not clear\" in result[\"__interrupt__\"][-1].value: # Check if '__interrupt__' key exists and is not empty\n",
        "            user_input_clear = input(\"Kindly explain your query? (type 'quit', 'exit', 'q' to exit): \")\n",
        "            if user_input_clear.lower() in [\"quit\", \"exit\", \"q\"]:\n",
        "                print(\"Goodbye! Stay healthy and take care!\")\n",
        "                exit = False\n",
        "                break\n",
        "            graph.update_state(config, {\"user_query\": user_input + user_input_clear})\n",
        "            for result in graph.stream(None, config, stream_mode=\"updates\"):\n",
        "                print(\"Internal Result:\", result)\n",
        "        if \"__interrupt__\" in result:\n",
        "            while True:\n",
        "                # Get user feedback\n",
        "                user_approval = input(\"Are you satisfied with the response? (yes/no): \")\n",
        "                # Check approval\n",
        "                if user_approval.lower() == \"yes\":\n",
        "                    # If approved, continue the graph execution\n",
        "                    for result in graph.stream(None, config, stream_mode=\"updates\"):\n",
        "                        print(\"Result in second interrupt:\", result)\n",
        "                    break\n",
        "\n",
        "                elif user_approval.lower() == \"no\":\n",
        "                    user_input_detail = input(\"Kinly provide more details? (type 'quit', 'exit', 'q' to exit): \")\n",
        "                    if user_input_detail.lower() in [\"quit\", \"exit\", \"q\"]:\n",
        "                        print(\"Goodbye! Stay healthy and take care!\")\n",
        "                        exit = False\n",
        "                        break\n",
        "                    # Conditionally concatenate user_input_clear if it exists\n",
        "                    if user_input_clear:\n",
        "                        user_input_detail = f\"{user_input_clear} {user_input_detail}\"\n",
        "                    for result in graph.stream({\"user_query\": user_input + user_input_detail }, config, stream_mode=\"updates\"):\n",
        "                        print(\"Result in second interrupt:\", result)\n",
        "\n",
        "                else:\n",
        "                    print(\"Invalid input. Please enter 'yes' or 'no'.\")\n",
        "\n",
        "\n",
        "\n"
      ]
    },
    {
      "cell_type": "markdown",
      "metadata": {
        "id": "max9AIUnumK6"
      },
      "source": []
    },
    {
      "cell_type": "code",
      "execution_count": null,
      "metadata": {
        "id": "d6Ue-NVbTP2G",
        "colab": {
          "base_uri": "https://localhost:8080/"
        },
        "outputId": "a1a262e3-c2de-4912-f561-1bbc7c6395b1"
      },
      "outputs": [
        {
          "output_type": "execute_result",
          "data": {
            "text/plain": [
              "StateSnapshot(values={'user_query': [HumanMessage(content='What can I do about pain?', additional_kwargs={}, response_metadata={}, id='542c049f-bab3-422e-a145-ab74f5675626'), HumanMessage(content='What can I do about pain in my head?', additional_kwargs={}, response_metadata={}, id='cb9c360f-ee51-4a02-85da-f0a59bcfdb32'), HumanMessage(content='What are the best practices for staying healthy during flu season?', additional_kwargs={}, response_metadata={}, id='f268fcf6-8278-4d05-875d-2eb2f5fe1682'), HumanMessage(content='What can I do about pain?', additional_kwargs={}, response_metadata={}, id='9900966b-c71b-44d4-92b7-0dfa9acda030'), HumanMessage(content='Can you provide FAQs about hypertension?', additional_kwargs={}, response_metadata={}, id='706978e5-13b4-49fa-ab27-bcb299ae2acf'), HumanMessage(content='Can you provide FAQs about hypertension?', additional_kwargs={}, response_metadata={}, id='4a099be3-2553-47db-be52-62a0adbbcacb'), HumanMessage(content='Can you provide FAQs about hypertension?', additional_kwargs={}, response_metadata={}, id='3764a22c-0dec-4668-879d-57212ef80e23'), HumanMessage(content='Tell me about exercises.', additional_kwargs={}, response_metadata={}, id='5ca07222-f448-4def-8205-e41d8ffcb55a'), HumanMessage(content='Tell me about the side effects of Metformin.', additional_kwargs={}, response_metadata={}, id='a7fbeaa7-ce80-4e5c-a050-cd9a915e0377')], 'response': [AIMessage(content='', additional_kwargs={'function_call': {'name': 'health_tips', 'arguments': '{\"state\": \"unknown\"}'}}, response_metadata={'prompt_feedback': {'block_reason': 0, 'safety_ratings': []}, 'finish_reason': 'STOP', 'safety_ratings': []}, id='run-e6307a75-3bb8-425e-81ed-95f5951e740e-0', tool_calls=[{'name': 'health_tips', 'args': {'state': 'unknown'}, 'id': '3b4a2c11-85c8-4be3-a972-f62f5c27cad7', 'type': 'tool_call'}], usage_metadata={'input_tokens': 525, 'output_tokens': 5, 'total_tokens': 530, 'input_token_details': {'cache_read': 0}}), AIMessage(content=\"- (Source: https://www.health.com/expert-health-tips-cold-flu-season-8303193) During cold and flu season it's important to consume a diet full of vegetables, fruits, whole grains, lean meats, and dairy since these foods are known to fight infections, explained Jhaveri.\\n  \\n\\n- (Source: https://www.ucsfhealth.org/education/8-ways-to-stay-healthy-this-flu-season) Get a flu shot. See a list of UCSF clinics that offer flu shots to their patients. If you have a fever or flu symptoms, don't go to school or work. Stay home for at least 24 hours after your fever is gone, unless you need medical care. Cover your mouth and nose with a tissue, not your hands, when coughing or sneezing.\\n  \", additional_kwargs={}, response_metadata={}, id='cd5757ca-566d-49dd-b235-569b9d354e49'), AIMessage(content='', additional_kwargs={'function_call': {'name': 'medical_faqs', 'arguments': '{\"state\": \"unknown\"}'}}, response_metadata={'prompt_feedback': {'block_reason': 0, 'safety_ratings': []}, 'finish_reason': 'STOP', 'safety_ratings': []}, id='run-f18155d7-e883-4735-9ce7-b8e6173ed9e1-0', tool_calls=[{'name': 'medical_faqs', 'args': {'state': 'unknown'}, 'id': '83f6b152-aeba-429a-8579-623a08dea707', 'type': 'tool_call'}], usage_metadata={'input_tokens': 541, 'output_tokens': 5, 'total_tokens': 546, 'input_token_details': {'cache_read': 0}}), AIMessage(content='- (Source: https://www.med.unc.edu/medicine/nephrology-hypertension/patient-care/clinical-services/hypertension/patient-education/understanding-hypertension/) Your health care provider can answer any questions you have. It will take time to make changes. ... Hypertension is the medical term for high blood pressure. What is blood pressure? Blood pressure refers to the pressure that blood applies to the inner walls of the arteries. Arteries carry blood from the heart to other organs and parts of the body.\\n  \\n\\n- (Source: https://www.acc.org/guidelines/hubs/high-blood-pressure/frequently-asked-questions) Maintain your knowledge of the High Blood Pressure Guideline with these helpful FAQs! These questions have been derived from the Key Points to Remember from the 2017 Guideline for the Prevention, Detection, Evaluation, and Management of High Blood Pressure in Adults and translated into bite-sized pieces highlighting the most important pieces of the guideline.\\n  ', additional_kwargs={}, response_metadata={}, id='ce2240b1-d522-4482-aa94-2e54d7995466'), AIMessage(content='', additional_kwargs={'function_call': {'name': 'medical_faqs', 'arguments': '{\"state\": \"unknown\"}'}}, response_metadata={'prompt_feedback': {'block_reason': 0, 'safety_ratings': []}, 'finish_reason': 'STOP', 'safety_ratings': []}, id='run-36f2be63-08b3-4301-983e-83e32ecbb9b6-0', tool_calls=[{'name': 'medical_faqs', 'args': {'state': 'unknown'}, 'id': 'ef834c23-aa07-46b3-8677-303ea6d36570', 'type': 'tool_call'}], usage_metadata={'input_tokens': 549, 'output_tokens': 5, 'total_tokens': 554, 'input_token_details': {'cache_read': 0}}), AIMessage(content='', additional_kwargs={'function_call': {'name': 'medical_faqs', 'arguments': '{\"state\": \"unknown\"}'}}, response_metadata={'prompt_feedback': {'block_reason': 0, 'safety_ratings': []}, 'finish_reason': 'STOP', 'safety_ratings': []}, id='run-e4fde1b6-a3de-4edc-b98a-ac88d32e3baa-0', tool_calls=[{'name': 'medical_faqs', 'args': {'state': 'unknown'}, 'id': '6a80f461-058b-4bfb-aff4-b3b9a0f7b871', 'type': 'tool_call'}], usage_metadata={'input_tokens': 557, 'output_tokens': 5, 'total_tokens': 562, 'input_token_details': {'cache_read': 0}}), AIMessage(content='- (Source: https://hypertensioninstitute.com/faqs/) Frequently Asked Questions (FAQs) at the Hypertension Institute of Nashville, TN. Located at St. Thomas West Hospital ... (85 grams) a day, which is the amount shown in studies to be helpful. Because this amount may provide up to 450 calories, you may want to cut calories in other areas or step up the exercise to compensate. ... If you have\\n  \\n\\n- (Source: https://www.clinicbarcelona.org/en/assistance/diseases/high-blood-pressure/frequently-asked-questions) Frequently asked questions about High Blood Pressure | Hospital Clínic Barcelona High Blood Pressure  High Blood Pressure  High Blood Pressure High Blood Pressure High Blood Pressure Frequently asked questions I have high blood pressure; will my children also have hypertension? Weight control is one of the most important factors in the treatment of high blood pressure. Patients with hypertension do not usually present any symptoms, even with very high blood pressure values. Only high blood pressure due to another medical condition (secondary hypertension) can be cured, but not always, if the underlying disease is resolved. If high blood pressure is not reduced to normal values, then it can cause damage to the brain, heart, eyes or kidneys. High Blood Pressure related news\\n  ', additional_kwargs={}, response_metadata={}, id='363c9ec4-51ab-4171-8019-5a3577b45cfd'), AIMessage(content='', additional_kwargs={'function_call': {'name': 'medication_info', 'arguments': '{\"state\": {\"user_query\": [\"Tell me about the side effects of Metformin.\"], \"response\": [], \"summary\": \"\"}}'}}, response_metadata={'prompt_feedback': {'block_reason': 0, 'safety_ratings': []}, 'finish_reason': 'STOP', 'safety_ratings': []}, id='run-d5c8dbe7-db4a-42e0-a0c9-d1ffa46d47a0-0', tool_calls=[{'name': 'medication_info', 'args': {'state': {'user_query': ['Tell me about the side effects of Metformin.'], 'response': [], 'summary': ''}}, 'id': '65c1c57d-36b6-436c-a3b9-31c4f92e6458', 'type': 'tool_call'}], usage_metadata={'input_tokens': 574, 'output_tokens': 19, 'total_tokens': 593, 'input_token_details': {'cache_read': 0}}), AIMessage(content='- (Source: https://www.drugs.com/sfx/metformin-side-effects.html) Adverse events in the pediatric population appear to be similar in nature and severity to that published in adults.[Ref]\\nMetabolic\\nCommon (1% to 10%): Hypoglycemia\\nVery rare (less than 0.01%): Lactic acidosis[Ref]\\nGastrointestinal\\nVery common (10% or more): Diarrhea (53.2%), nausea/vomiting (25.5%), flatulence (12.1%)\\nCommon (1% to 10%): Indigestion, abdominal discomfort, abnormal stools, dyspepsia, loss of appetite[Ref]\\nHematologic\\nVery rare (less than 0.01%): Subnormal vitamin B12 levels[Ref]\\nOther\\nCommon (1% to 10%): Asthenia, chills, flu syndrome, accidental injury[Ref]\\nHepatic\\nVery rare (less than 0.01%): Liver function test abnormalities, hepatitis[Ref]\\nCardiovascular\\nCommon (1% to 10%): Chest discomfort, flushing, palpitation[Ref]\\nDermatologic\\nCommon (1% to 10%): Rash, nail disorder, increased sweating\\nVery rare (less than 0.01%): Erythema, pruritus, urticaria[Ref]\\nEndocrine\\nFrequency not reported: Reduction in thyrotropin (TSH) levels[Ref]\\nImmunologic\\nVery common (10% or more): Infection (20.5%)[Ref]\\nMusculoskeletal\\nCommon (1% to 10%): Myalgia[Ref]\\nNervous system\\nCommon (1% to 10%): Lightheadedness, taste disturbances[Ref]\\nPsychiatric\\nCommon (1% to 10%): Headache[Ref]\\nRespiratory\\nCommon (1% to 10%): Rhinitis[Ref]\\nFrequently asked questions\\nMore about metformin\\nPatient resources\\nGlucophage, Glucophage XR, Glumetza, Fortamet, ... Check with your health care professional if any of the following side effects continue or are bothersome or if you have any questions about them:\\nMore common\\nLess common\\nFor Healthcare Professionals\\nApplies to metformin: compounding powder, oral solution, oral suspension extended release, oral tablet, oral tablet extended release.\\n Check with your doctor immediately if any of the following side effects occur while taking metformin:\\nMore common\\nLess common\\nRare\\nOther side effects of Metformin\\nSome side effects of metformin may occur that usually do not need medical attention.\\n  \\n\\n- (Source: https://www.drugs.com/metformin.html) Tell your doctor if you have ever had:\\nkidney disease (your kidney function may need to be checked before you take this medicine);\\nhigh ketone levels in your blood or urine;\\nheart disease, congestive heart failure;\\nliver disease; or\\nif you also use insulin, or other oral diabetes medications.\\n Before taking this medicine\\nYou should not use metformin if you are allergic to it, or if you have:\\nsevere kidney disease; or\\nmetabolic acidosis or diabetic ketoacidosis (call your doctor for treatment).\\n Get emergency medical help if you have even mild symptoms such as:\\nunusual muscle pain;\\nfeeling cold;\\ntrouble breathing;\\nfeeling dizzy, light-headed, tired, or very weak;\\nstomach pain, vomiting; or\\nslow or irregular heart rate.\\n +2 more\\nProfessional resources\\nRelated treatment guides\\nFurther information\\nRemember, keep this and all other medicines out of the reach of children, never share your medicines with others, and use metformin only for the indication prescribed.\\n Metformin side effects\\nGet emergency medical help if you have signs of an allergic reaction to metformin: hives; difficult breathing; swelling of your face, lips, tongue, or throat.\\n\\n  ', additional_kwargs={}, response_metadata={}, id='1e9ace95-50e6-44b3-a1c6-6222b2892a40')]}, next=('summarize_conversation',), config={'configurable': {'thread_id': '1', 'checkpoint_ns': '', 'checkpoint_id': '1efdcafd-2eca-62d7-8015-c7d1ced03a49'}}, metadata={'source': 'loop', 'writes': {'medication_info': {'response': [AIMessage(content='- (Source: https://www.drugs.com/sfx/metformin-side-effects.html) Adverse events in the pediatric population appear to be similar in nature and severity to that published in adults.[Ref]\\nMetabolic\\nCommon (1% to 10%): Hypoglycemia\\nVery rare (less than 0.01%): Lactic acidosis[Ref]\\nGastrointestinal\\nVery common (10% or more): Diarrhea (53.2%), nausea/vomiting (25.5%), flatulence (12.1%)\\nCommon (1% to 10%): Indigestion, abdominal discomfort, abnormal stools, dyspepsia, loss of appetite[Ref]\\nHematologic\\nVery rare (less than 0.01%): Subnormal vitamin B12 levels[Ref]\\nOther\\nCommon (1% to 10%): Asthenia, chills, flu syndrome, accidental injury[Ref]\\nHepatic\\nVery rare (less than 0.01%): Liver function test abnormalities, hepatitis[Ref]\\nCardiovascular\\nCommon (1% to 10%): Chest discomfort, flushing, palpitation[Ref]\\nDermatologic\\nCommon (1% to 10%): Rash, nail disorder, increased sweating\\nVery rare (less than 0.01%): Erythema, pruritus, urticaria[Ref]\\nEndocrine\\nFrequency not reported: Reduction in thyrotropin (TSH) levels[Ref]\\nImmunologic\\nVery common (10% or more): Infection (20.5%)[Ref]\\nMusculoskeletal\\nCommon (1% to 10%): Myalgia[Ref]\\nNervous system\\nCommon (1% to 10%): Lightheadedness, taste disturbances[Ref]\\nPsychiatric\\nCommon (1% to 10%): Headache[Ref]\\nRespiratory\\nCommon (1% to 10%): Rhinitis[Ref]\\nFrequently asked questions\\nMore about metformin\\nPatient resources\\nGlucophage, Glucophage XR, Glumetza, Fortamet, ... Check with your health care professional if any of the following side effects continue or are bothersome or if you have any questions about them:\\nMore common\\nLess common\\nFor Healthcare Professionals\\nApplies to metformin: compounding powder, oral solution, oral suspension extended release, oral tablet, oral tablet extended release.\\n Check with your doctor immediately if any of the following side effects occur while taking metformin:\\nMore common\\nLess common\\nRare\\nOther side effects of Metformin\\nSome side effects of metformin may occur that usually do not need medical attention.\\n  \\n\\n- (Source: https://www.drugs.com/metformin.html) Tell your doctor if you have ever had:\\nkidney disease (your kidney function may need to be checked before you take this medicine);\\nhigh ketone levels in your blood or urine;\\nheart disease, congestive heart failure;\\nliver disease; or\\nif you also use insulin, or other oral diabetes medications.\\n Before taking this medicine\\nYou should not use metformin if you are allergic to it, or if you have:\\nsevere kidney disease; or\\nmetabolic acidosis or diabetic ketoacidosis (call your doctor for treatment).\\n Get emergency medical help if you have even mild symptoms such as:\\nunusual muscle pain;\\nfeeling cold;\\ntrouble breathing;\\nfeeling dizzy, light-headed, tired, or very weak;\\nstomach pain, vomiting; or\\nslow or irregular heart rate.\\n +2 more\\nProfessional resources\\nRelated treatment guides\\nFurther information\\nRemember, keep this and all other medicines out of the reach of children, never share your medicines with others, and use metformin only for the indication prescribed.\\n Metformin side effects\\nGet emergency medical help if you have signs of an allergic reaction to metformin: hives; difficult breathing; swelling of your face, lips, tongue, or throat.\\n\\n  ', additional_kwargs={}, response_metadata={}, id='1e9ace95-50e6-44b3-a1c6-6222b2892a40')]}}, 'thread_id': '1', 'step': 21, 'parents': {}}, created_at='2025-01-27T13:08:38.788548+00:00', parent_config={'configurable': {'thread_id': '1', 'checkpoint_ns': '', 'checkpoint_id': '1efdcafd-1ab7-6227-8014-214824203ed5'}}, tasks=(PregelTask(id='1c00d9da-7ab4-9919-2a11-72deba7f2f8d', name='summarize_conversation', path=('__pregel_pull', 'summarize_conversation'), error=None, interrupts=(), state=None, result=None),))"
            ]
          },
          "metadata": {},
          "execution_count": 17
        }
      ],
      "source": [
        "snapshot = graph.get_state(config)\n",
        "snapshot"
      ]
    },
    {
      "cell_type": "code",
      "source": [
        "snapshot.next"
      ],
      "metadata": {
        "colab": {
          "base_uri": "https://localhost:8080/"
        },
        "id": "jlmA9oN7wKjK",
        "outputId": "2b773d73-bb03-434b-9450-198fd16f4739"
      },
      "execution_count": null,
      "outputs": [
        {
          "output_type": "execute_result",
          "data": {
            "text/plain": [
              "('summarize_conversation',)"
            ]
          },
          "metadata": {},
          "execution_count": 18
        }
      ]
    },
    {
      "cell_type": "code",
      "source": [
        "graph.update_state(config,{\"user_query\": \"What are the best practices for staying healthy during flu season?\"})\n",
        "for result1 in graph.stream(None, config, stream_mode=\"updates\"):\n",
        "    print(\"Inrernal Result: \", result1)"
      ],
      "metadata": {
        "colab": {
          "base_uri": "https://localhost:8080/"
        },
        "id": "gaD5lZdM8D8N",
        "outputId": "0679c13c-402c-4125-ffbe-45a009febb41"
      },
      "execution_count": null,
      "outputs": [
        {
          "output_type": "stream",
          "name": "stdout",
          "text": [
            "Response from llm:  content='' additional_kwargs={'function_call': {'name': 'health_tips', 'arguments': '{\"state\": \"unknown\"}'}} response_metadata={'prompt_feedback': {'block_reason': 0, 'safety_ratings': []}, 'finish_reason': 'STOP', 'safety_ratings': []} id='run-e6307a75-3bb8-425e-81ed-95f5951e740e-0' tool_calls=[{'name': 'health_tips', 'args': {'state': 'unknown'}, 'id': '3b4a2c11-85c8-4be3-a972-f62f5c27cad7', 'type': 'tool_call'}] usage_metadata={'input_tokens': 525, 'output_tokens': 5, 'total_tokens': 530, 'input_token_details': {'cache_read': 0}}\n",
            "Inrernal Result:  {'assistant': {'response': [AIMessage(content='', additional_kwargs={'function_call': {'name': 'health_tips', 'arguments': '{\"state\": \"unknown\"}'}}, response_metadata={'prompt_feedback': {'block_reason': 0, 'safety_ratings': []}, 'finish_reason': 'STOP', 'safety_ratings': []}, id='run-e6307a75-3bb8-425e-81ed-95f5951e740e-0', tool_calls=[{'name': 'health_tips', 'args': {'state': 'unknown'}, 'id': '3b4a2c11-85c8-4be3-a972-f62f5c27cad7', 'type': 'tool_call'}], usage_metadata={'input_tokens': 525, 'output_tokens': 5, 'total_tokens': 530, 'input_token_details': {'cache_read': 0}})]}}\n",
            "Here are some health tips: \n",
            "\n",
            "Inrernal Result:  {'health_tips': {'response': [AIMessage(content=\"- (Source: https://www.health.com/expert-health-tips-cold-flu-season-8303193) During cold and flu season it's important to consume a diet full of vegetables, fruits, whole grains, lean meats, and dairy since these foods are known to fight infections, explained Jhaveri.\\n  \\n\\n- (Source: https://www.ucsfhealth.org/education/8-ways-to-stay-healthy-this-flu-season) Get a flu shot. See a list of UCSF clinics that offer flu shots to their patients. If you have a fever or flu symptoms, don't go to school or work. Stay home for at least 24 hours after your fever is gone, unless you need medical care. Cover your mouth and nose with a tissue, not your hands, when coughing or sneezing.\\n  \", additional_kwargs={}, response_metadata={}, id='cd5757ca-566d-49dd-b235-569b9d354e49')]}}\n",
            "Inrernal Result:  {'__interrupt__': ()}\n"
          ]
        }
      ]
    },
    {
      "cell_type": "code",
      "execution_count": null,
      "metadata": {
        "id": "rVzuJY5niCRg",
        "colab": {
          "base_uri": "https://localhost:8080/",
          "height": 127
        },
        "outputId": "87d18117-2403-4f15-b1ba-80b33389bc09"
      },
      "outputs": [
        {
          "output_type": "execute_result",
          "data": {
            "text/plain": [
              "\"[{'url': 'https://www.goodrx.com/metformin/metformin-side-effects', 'content': 'Common metformin side effects include diarrhea, nausea and vomiting, and fatigue. Weight loss and low B12 levels may also occur. Usually, metformin side effects are temporary and can be managed at home. However serious risks, such as very low blood glucose (hypoglycemia) and lactic acidosis, are possible.'}, {'url': 'https://www.drugs.com/sfx/metformin-side-effects.html', 'content': 'Adverse events in the pediatric population appear to be similar in nature and severity to that published in adults.[Ref]\\\\nMetabolic\\\\nCommon (1% to 10%): Hypoglycemia\\\\nVery rare (less than 0.01%): Lactic acidosis[Ref]\\\\nGastrointestinal\\\\nVery common (10% or more): Diarrhea (53.2%), nausea/vomiting (25.5%), flatulence (12.1%)\\\\nCommon (1% to 10%): Indigestion, abdominal discomfort, abnormal stools, dyspepsia, loss of appetite[Ref]\\\\nHematologic\\\\nVery rare (less than 0.01%): Subnormal vitamin B12 levels[Ref]\\\\nOther\\\\nCommon (1% to 10%): Asthenia, chills, flu syndrome, accidental injury[Ref]\\\\nHepatic\\\\nVery rare (less than 0.01%): Liver function test abnormalities, hepatitis[Ref]\\\\nCardiovascular\\\\nCommon (1% to 10%): Chest discomfort, flushing, palpitation[Ref]\\\\nDermatologic\\\\nCommon (1% to 10%): Rash, nail disorder, increased sweating\\\\nVery rare (less than 0.01%): Erythema, pruritus, urticaria[Ref]\\\\nEndocrine\\\\nFrequency not reported: Reduction in thyrotropin (TSH) levels[Ref]\\\\nImmunologic\\\\nVery common (10% or more): Infection (20.5%)[Ref]\\\\nMusculoskeletal\\\\nCommon (1% to 10%): Myalgia[Ref]\\\\nNervous system\\\\nCommon (1% to 10%): Lightheadedness, taste disturbances[Ref]\\\\nPsychiatric\\\\nCommon (1% to 10%): Headache[Ref]\\\\nRespiratory\\\\nCommon (1% to 10%): Rhinitis[Ref]\\\\nFrequently asked questions\\\\nMore about metformin\\\\nPatient resources\\\\nGlucophage, Glucophage XR, Glumetza, Fortamet, ... Check with your health care professional if any of the following side effects continue or are bothersome or if you have any questions about them:\\\\nMore common\\\\nLess common\\\\nFor Healthcare Professionals\\\\nApplies to metformin: compounding powder, oral solution, oral suspension extended release, oral tablet, oral tablet extended release.\\\\n Check with your doctor immediately if any of the following side effects occur while taking metformin:\\\\nMore common\\\\nLess common\\\\nRare\\\\nOther side effects of Metformin\\\\nSome side effects of metformin may occur that usually do not need medical attention.'}]\""
            ],
            "application/vnd.google.colaboratory.intrinsic+json": {
              "type": "string"
            }
          },
          "metadata": {},
          "execution_count": 26
        }
      ],
      "source": [
        "snapshot.values['response'][-1].content"
      ]
    },
    {
      "cell_type": "code",
      "execution_count": null,
      "metadata": {
        "id": "KzKIZZKRnyG5",
        "colab": {
          "base_uri": "https://localhost:8080/"
        },
        "outputId": "35e08e1b-efef-4b6d-8ca1-f1c3a75b257e"
      },
      "outputs": [
        {
          "output_type": "stream",
          "name": "stdout",
          "text": [
            "Mounted at /content/drive\n"
          ]
        }
      ],
      "source": [
        "from google.colab import drive\n",
        "drive.mount('/content/drive')"
      ]
    }
  ],
  "metadata": {
    "accelerator": "GPU",
    "colab": {
      "gpuType": "T4",
      "provenance": [],
      "include_colab_link": true
    },
    "kernelspec": {
      "display_name": "Python 3",
      "name": "python3"
    },
    "language_info": {
      "name": "python"
    }
  },
  "nbformat": 4,
  "nbformat_minor": 0
}