{
  "cells": [
    {
      "cell_type": "markdown",
      "metadata": {
        "id": "view-in-github",
        "colab_type": "text"
      },
      "source": [
        "<a href=\"https://colab.research.google.com/github/Alla-ud-din/Classes-Q3-Q4/blob/master/LangGraph/AGENTIC_PROJECTS/01_human_interactions_Command.ipynb\" target=\"_parent\"><img src=\"https://colab.research.google.com/assets/colab-badge.svg\" alt=\"Open In Colab\"/></a>"
      ]
    },
    {
      "cell_type": "markdown",
      "metadata": {
        "id": "gT-vFiMrl2KH"
      },
      "source": [
        "## **Project 01: User-Chat-Interactions**\n",
        "\n",
        "---\n",
        "\n",
        "### **Objective:**\n",
        "Make your chat-agent developed in 00_chat_agent smarter by allowing it to:\n",
        "1. Get help from a human assistant when needed.\n",
        "2. Pause and ask the user for extra information if something is unclear.\n",
        "3. Personalize its answers using long-term memory.\n",
        "4. Offloading conversation to Human\n",
        "\n",
        "**Note:** This project builds on the skills learned in Project 00 and prepares you for advanced Agentic AI features like dynamic workflows and user personalization.\n",
        "\n",
        "---\n",
        "\n",
        "### **Requirements:**\n",
        "\n",
        "1. **Human Assistant Interrupts (Static Interrupts):**\n",
        "   - Add a feature where your chatbot can **pause** and connect to a human assistant if needed.\n",
        "   - This can be a **static interrupt**—you decide when the chatbot needs help from a human.\n",
        "   - Example: If the chatbot can’t answer a question or doesn’t have enough information, it stops and sends the question to a human for assistance.\n",
        "\n",
        "**Reference Material:**\n",
        "- [Static Breakpoints](https://github.com/panaversity/learn-agentic-ai/blob/main/12_langchain_ecosystem/langgraph/course-notebooks/module-3/2_breakpoints.ipynb)\n",
        "\n",
        "2. **Ask the User for More Information (Dynamic Interrupts):**\n",
        "   - Make the chatbot smart enough to **pause its workflow** and ask the user for more information when it’s confused.\n",
        "   - Steps:\n",
        "     - Add a **decision step** after each user message.\n",
        "     - If the chatbot detects a question or needs more details, it pauses and asks the user to clarify.\n",
        "     - The user can:\n",
        "       - **Answer the question** to help the chatbot.\n",
        "       - **Skip the question** and let the chatbot guess the best answer.\n",
        "\n",
        "**Reference Material:**\n",
        "- [Dynamic Breakpoints](https://github.com/panaversity/learn-agentic-ai/blob/main/12_langchain_ecosystem/langgraph/course-notebooks/module-3/4_dynamic_breakpoints.ipynb)\n",
        "- [Editing State](https://github.com/panaversity/learn-agentic-ai/blob/main/12_langchain_ecosystem/langgraph/course-notebooks/module-3/3_edit_state_human_feedback.ipynb)\n",
        "\n",
        "3. **(Optional) Personalize Using Long-Term Memory:**\n",
        "   - Use a memory system to **save important details** about the user.\n",
        "   - Examples of what to remember:\n",
        "     - Preferences (e.g., favorite subjects, preferred clothing styles).\n",
        "     - Recurring needs (e.g., study schedules, favorite recipes).\n",
        "   - Use this memory to give **better and more personal answers** over time.\n",
        "\n",
        "**Tools:** Use **LangGraph Memory Store** to save and retrieve user data.\n",
        "\n",
        "**Reference Material:**\n",
        "- [Concept](https://langchain-ai.github.io/langgraph/concepts/memory/#long-term-memory)\n",
        "- [Memory Template](https://github.com/langchain-ai/memory-template)\n",
        "\n",
        "*Note:* This is an optional step. Focus on completing the first two requirements before attempting long-term memory integration if you feel confident.\n",
        "\n",
        "---\n",
        "\n",
        "### **Deliverables:**\n",
        "- A working chatbot prototype with:\n",
        "  1. Human assistant interrupts.\n",
        "  2. Dynamic user clarifications.\n",
        "  3. Long-term memory for personalization (Optional).\n",
        "\n",
        "---\n",
        "\n",
        "## **Submission Form**\n",
        "\n",
        "Submit your projects here:  \n",
        "[**Project Submission Form**](https://forms.gle/yB6X4TzE2dCVThCj8)\n",
        "\n",
        "---\n",
        "\n",
        "### **Example Scenarios:**\n",
        "\n",
        "1. **Human Assistant Interrupt:**\n",
        "   - User asks: *\"Can you help with tax calculations?\"*\n",
        "   - Chatbot: *\"Let me connect you to a human assistant for this question.\"*\n",
        "   \n",
        "2. **Dynamic Interrupt:**\n",
        "   - User asks: *\"Plan a study schedule for me.\"*\n",
        "   - Chatbot: *\"What is your next exam date? Should I include break times?\"*\n",
        "\n",
        "3. **Personalized Memory (Optional):**\n",
        "   - User: *\"What should I study today?\"*\n",
        "   - Chatbot: *\"Last time, you said your math exam is next week. Let’s focus on trigonometry today.\"*\n",
        "\n",
        "---\n",
        "\n",
        "### **Outcomes:**\n",
        "By completing this project, you will:\n",
        "1. Learn how to connect a chatbot with a human assistant.\n",
        "2. Understand how to make chatbots pause and ask for clarifications when needed.\n",
        "3. Use long-term memory to personalize chatbot responses."
      ]
    },
    {
      "cell_type": "code",
      "execution_count": 9,
      "metadata": {
        "id": "yU9nIgRiFzwO"
      },
      "outputs": [],
      "source": [
        "%%capture --no-stderr\n",
        "%pip install -U langgraph langsmith langchain_google_genai tavily-python langchain_community"
      ]
    },
    {
      "cell_type": "code",
      "execution_count": 10,
      "metadata": {
        "id": "ZAKddmjlGOWZ"
      },
      "outputs": [],
      "source": [
        "import os\n",
        "from google.colab import userdata\n",
        "\n",
        "os.environ[\"LANGCHAIN_API_KEY\"] = userdata.get('LANGCHAIN_API_KEY')\n",
        "os.environ[\"LANGCHAIN_TRACING_V2\"] = \"true\"\n",
        "os.environ[\"LANGCHAIN_PROJECT\"] = \"langchain-academy\"\n",
        "os.environ[\"TAVILY_API_KEY\"] = userdata.get(\"TAVILY_API_KEY\")\n",
        "\n",
        "GEMINI_API_KEY = userdata.get('GEMINI_API_KEY')"
      ]
    },
    {
      "cell_type": "code",
      "execution_count": 11,
      "metadata": {
        "id": "GYTnLIX1GU7S"
      },
      "outputs": [],
      "source": [
        "from langchain_google_genai import ChatGoogleGenerativeAI\n",
        "\n",
        "llm = ChatGoogleGenerativeAI(\n",
        "    model=\"gemini-2.0-flash\",\n",
        "    max_retries=2,\n",
        "    api_key=GEMINI_API_KEY\n",
        ")\n",
        "\n",
        "from langchain_community.tools.tavily_search import TavilySearchResults\n",
        "tavily_search = TavilySearchResults(max_results=1)\n",
        "# llm.invoke(\"greet me\")\n",
        "# tavily_search.invoke(\"What's a 'node' in LangGraph?\")"
      ]
    },
    {
      "cell_type": "code",
      "execution_count": 22,
      "metadata": {
        "id": "v2NFxg2BG610",
        "colab": {
          "base_uri": "https://localhost:8080/",
          "height": 407
        },
        "outputId": "28e25fa7-f1f2-4c73-c344-5a882cdc4d1f"
      },
      "outputs": [
        {
          "output_type": "display_data",
          "data": {
            "image/png": "[encoded data removed]",
            "text/plain": [
              "<IPython.core.display.Image object>"
            ]
          },
          "metadata": {}
        }
      ],
      "source": [
        "from typing import Annotated, Any, Literal\n",
        "from typing_extensions import TypedDict\n",
        "from langgraph.types import Command\n",
        "from langgraph.graph import StateGraph, START, END\n",
        "from langgraph.graph.message import add_messages\n",
        "from langchain_core.messages import HumanMessage, AIMessage, AnyMessage, SystemMessage, RemoveMessage\n",
        "from langgraph.errors import NodeInterrupt\n",
        "from IPython.display import Image, display\n",
        "from langgraph.graph.state import CompiledStateGraph\n",
        "from langgraph.checkpoint.memory import MemorySaver\n",
        "\n",
        "# Define the State class to manage the state transitions\n",
        "class State(TypedDict):\n",
        "    user_query: Annotated[list[AnyMessage], add_messages]  # Stores user input messages\n",
        "    response: Annotated[list[AnyMessage], add_messages]  # Stores assistant responses\n",
        "    summary: str  # Stores a summary of the conversation\n",
        "\n",
        "# Initialize a state graph builder\n",
        "graph_builder = StateGraph(State)\n",
        "\n",
        "# Define tool: Health Tips\n",
        "def health_tips(state: State) -> Command[Literal[\"summarize_conversation\"]]:\n",
        "    \"\"\"Provide health tips using Tavily Search.\"\"\"\n",
        "    user_query = state['user_query'][-1].content  # Extract user query\n",
        "    tavily_response = tavily_search.invoke(user_query)  # Call Tavily Search API\n",
        "    formatted_response = \"\\n\\n\".join(\n",
        "            f\"-  {item.get('content', 'No content')} Source: {item.get('url', 'No URL')}\\n  \"\n",
        "            for item in tavily_response\n",
        "        )\n",
        "    return Command (\n",
        "        update = {\"response\": [AIMessage(content=formatted_response)]},  # Return the response\n",
        "        goto = \"summarize_conversation\"\n",
        "        )\n",
        "\n",
        "# Define tool: Medical FAQs\n",
        "def medical_faqs(state: State) -> Command[Literal[\"summarize_conversation\"]]:\n",
        "    \"\"\"Provide medical FAQs for a given condition using Tavily Search.\"\"\"\n",
        "    user_query = state['user_query'][-1].content  # Extract user query\n",
        "    query = f\"Medical FAQs about: {user_query}\"\n",
        "    tavily_response = tavily_search.invoke(query)  # Call Tavily Search API\n",
        "    formatted_response = \"\\n\\n\".join(\n",
        "            f\"-  {item.get('content', 'No content')} Source: {item.get('url', 'No URL')}\\n  \"\n",
        "            for item in tavily_response\n",
        "        )\n",
        "    return Command (\n",
        "        update = {\"response\": [AIMessage(content=formatted_response)]},   # Return the response\n",
        "        goto = \"summarize_conversation\"\n",
        "    )\n",
        "\n",
        "# Define tool: Medication Info\n",
        "def medication_info(state: State) -> Command[Literal[\"summarize_conversation\"]]:\n",
        "    \"\"\"Provide information about medications.\"\"\"\n",
        "    user_query = state['user_query'][-1].content  # Extract user query\n",
        "    query = f\"Medication information for: {user_query}\"\n",
        "    tavily_response = tavily_search.invoke(query)  # Call Tavily Search API\n",
        "    formatted_response = \"\\n\\n\".join(\n",
        "            f\"-  {item.get('content', 'No content')} Source: {item.get('url', 'No URL')}\\n  \"\n",
        "            for item in tavily_response\n",
        "        )\n",
        "\n",
        "    return Command(\n",
        "        update = {\"response\": [AIMessage(content=formatted_response)]},   # Return the response\n",
        "        goto = \"summarize_conversation\"\n",
        "    )\n",
        "\n",
        "# Define tool: General Query Handler\n",
        "def general_query_handler(state: State) -> State:\n",
        "    \"\"\"Handle general queries unrelated to medical topics.\"\"\"\n",
        "    user_query = state['user_query'][-1].content  # Extract user query\n",
        "    response = (f\"It seems like your query is unrelated to medical topics. \"\n",
        "                f\"Here's a general response to '{user_query}': I'm here to help, \"\n",
        "                \"but I specialize in health-related queries. Could you clarify or ask something health-related?\")\n",
        "    return Command (\n",
        "        update = {\"response\": [SystemMessage(content=response)]},   # Return the response\n",
        "        goto = END\n",
        "    )\n",
        "\n",
        "# List of tools\n",
        "tools = [health_tips, medical_faqs, medication_info, general_query_handler]\n",
        "\n",
        "# Bind tools to the LLM\n",
        "llm_with_tools = llm.bind_tools(tools)\n",
        "\n",
        "\n",
        "prompt = f\"\"\"You are a helpful medical assistant designed to assist users with their health-related queries.\n",
        "          You have access to specialized tools for providing health tips, answering medical FAQs, giving medication information, and handling general medical inquiries.\n",
        "\n",
        "          - If a user's query falls under any of these categories, return the appropriate tool call.\n",
        "          - If a user's query is not related to health-related topics, call general_query_handler tool.\n",
        "          - If you need more details to determine the correct response, ask the user to clarify by replying: 'Can you clarify?'\n",
        "          - For general prompts like greetings, respond naturally without using a tool.\n",
        "          - If the user indicates they want to end the conversation, respond with 'END'.\n",
        "\n",
        "          Ensure accuracy and relevance in all responses while prioritizing user health and safety.\n",
        "          \"\"\"\n",
        "sys_msg = SystemMessage(content=prompt)\n",
        "# Define the assistant node\n",
        "def assistant(state: State) -> Command[Literal[\"health_tips\", \"medical_faqs\", \"medication_info\", \"general_query_handler\"]]:\n",
        "    \"\"\"Generate a response from the assistant using the LLM and tools.\"\"\"\n",
        "    # Get summary if it exists\n",
        "    summary = state.get(\"summary\", \"\")\n",
        "    # If there is summary, then we add it\n",
        "    if summary:\n",
        "        # Add summary to system message\n",
        "        system_message = f\"Summary of conversation earlier and prompt: Summary: {summary}\\n\\nPrompt: {sys_msg}\"\n",
        "        response = llm_with_tools.invoke([SystemMessage(content=system_message), state[\"user_query\"][-1]])  # Get response from the LLM\n",
        "    else:\n",
        "        response = llm_with_tools.invoke([sys_msg, state[\"user_query\"][-1]])  # Get response from the LLM\n",
        "    if \"Can you clarify?\" in response.content:\n",
        "        raise NodeInterrupt(f\"Received input is not clear: {state['user_query'][-1]}\")\n",
        "    if \"END\" in response.content:\n",
        "        goto = END\n",
        "    try:\n",
        "        if hasattr(response, 'tool_calls') and len(response.tool_calls) > 0:  # Check if tool_calls is present\n",
        "          # print(\"\\n\\nTool call present\", response.tool_calls[-1]['name'])\n",
        "          goto = response.tool_calls[-1]['name']\n",
        "        else:\n",
        "          goto = END\n",
        "    except Exception as e:\n",
        "        print(f\"[ERROR in tool_calling]: {e}\")\n",
        "        goto =  END  # Default to END on error\n",
        "    # print(\"Response in assistant: \", response.tool_calls)\n",
        "    return Command(\n",
        "        update = {\"response\": [response]},  # Return the response\n",
        "        goto = goto\n",
        "    )\n",
        "\n",
        "# Define tool calling logic\n",
        "# def tool_calling(state: State) -> Any:\n",
        "#     \"\"\"Determine the next tool to call based on model responses.\"\"\"\n",
        "#     if \"END\" in state['response'][-1].content:\n",
        "#       return END\n",
        "#     try:\n",
        "#         if state['response'] and hasattr(state['response'][-1], 'tool_calls') and len(state['response'][-1].tool_calls) > 0:\n",
        "#             tool_name = state['response'][-1].tool_calls[-1].get(\"name\", None)  # Extract tool name\n",
        "#             if tool_name:\n",
        "#                 return tool_name  # Call the specific tool\n",
        "#         return END  # If no tool is needed, go directly to END\n",
        "#     except Exception as e:\n",
        "#         print(f\"[ERROR in tool_calling]: {e}\")\n",
        "#         return END  # Default to END on error\n",
        "\n",
        "# Define the summarize conversation logic\n",
        "def summarize_conversation(state: State) -> State:\n",
        "    \"\"\"Summarize the conversation so far.\"\"\"\n",
        "    # Get the existing summary (if any)\n",
        "    summary = state.get(\"summary\", \"\")\n",
        "    # Create the summarization prompt\n",
        "    if summary:\n",
        "        summary_message = (\n",
        "            f\"This is summary of the conversation to date: {summary}\\n\\n\"\n",
        "            \"Extend the summary by taking into account the new messages above:\"\n",
        "        )\n",
        "    else:\n",
        "        summary_message = \"Create a summary of the conversation above:\"\n",
        "\n",
        "    # Add the summarization prompt to the history\n",
        "    messages = state[\"user_query\"] + state[\"response\"] + [HumanMessage(content=summary_message)]\n",
        "\n",
        "    # Filter valid messages (non-empty content)\n",
        "    valid_messages = [\n",
        "        message for message in messages\n",
        "        if hasattr(message, 'content') and message.content  # Ensure 'content' exists and is not empty\n",
        "    ]\n",
        "\n",
        "    # Get the response from the LLM\n",
        "    response = llm.invoke(valid_messages)\n",
        "\n",
        "    # Create RemoveMessage objects for all but the two most recent messages\n",
        "    delete_messages = [RemoveMessage(id=m.id) for m in state[\"user_query\"][:-1] + state[\"response\"][:-1]]\n",
        "\n",
        "    # Return the updated state\n",
        "    return Command(\n",
        "        update = {\n",
        "        \"summary\": str(response.content),  # Update the summary\n",
        "        \"response\": [state[\"response\"][-1]],  # Keep only the summarization response\n",
        "        },\n",
        "        goto = END\n",
        "    )\n",
        "\n",
        "\n",
        "# Initialize the state graph builder\n",
        "builder: StateGraph = StateGraph(State)\n",
        "\n",
        "# Define nodes in the graph\n",
        "builder.add_node(\"assistant\", assistant)\n",
        "builder.add_node(\"health_tips\", health_tips)\n",
        "builder.add_node(\"medical_faqs\", medical_faqs)\n",
        "builder.add_node(\"medication_info\", medication_info)\n",
        "builder.add_node(\"general_query_handler\", general_query_handler)\n",
        "builder.add_node(\"summarize_conversation\", summarize_conversation)\n",
        "\n",
        "# Define edges in the graph\n",
        "builder.add_edge(START, \"assistant\")  # Start with the assistant node\n",
        "# builder.add_conditional_edges(\"assistant\", tool_calling)  # Add conditional edges for tool calling\n",
        "\n",
        "# Tools transition to summarize_conversation\n",
        "# builder.add_edge(\"health_tips\", \"summarize_conversation\")\n",
        "# builder.add_edge(\"medical_faqs\", \"summarize_conversation\")\n",
        "# builder.add_edge(\"medication_info\", \"summarize_conversation\")\n",
        "# This was the problem, general_query_handler should point to END, not a node called \"END\"\n",
        "# builder.add_edge(\"general_query_handler\", END) # Changed from builder.add_edge(\"general_query_handler\", \"END\")\n",
        "\n",
        "# Summarize conversation transitions to END\n",
        "# builder.add_edge(\"summarize_conversation\", END)\n",
        "\n",
        "# Initialize memory to save conversation\n",
        "memory: MemorySaver = MemorySaver()\n",
        "\n",
        "# Compile the state graph\n",
        "graph: CompiledStateGraph = builder.compile(interrupt_before = [\"summarize_conversation\"], checkpointer=memory)\n",
        "\n",
        "# Visualize the graph\n",
        "display(Image(graph.get_graph(xray=True).draw_mermaid_png()))\n"
      ]
    },
    {
      "cell_type": "code",
      "execution_count": 23,
      "metadata": {
        "id": "nyzNqaQkUvDo"
      },
      "outputs": [],
      "source": [
        "# Specify a thread configuration\n",
        "config = {\"configurable\": {\"thread_id\": \"1\"}}"
      ]
    },
    {
      "cell_type": "code",
      "execution_count": 24,
      "metadata": {
        "id": "3YUwum7mtMSR",
        "outputId": "6b597fb0-0339-4507-dfbb-509aa62f570c",
        "colab": {
          "base_uri": "https://localhost:8080/"
        }
      },
      "outputs": [
        {
          "output_type": "stream",
          "name": "stdout",
          "text": [
            "Welcome to HealthHub! How can I assist you today?  How can I improve my cardiovascular health?\n",
            "Assistant_tool:  -  High cholesterol and high blood pressure can make you more likely to have heart disease or a heart attack. If you’re between the ages of 40 and 59 years, taking aspirin every day may lower your risk of heart attack and stroke — but doctors don’t recommend it for everyone. Eating healthy can help lower your risk of heart disease. People who have overweight or obesity are at an increased risk for heart disease, high blood pressure, and type 2 diabetes. Getting regular physical activity can help prevent heart disease. Quitting smoking helps lower your risk of heart disease and heart attack. Managing stress can help prevent serious health problems like heart disease, depression, and high blood pressure. Source: https://odphp.health.gov/myhealthfinder/health-conditions/heart-health/keep-your-heart-healthy\n",
            "  \n",
            "Are you satisfied with the response? (yes/no): yes\n",
            "Welcome to HealthHub! How can I assist you today?  end\n",
            "\n",
            "\n",
            "Goodbye! Stay healthy and take care!\n"
          ]
        }
      ],
      "source": [
        "# # Main interaction loop\n",
        "\n",
        "exit = True\n",
        "while exit:\n",
        "    user_input = input(\"Welcome to HealthHub! How can I assist you today?  \")\n",
        "    # if user_input.lower() in [\"quit\", \"exit\", \"q\"]:\n",
        "    #     print(\"\\n\\nGoodbye! Stay healthy and take care!\")\n",
        "    #     break\n",
        "\n",
        "\n",
        "    for result in graph.stream({\"user_query\": user_input}, config, stream_mode=\"updates\"):\n",
        "        # print(\"\\n\\nResult:\", result)\n",
        "        if \"assistant\" in result and result[\"assistant\"] and result['assistant']['response'][-1].content:\n",
        "            if \"END\" in result['assistant']['response'][-1].content:\n",
        "                print(\"\\n\\nGoodbye! Stay healthy and take care!\")\n",
        "                exit = False\n",
        "                break\n",
        "            print(\"Assistant:\", result['assistant']['response'][-1].content)\n",
        "        for tool in [\"health_tips\", \"medical_faqs\", \"medication_info\", \"general_query_handler\"]:\n",
        "            if tool in result:\n",
        "                print(\"Assistant_tool: \", result[tool]['response'][-1].content)\n",
        "\n",
        "        if \"__interrupt__\" in result and result[\"__interrupt__\"] and \"Received input is not clear\" in result[\"__interrupt__\"][-1].value: # Check if '__interrupt__' key exists and is not empty\n",
        "            user_input_clear = input(\"Kindly explain your query?  \")\n",
        "            # if user_input_clear.lower() in [\"quit\", \"exit\", \"q\"]:\n",
        "            #     print(\"\\n\\nGoodbye! Stay healthy and take care!\")\n",
        "            #     exit = False\n",
        "            #     break\n",
        "            graph.update_state(config, {\"user_query\": user_input + user_input_clear})\n",
        "            for result in graph.stream(None, config, stream_mode=\"updates\"):\n",
        "                print(\"\\n\\nInternal Result:\", result)\n",
        "                if \"assistant\" in result and result[\"assistant\"] and result['assistant']['response'][-1].content:\n",
        "                    if \"END\" in result['assistant']['response'][-1].content:\n",
        "                        print(\"\\n\\nGoodbye! Stay healthy and take care!\")\n",
        "                        exit = False\n",
        "                        break\n",
        "                    print(\"Assistant:\", result['assistant']['response'][-1].content)\n",
        "                for tool in [\"health_tips\", \"medical_faqs\", \"medication_info\", \"general_query_handler\"]:\n",
        "                    if tool in result:\n",
        "                        print(\"Assistant_tool: \", result[tool]['response'][-1].content)\n",
        "        if \"__interrupt__\" in result:\n",
        "            while True:\n",
        "                # Get user feedback\n",
        "                user_approval = input(\"Are you satisfied with the response? (yes/no): \")\n",
        "                # Check approval\n",
        "                if user_approval.lower() == \"yes\":\n",
        "                    # If approved, continue the graph execution\n",
        "                    for result in graph.stream(None, config, stream_mode=\"updates\"):\n",
        "                        # print(\"\\n\\nResult in second interrupt:\", result)\n",
        "                        pass\n",
        "                    break\n",
        "\n",
        "                elif user_approval.lower() == \"no\":\n",
        "                    user_input_detail = input(\"Kinly provide more details? \")\n",
        "                    # if user_input_detail.lower() in [\"quit\", \"exit\", \"q\"]:\n",
        "                    #     print(\"\\n\\nGoodbye! Stay healthy and take care!\")\n",
        "                    #     exit = False\n",
        "                    #     break\n",
        "                    # Conditionally concatenate user_input_clear if it exists\n",
        "                    # if user_input_clear:\n",
        "                    #     user_input_detail = f\"{user_input_clear} {user_input_detail}\"\n",
        "                    for result in graph.stream({\"user_query\": user_input + user_input_detail }, config, stream_mode=\"updates\"):\n",
        "                        for tool in [\"health_tips\", \"medical_faqs\", \"medication_info\", \"general_query_handler\"]:\n",
        "                            if tool in result:\n",
        "                                print(\"Assistant_tool: \", result[tool]['response'][-1].content)\n",
        "\n",
        "                else:\n",
        "                    print(\"Invalid input. Please enter 'yes' or 'no'.\")\n",
        "\n",
        "\n",
        "\n"
      ]
    },
    {
      "cell_type": "markdown",
      "metadata": {
        "id": "max9AIUnumK6"
      },
      "source": []
    },
    {
      "cell_type": "code",
      "source": [
        "test = {'response': [AIMessage(content='', additional_kwargs={'function_call': {'name': 'general_query_handler', 'arguments': '{\"state\": {\"user_query\": [\"What\\'s the weather forecast today?\"], \"response\": [], \"summary\": \"\"}}'}}, response_metadata={'prompt_feedback': {'block_reason': 0, 'safety_ratings': []}, 'finish_reason': 'STOP', 'safety_ratings': []}, id='run-c6ded3ca-2111-40ca-a080-7c56280c44f3-0', tool_calls=[{'name': 'general_query_handler', 'args': {'state': {'user_query': [\"What's the weather forecast today?\"], 'response': [], 'summary': ''}}, 'id': '081c2501-2ba9-4bbb-a628-168ec3a87c2e', 'type': 'tool_call'}], usage_metadata={'input_tokens': 275, 'output_tokens': 19, 'total_tokens': 294, 'input_token_details': {'cache_read': 0}}), SystemMessage(content=\"It seems like your query is unrelated to medical topics. Here's a general response to 'What's the weather forecast today?': I'm here to help, but I specialize in health-related queries. Could you clarify or ask something health-related?\", additional_kwargs={}, response_metadata={}, id='7b209a97-6595-48e2-8342-c7aebcc618b4'), AIMessage(content='END', additional_kwargs={}, response_metadata={'prompt_feedback': {'block_reason': 0, 'safety_ratings': []}, 'finish_reason': 'STOP', 'safety_ratings': []}, id='run-f4640471-5a25-4a74-a7dc-da3f26350a84-0', usage_metadata={'input_tokens': 274, 'output_tokens': 2, 'total_tokens': 276, 'input_token_details': {'cache_read': 0}})], 'user_query': [HumanMessage(content=\"What's the weather forecast today?\", additional_kwargs={}, response_metadata={}, id='7e1bda9e-ba02-4204-9f92-83ed0617aa0b'), HumanMessage(content='thank you. see you next time', additional_kwargs={}, response_metadata={}, id='4787ea8d-e8a2-477a-b4c6-277d1872157b')]}"
      ],
      "metadata": {
        "id": "TBCMQvHeSJGb"
      },
      "execution_count": 15,
      "outputs": []
    },
    {
      "cell_type": "code",
      "source": [
        "if \"END\" in test['response'][-1].content:\n",
        "      print(\"END\")"
      ],
      "metadata": {
        "colab": {
          "base_uri": "https://localhost:8080/"
        },
        "id": "D91zqQu-SOoD",
        "outputId": "1b83ef0d-4d9e-47ac-f066-4667fca7ef7c"
      },
      "execution_count": 16,
      "outputs": [
        {
          "output_type": "stream",
          "name": "stdout",
          "text": [
            "END\n"
          ]
        }
      ]
    },
    {
      "cell_type": "code",
      "source": [
        "result[\"health_tips\"][\"response\"][-1].content"
      ],
      "metadata": {
        "colab": {
          "base_uri": "https://localhost:8080/",
          "height": 146
        },
        "id": "BAvcjf8jy2Z7",
        "outputId": "9c55e7b0-36f4-4acb-99d0-6b349ae49bfe"
      },
      "execution_count": 17,
      "outputs": [
        {
          "output_type": "error",
          "ename": "KeyError",
          "evalue": "'health_tips'",
          "traceback": [
            "\u001b[0;31m---------------------------------------------------------------------------\u001b[0m",
            "\u001b[0;31mKeyError\u001b[0m                                  Traceback (most recent call last)",
            "\u001b[0;32m<ipython-input-17-15dfacabd77f>\u001b[0m in \u001b[0;36m<cell line: 0>\u001b[0;34m()\u001b[0m\n\u001b[0;32m----> 1\u001b[0;31m \u001b[0mresult\u001b[0m\u001b[0;34m[\u001b[0m\u001b[0;34m\"health_tips\"\u001b[0m\u001b[0;34m]\u001b[0m\u001b[0;34m[\u001b[0m\u001b[0;34m\"response\"\u001b[0m\u001b[0;34m]\u001b[0m\u001b[0;34m[\u001b[0m\u001b[0;34m-\u001b[0m\u001b[0;36m1\u001b[0m\u001b[0;34m]\u001b[0m\u001b[0;34m.\u001b[0m\u001b[0mcontent\u001b[0m\u001b[0;34m\u001b[0m\u001b[0;34m\u001b[0m\u001b[0m\n\u001b[0m",
            "\u001b[0;31mKeyError\u001b[0m: 'health_tips'"
          ]
        }
      ]
    },
    {
      "cell_type": "code",
      "source": [
        "Response in assistant:  content='' additional_kwargs={'function_call': {'name': 'medical_faqs', 'arguments': '{\"state\": {\"user_query\": [\"common symptoms of diabetes\"], \"response\": [], \"summary\": \"\"}}'}} response_metadata={'prompt_feedback': {'block_reason': 0, 'safety_ratings': []}, 'finish_reason': 'STOP', 'safety_ratings': []} id='run-a51da32a-17ae-49db-85f9-b1ed909097aa-0' tool_calls=[{'name': 'medical_faqs', 'args': {'state': {'user_query': ['common symptoms of diabetes'], 'response': [], 'summary': ''}}, 'id': '3a6bbaed-e848-40f0-9016-0014cb2d3413', 'type': 'tool_call'}] usage_metadata={'input_tokens': 274, 'output_tokens': 13, 'total_tokens': 287, 'input_token_details': {'cache_read': 0}}"
      ],
      "metadata": {
        "id": "ULn45rn9QHek"
      },
      "execution_count": null,
      "outputs": []
    },
    {
      "cell_type": "code",
      "execution_count": null,
      "metadata": {
        "id": "d6Ue-NVbTP2G",
        "collapsed": true
      },
      "outputs": [],
      "source": [
        "snapshot = graph.get_state(config)\n",
        "# snapshot"
      ]
    },
    {
      "cell_type": "code",
      "source": [
        "snapshot.next"
      ],
      "metadata": {
        "id": "jlmA9oN7wKjK"
      },
      "execution_count": null,
      "outputs": []
    },
    {
      "cell_type": "code",
      "source": [
        "graph.update_state(config,{\"user_query\": \"I have headache since morning. what should i do?\"})\n",
        "for result1 in graph.stream(None, config, stream_mode=\"updates\"):\n",
        "    print(\"Inrernal Result: \", result1)"
      ],
      "metadata": {
        "id": "gaD5lZdM8D8N"
      },
      "execution_count": null,
      "outputs": []
    },
    {
      "cell_type": "code",
      "source": [
        "for result1 in graph.stream(None, config, stream_mode=\"updates\"):\n",
        "    print(\"Inrernal Result: \", result1)"
      ],
      "metadata": {
        "id": "w14pdfGB1b-H"
      },
      "execution_count": null,
      "outputs": []
    },
    {
      "cell_type": "code",
      "execution_count": null,
      "metadata": {
        "id": "rVzuJY5niCRg"
      },
      "outputs": [],
      "source": [
        "snapshot.values['response'][-1].content"
      ]
    },
    {
      "cell_type": "code",
      "execution_count": null,
      "metadata": {
        "id": "KzKIZZKRnyG5"
      },
      "outputs": [],
      "source": [
        "from google.colab import drive\n",
        "drive.mount('/content/drive')"
      ]
    }
  ],
  "metadata": {
    "accelerator": "GPU",
    "colab": {
      "gpuType": "T4",
      "provenance": [],
      "include_colab_link": true
    },
    "kernelspec": {
      "display_name": "Python 3",
      "name": "python3"
    },
    "language_info": {
      "name": "python"
    }
  },
  "nbformat": 4,
  "nbformat_minor": 0
}