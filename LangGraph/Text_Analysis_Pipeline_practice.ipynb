{
  "nbformat": 4,
  "nbformat_minor": 0,
  "metadata": {
    "colab": {
      "provenance": [],
      "authorship_tag": "ABX9TyOOkF7RmdyoXdfz9Pnjzev7",
      "include_colab_link": true
    },
    "kernelspec": {
      "name": "python3",
      "display_name": "Python 3"
    },
    "language_info": {
      "name": "python"
    }
  },
  "cells": [
    {
      "cell_type": "markdown",
      "metadata": {
        "id": "view-in-github",
        "colab_type": "text"
      },
      "source": [
        "<a href=\"https://colab.research.google.com/github/Alla-ud-din/Classes-Q3-Q4/blob/master/LangGraph/Text_Analysis_Pipeline_practice.ipynb\" target=\"_parent\"><img src=\"https://colab.research.google.com/assets/colab-badge.svg\" alt=\"Open In Colab\"/></a>"
      ]
    },
    {
      "cell_type": "markdown",
      "source": [
        "# Introduction to LangGraph\n",
        "\n",
        "LangGraph is a framework for creating applications using graph-based workflows. Each node represents a function or computational step, and edges define the flow between these nodes based on certain conditions.\n",
        "\n",
        "## Key Features:\n",
        "- State Management\n",
        "- Flexible Routing\n",
        "- Persistence\n",
        "- Visualization"
      ],
      "metadata": {
        "id": "pck4LFMBAFlI"
      }
    },
    {
      "cell_type": "markdown",
      "source": [
        "## Tutorial Overview: Text Analysis Pipeline\n",
        "\n",
        "In this tutorial, we'll demonstrate the power of LangGraph by building a multi-step text analysis pipeline. Our use case will focus on processing a given text through three key stages:\n",
        "\n",
        "1. **Text Classification**: We'll categorize the input text into predefined categories (e.g., News, Blog, Research, or Other).\n",
        "2. **Entity Extraction**: We'll identify and extract key entities such as persons, organizations, and locations from the text.\n",
        "3. **Text Summarization**: Finally, we'll generate a concise summary of the input text.\n",
        "\n",
        "This pipeline showcases how LangGraph can be used to create a modular, extensible workflow for natural language processing tasks. By the end of this tutorial, you'll understand how to construct a graph-based application that can be easily modified or expanded for various text analysis needs."
      ],
      "metadata": {
        "id": "acVaIwPmAJLJ"
      }
    },
    {
      "cell_type": "markdown",
      "source": [
        "## Building the Text Processing Pipeline"
      ],
      "metadata": {
        "id": "gWPAfCURAO_h"
      }
    },
    {
      "cell_type": "code",
      "execution_count": 13,
      "metadata": {
        "id": "utaMEBVdE7qg"
      },
      "outputs": [],
      "source": [
        "%%capture --no-stderr\n",
        "%pip install --quiet -U langgraph"
      ]
    },
    {
      "cell_type": "markdown",
      "source": [
        "### Define State\n",
        "Here we define the State class to hold our workflow data"
      ],
      "metadata": {
        "id": "Od1B7rWPBELU"
      }
    },
    {
      "cell_type": "code",
      "source": [
        "from typing import TypedDict, List\n",
        "class TextAnalysis(TypedDict):\n",
        "  text: str\n",
        "  classification: str\n",
        "  entities: List[str]\n",
        "  summary: str"
      ],
      "metadata": {
        "id": "upo1vYzaFK5f"
      },
      "execution_count": 14,
      "outputs": []
    },
    {
      "cell_type": "code",
      "source": [
        "# Testing state\n",
        "lahore_state: TextAnalysis = TextAnalysis(text= \"hello from UMT Lahore\")\n",
        "print(lahore_state)\n",
        "print(lahore_state['text'])"
      ],
      "metadata": {
        "colab": {
          "base_uri": "https://localhost:8080/"
        },
        "id": "za22BXnRIrT2",
        "outputId": "fc77f090-30df-47c3-80da-24e20e87253a"
      },
      "execution_count": 15,
      "outputs": [
        {
          "output_type": "stream",
          "name": "stdout",
          "text": [
            "{'text': 'hello from UMT Lahore'}\n",
            "hello from UMT Lahore\n"
          ]
        }
      ]
    },
    {
      "cell_type": "code",
      "source": [
        "%pip install -q -U langchain\n",
        "%pip install -q -U langchain-google-genai"
      ],
      "metadata": {
        "id": "CcfFHaF2F4_J"
      },
      "execution_count": 16,
      "outputs": []
    },
    {
      "cell_type": "code",
      "source": [
        "from google.colab import userdata\n",
        "google_api_key = userdata.get('GEMINI_API_KEY')"
      ],
      "metadata": {
        "id": "X-eBBTIgGjji"
      },
      "execution_count": 17,
      "outputs": []
    },
    {
      "cell_type": "markdown",
      "source": [
        "### Initialize Gemini LLM\n"
      ],
      "metadata": {
        "id": "QMpBWebyBqbH"
      }
    },
    {
      "cell_type": "code",
      "source": [
        "from langchain_google_genai import ChatGoogleGenerativeAI\n",
        "# Initialize an instance of the ChatGoogleGenerativeAI with specific parameters\n",
        "llm: ChatGoogleGenerativeAI = ChatGoogleGenerativeAI(\n",
        "    model=\"gemini-1.5-flash\",  # Specify the model to use\n",
        "    api_key=google_api_key,     # Provide the Google API key for authentication\n",
        ")"
      ],
      "metadata": {
        "id": "HKpbzTkJGqZ4"
      },
      "execution_count": 18,
      "outputs": []
    },
    {
      "cell_type": "markdown",
      "source": [
        "### Define Node Functions\n",
        "These functions define the operations performed at each node of our graph: classification, entity extraction, and summarization."
      ],
      "metadata": {
        "id": "SJgfgRKGCGTE"
      }
    },
    {
      "cell_type": "code",
      "source": [
        "def classification_node(state : TextAnalysis):\n",
        "  prompt = state['text']\n",
        "  classification = llm.invoke(prompt + \"Classify the following text into one of the categories: News, Blog, Research, or Other.\\n\\nText:{text}\\n\\nCategory:\")\n",
        "  return {'classification': classification}\n",
        "def entity_node(state : TextAnalysis):\n",
        "  prompt = state['text']\n",
        "  entities = llm.invoke(prompt + \"Extract all the entities (Person, Organization, Location) from the following text. Provide the result as a comma-separated list.\\n\\nText:{text}\\n\\nEntities:\")\n",
        "  return {'entities': entities}\n",
        "def summarization_node(state: TextAnalysis):\n",
        "  prompt = state['text']\n",
        "  summary = llm.invoke(prompt + \"Summarize the following text in one short sentence.\\n\\nText:{text}\\n\\nSummary:\")\n",
        "  return {'summary': summary}\n",
        "\n",
        "\n",
        "\n",
        "\n"
      ],
      "metadata": {
        "id": "7cgCfkT5Hxdm"
      },
      "execution_count": 19,
      "outputs": []
    },
    {
      "cell_type": "markdown",
      "source": [
        "### Create Tools and Build Workflow\n",
        "This cell builds the StateGraph workflow."
      ],
      "metadata": {
        "id": "-j_lexoNCVgz"
      }
    },
    {
      "cell_type": "code",
      "source": [
        "from langgraph.graph import StateGraph, START, END\n",
        "workflow = StateGraph(TextAnalysis)\n",
        "\n",
        "# Add nodes to the graph\n",
        "workflow.add_node(\"classification_node\", classification_node)\n",
        "workflow.add_node(\"entity_extraction\", entity_node)\n",
        "workflow.add_node(\"summarization\", summarization_node)\n",
        "\n",
        "# Add edges to the graph\n",
        "workflow.set_entry_point(\"classification_node\") # Set the entry point of the graph\n",
        "workflow.add_edge(\"classification_node\", \"entity_extraction\")\n",
        "workflow.add_edge(\"entity_extraction\", \"summarization\")\n",
        "workflow.add_edge(\"summarization\", END)\n",
        "\n",
        "# Compile the graph\n",
        "app = workflow.compile()"
      ],
      "metadata": {
        "id": "7KjNHYwmKsNW"
      },
      "execution_count": 20,
      "outputs": []
    },
    {
      "cell_type": "markdown",
      "source": [
        "## Visualizing the Workflow\n",
        "This cell creates a visual representation of our workflow using Mermaid"
      ],
      "metadata": {
        "id": "u0SHuMmACfnH"
      }
    },
    {
      "cell_type": "code",
      "source": [
        "from IPython.display import Image, display # Preview Graph\n",
        "\n",
        "display(Image(app.get_graph().draw_mermaid_png()))"
      ],
      "metadata": {
        "colab": {
          "base_uri": "https://localhost:8080/",
          "height": 449
        },
        "id": "KyZWF2t3LEI2",
        "outputId": "1d83aa36-d48b-448b-bb19-a6a07ee9b291"
      },
      "execution_count": 21,
      "outputs": [
        {
          "output_type": "display_data",
          "data": {
            "image/png": "[encoded data removed]",
            "text/plain": [
              "<IPython.core.display.Image object>"
            ]
          },
          "metadata": {}
        }
      ]
    },
    {
      "cell_type": "markdown",
      "source": [
        "## Testing the Pipeline\n",
        "This cell runs a sample text through our pipeline and displays the results."
      ],
      "metadata": {
        "id": "Ug_VZt0nCvFD"
      }
    },
    {
      "cell_type": "code",
      "source": [
        "sample_text = \"\"\"\n",
        "OpenAI has announced the GPT-4 model, which is a large multimodal model that exhibits human-level performance on various professional benchmarks. It is developed to improve the alignment and safety of AI systems.\n",
        "additionally, the model is designed to be more efficient and scalable than its predecessor, GPT-3. The GPT-4 model is expected to be released in the coming months and will be available to the public for research and development purposes.\n",
        "\"\"\"\n",
        "input = {'text': sample_text}\n",
        "result = app.invoke(input)\n",
        "print(\"Classification: \", result['classification'].content )\n",
        "print(\"Entities\", result['entities'].content)\n",
        "print(\"Summary\", result['summary'].content)"
      ],
      "metadata": {
        "colab": {
          "base_uri": "https://localhost:8080/"
        },
        "id": "6_iEXcJT81hb",
        "outputId": "a817fb03-9442-42ae-cc2f-722c875a2467"
      },
      "execution_count": 22,
      "outputs": [
        {
          "output_type": "stream",
          "name": "stdout",
          "text": [
            "Classification:  Category: News\n",
            "\n",
            "Entities OpenAI\n",
            "\n",
            "Summary GPT-4, a more efficient and safer multimodal model surpassing GPT-3's capabilities, is nearing public release for research and development.\n",
            "\n"
          ]
        }
      ]
    },
    {
      "cell_type": "markdown",
      "source": [
        "## Conclusion\n",
        "\n",
        "In this tutorial, we've:\n",
        "- Explored LangGraph concepts\n",
        "- Built a text processing pipeline\n",
        "- Demonstrated LangGraph's use in data processing workflows\n",
        "- Visualized the workflow using Mermaid\n",
        "\n",
        "This example showcases how LangGraph can be used for tasks beyond conversational agents, providing a flexible framework for creating complex, graph-based workflows."
      ],
      "metadata": {
        "id": "bGCp_ST9C2lw"
      }
    }
  ]
}