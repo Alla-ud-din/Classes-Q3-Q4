{
  "cells": [
    {
      "cell_type": "markdown",
      "metadata": {
        "id": "view-in-github",
        "colab_type": "text"
      },
      "source": [
        "<a href=\"https://colab.research.google.com/github/Alla-ud-din/Classes-Q3-Q4/blob/master/LangGraph/00_quickstart_part1_to_part7.ipynb\" target=\"_parent\"><img src=\"https://colab.research.google.com/assets/colab-badge.svg\" alt=\"Open In Colab\"/></a>"
      ]
    },
    {
      "cell_type": "markdown",
      "id": "4a1aae78-88a6-4133-b905-7e46c8e3772f",
      "metadata": {
        "id": "4a1aae78-88a6-4133-b905-7e46c8e3772f"
      },
      "source": [
        "# Quick Start\n",
        "\n",
        "In this comprehensive quick start, we will build a support chatbot in LangGraph that can:\n",
        "\n",
        "- Answer common questions by searching the web\n",
        "- Maintain conversation state across calls\n",
        "- Route complex queries to a human for review\n",
        "- Use custom state to control its behavior\n",
        "- Rewind and explore alternative conversation paths\n",
        "\n",
        "We'll start with a basic chatbot and progressively add more sophisticated capabilities, introducing key LangGraph concepts along the way.\n",
        "\n",
        "## Setup\n",
        "\n",
        "First, install the required packages:"
      ]
    },
    {
      "cell_type": "code",
      "execution_count": 1,
      "id": "6f11d631-8679-4f28-822f-cdf1f2ddc21c",
      "metadata": {
        "id": "6f11d631-8679-4f28-822f-cdf1f2ddc21c"
      },
      "outputs": [],
      "source": [
        "%%capture --no-stderr\n",
        "%pip install -U langgraph langsmith langchain_google_genai"
      ]
    },
    {
      "cell_type": "markdown",
      "id": "a6d1e870-1bc0-4d44-86c0-96681ccf6113",
      "metadata": {
        "id": "a6d1e870-1bc0-4d44-86c0-96681ccf6113"
      },
      "source": [
        "Next, set your API keys:"
      ]
    },
    {
      "cell_type": "code",
      "execution_count": 2,
      "id": "705d4020-6ee8-44cc-b1a5-8c34e7172fc7",
      "metadata": {
        "id": "705d4020-6ee8-44cc-b1a5-8c34e7172fc7"
      },
      "outputs": [],
      "source": [
        "import os\n",
        "from google.colab import userdata\n",
        "\n",
        "os.environ[\"LANGCHAIN_API_KEY\"] = userdata.get('LANGCHAIN_API_KEY')\n",
        "os.environ[\"LANGCHAIN_TRACING_V2\"] = \"true\"\n",
        "os.environ[\"LANGCHAIN_PROJECT\"] = \"quickstart\"\n",
        "\n",
        "gemini_api_key = userdata.get('GEMINI_API_KEY')"
      ]
    },
    {
      "cell_type": "code",
      "source": [
        "from langchain_google_genai import ChatGoogleGenerativeAI\n",
        "\n",
        "llm = ChatGoogleGenerativeAI(\n",
        "    model=\"gemini-1.5-flash\",\n",
        "    max_retries=2,\n",
        "    api_key=gemini_api_key\n",
        ")\n",
        "\n",
        "llm.invoke(\"greet me\")"
      ],
      "metadata": {
        "colab": {
          "base_uri": "https://localhost:8080/"
        },
        "id": "BgEoJGobjGwM",
        "outputId": "2fef5fa1-db3d-4b2a-8ab7-e207c8b6165c"
      },
      "id": "BgEoJGobjGwM",
      "execution_count": 3,
      "outputs": [
        {
          "output_type": "execute_result",
          "data": {
            "text/plain": [
              "AIMessage(content='Hello there!\\n', additional_kwargs={}, response_metadata={'prompt_feedback': {'block_reason': 0, 'safety_ratings': []}, 'finish_reason': 'STOP', 'safety_ratings': []}, id='run-0e647850-dfab-4f56-b524-4b0bcdff473d-0', usage_metadata={'input_tokens': 3, 'output_tokens': 4, 'total_tokens': 7, 'input_token_details': {'cache_read': 0}})"
            ]
          },
          "metadata": {},
          "execution_count": 3
        }
      ]
    },
    {
      "cell_type": "markdown",
      "id": "a98c72cf-33f9-4a37-9634-6c93a7c28815",
      "metadata": {
        "id": "a98c72cf-33f9-4a37-9634-6c93a7c28815"
      },
      "source": [
        "<div class=\"admonition tip\">\n",
        "    <p class=\"admonition-title\">Set up <a href=\"https://smith.langchain.com\">LangSmith</a> for LangGraph development</p>\n",
        "    <p style=\"padding-top: 5px;\">\n",
        "        Sign up for LangSmith to quickly spot issues and improve the performance of your LangGraph projects. LangSmith lets you use trace data to debug, test, and monitor your LLM apps built with LangGraph — read more about how to get started <a href=\"https://docs.smith.langchain.com\">here</a>.\n",
        "    </p>\n",
        "</div>"
      ]
    },
    {
      "cell_type": "markdown",
      "id": "9c374e41-f9b7-439e-a520-6d8c853c5220",
      "metadata": {
        "id": "9c374e41-f9b7-439e-a520-6d8c853c5220"
      },
      "source": [
        "## Part 1: Build a Basic Chatbot\n",
        "\n",
        "We'll first create a simple chatbot using LangGraph. This chatbot will respond directly to user messages. Though simple, it will illustrate the core concepts of building with LangGraph. By the end of this section, you will have a built rudimentary chatbot.\n",
        "\n",
        "Start by creating a `StateGraph`. A `StateGraph` object defines the structure of our chatbot as a \"state machine\". We'll add `nodes` to represent the llm and functions our chatbot can call and `edges` to specify how the bot should transition between these functions."
      ]
    },
    {
      "cell_type": "code",
      "execution_count": 4,
      "id": "e58df974-7579-4f25-9d91-66389b94eba2",
      "metadata": {
        "id": "e58df974-7579-4f25-9d91-66389b94eba2"
      },
      "outputs": [],
      "source": [
        "from typing import Annotated\n",
        "\n",
        "from typing_extensions import TypedDict\n",
        "\n",
        "from langgraph.graph import StateGraph, START, END\n",
        "from langgraph.graph.message import add_messages\n",
        "\n",
        "\n",
        "class State(TypedDict):\n",
        "    # Messages have the type \"list\". The `add_messages` function\n",
        "    # in the annotation defines how this state key should be updated\n",
        "    # (in this case, it appends messages to the list, rather than overwriting them)\n",
        "    messages: Annotated[list, add_messages]\n",
        "\n",
        "\n",
        "graph_builder = StateGraph(State)"
      ]
    },
    {
      "cell_type": "code",
      "source": [
        "# from langchain_core.messages import AIMessage, HumanMessage\n",
        "# msgs1 = [HumanMessage(content=\"Hello\", id=\"1\")]\n",
        "# msgs2 = [AIMessage(content=\"Hi there!\", id=\"2\")]\n",
        "# msgs3 = add_messages(msgs1, msgs2)\n",
        "# print(msgs3)\n",
        "# # [HumanMessage(content='Hello', id='1'), AIMessage(content='Hi there!', id='2')]  # Different ids -> append\n",
        "\n",
        "# msgs1 = [HumanMessage(content=\"Hello\", id=\"1\")]\n",
        "# msgs2 = [HumanMessage(content=\"Hello again\", id=\"1\")]\n",
        "# msgs3 = add_messages(msgs1, msgs2)\n",
        "# print(msgs3)\n",
        "# # [HumanMessage(content='Hello again', id='1')]  # Same id -> replace\n",
        "\n",
        "# from typing import Annotated\n",
        "# from typing_extensions import TypedDict\n",
        "# from langgraph.graph import StateGraph\n",
        "\n",
        "# class State(TypedDict):\n",
        "#     messages: Annotated[list, add_messages]\n",
        "# builder = StateGraph(State)\n",
        "# builder.add_node(\"chatbot\", lambda state: {\"messages\": [(\"assistant\", \"Hello, How can I help you\")]})  #{\"messages\": [{\"role\": \"assistant\",\"content\": \"Hello, How can I help you\"}]})  can write like this too\n",
        "# builder.set_entry_point(\"chatbot\")\n",
        "# builder.set_finish_point(\"chatbot\")\n",
        "# graph = builder.compile()\n",
        "# graph.invoke({'messages': [{\"role\": \"user\", \"content\": \"Hello\"}]})\n"
      ],
      "metadata": {
        "id": "uNH1BDznrM1Q"
      },
      "id": "uNH1BDznrM1Q",
      "execution_count": 5,
      "outputs": []
    },
    {
      "cell_type": "markdown",
      "id": "31c755cd-8994-4867-bdff-96a55d7beae7",
      "metadata": {
        "id": "31c755cd-8994-4867-bdff-96a55d7beae7"
      },
      "source": [
        "<div class=\"admonition tip\">\n",
        "    <p class=\"admonition-title\">Note</p>\n",
        "    <p>\n",
        "    The first thing you do when you define a graph is define the <code>State</code> of the graph. The <code>State</code> consists of the schema of the graph as well as reducer functions which specify how to apply updates to the state. In our example <code>State</code> is a <code>TypedDict</code> with a single key: <code>messages</code>. The <code>messages</code> key is annotated with the <a href=\"https://langchain-ai.github.io/langgraph/reference/graphs/?h=add+messages#add_messages\"><code>add_messages</code></a> reducer function, which tells LangGraph to append new messages to the existing list, rather than overwriting it. State keys without an annotation will be overwritten by each update, storing the most recent value. Check out <a href=\"https://langchain-ai.github.io/langgraph/reference/graphs/?h=add+messages#add_messages\">this conceptual guide</a> to learn more about state, reducers and other low-level concepts.\n",
        "    </p>\n",
        "</div>"
      ]
    },
    {
      "cell_type": "markdown",
      "id": "4137feed-746e-4c72-a34a-f7a699ad5dcf",
      "metadata": {
        "id": "4137feed-746e-4c72-a34a-f7a699ad5dcf"
      },
      "source": [
        "So now our graph knows two things:\n",
        "\n",
        "1. Every `node` we define will receive the current `State` as input and return a value that updates that state.\n",
        "2. `messages` will be _appended_ to the current list, rather than directly overwritten. This is communicated via the prebuilt [`add_messages`](https://langchain-ai.github.io/langgraph/reference/graphs/?h=add+messages#add_messages) function in the `Annotated` syntax.\n",
        "\n",
        "Next, add a \"`chatbot`\" node. Nodes represent units of work. They are typically regular python functions."
      ]
    },
    {
      "cell_type": "code",
      "execution_count": 6,
      "id": "bc8c9137-8261-42ea-8e83-3590981d23e2",
      "metadata": {
        "colab": {
          "base_uri": "https://localhost:8080/"
        },
        "id": "bc8c9137-8261-42ea-8e83-3590981d23e2",
        "outputId": "122fd263-c810-430b-bb98-53f319476bf3"
      },
      "outputs": [
        {
          "output_type": "execute_result",
          "data": {
            "text/plain": [
              "<langgraph.graph.state.StateGraph at 0x7fdd1dfbfee0>"
            ]
          },
          "metadata": {},
          "execution_count": 6
        }
      ],
      "source": [
        "def chatbot(state: State):\n",
        "    return {\"messages\": [llm.invoke(state[\"messages\"])]}\n",
        "\n",
        "\n",
        "# The first argument is the unique node name\n",
        "# The second argument is the function or object that will be called whenever\n",
        "# the node is used.\n",
        "graph_builder.add_node(\"chatbot\", chatbot)"
      ]
    },
    {
      "cell_type": "markdown",
      "id": "b6c1dcd9-fb86-4649-81b4-ff6ce20a2e46",
      "metadata": {
        "id": "b6c1dcd9-fb86-4649-81b4-ff6ce20a2e46"
      },
      "source": [
        "**Notice** how the `chatbot` node function takes the current `State` as input and returns a dictionary containing an updated `messages` list under the key \"messages\". This is the basic pattern for all LangGraph node functions.\n",
        "\n",
        "The `add_messages` function in our `State` will append the llm's response messages to whatever messages are already in the state.\n",
        "\n",
        "Next, add an `entry` point. This tells our graph **where to start its work** each time we run it."
      ]
    },
    {
      "cell_type": "code",
      "execution_count": 7,
      "id": "e331e10d-ebcf-4144-9bd3-999b4d656dd3",
      "metadata": {
        "colab": {
          "base_uri": "https://localhost:8080/"
        },
        "id": "e331e10d-ebcf-4144-9bd3-999b4d656dd3",
        "outputId": "2ffc593c-6c06-4156-aea6-13a033cf60df"
      },
      "outputs": [
        {
          "output_type": "execute_result",
          "data": {
            "text/plain": [
              "<langgraph.graph.state.StateGraph at 0x7fdd1dfbfee0>"
            ]
          },
          "metadata": {},
          "execution_count": 7
        }
      ],
      "source": [
        "graph_builder.add_edge(START, \"chatbot\")"
      ]
    },
    {
      "cell_type": "markdown",
      "id": "0499c318-d1e6-46fa-a652-8f9e65313355",
      "metadata": {
        "id": "0499c318-d1e6-46fa-a652-8f9e65313355"
      },
      "source": [
        "Similarly, set a `finish` point. This instructs the graph **\"any time this node is run, you can exit.\"**"
      ]
    },
    {
      "cell_type": "code",
      "execution_count": 8,
      "id": "075f0929-3591-4852-b2d3-eaadde40662d",
      "metadata": {
        "colab": {
          "base_uri": "https://localhost:8080/"
        },
        "id": "075f0929-3591-4852-b2d3-eaadde40662d",
        "outputId": "89c6c50b-a94a-464a-cbc2-9f5d49cb7593"
      },
      "outputs": [
        {
          "output_type": "execute_result",
          "data": {
            "text/plain": [
              "<langgraph.graph.state.StateGraph at 0x7fdd1dfbfee0>"
            ]
          },
          "metadata": {},
          "execution_count": 8
        }
      ],
      "source": [
        "graph_builder.add_edge(\"chatbot\", END)"
      ]
    },
    {
      "cell_type": "markdown",
      "id": "65a9b88c-2c53-4d95-8eb1-d544a8946f65",
      "metadata": {
        "id": "65a9b88c-2c53-4d95-8eb1-d544a8946f65"
      },
      "source": [
        "Finally, we'll want to be able to run our graph. To do so, call \"`compile()`\" on the graph builder. This creates a \"`CompiledGraph`\" we can use invoke on our state."
      ]
    },
    {
      "cell_type": "code",
      "execution_count": 9,
      "id": "0bb67a01-cf5c-4625-8c07-6e8c0af50fca",
      "metadata": {
        "id": "0bb67a01-cf5c-4625-8c07-6e8c0af50fca"
      },
      "outputs": [],
      "source": [
        "graph = graph_builder.compile()"
      ]
    },
    {
      "cell_type": "markdown",
      "id": "0c39407b-d6f6-48a4-b1f6-31fc7f88b275",
      "metadata": {
        "id": "0c39407b-d6f6-48a4-b1f6-31fc7f88b275"
      },
      "source": [
        "You can visualize the graph using the `get_graph` method and one of the \"draw\" methods, like `draw_ascii` or `draw_png`. The `draw` methods each require additional dependencies."
      ]
    },
    {
      "cell_type": "code",
      "execution_count": 10,
      "id": "32e4f36e-72ce-4ade-bd7e-94880e0d456b",
      "metadata": {
        "colab": {
          "base_uri": "https://localhost:8080/",
          "height": 251
        },
        "id": "32e4f36e-72ce-4ade-bd7e-94880e0d456b",
        "outputId": "1134d946-bc21-4cf6-d39f-4c9c302aa2ab"
      },
      "outputs": [
        {
          "output_type": "display_data",
          "data": {
            "image/png": "[encoded data removed]",
            "text/plain": [
              "<IPython.core.display.Image object>"
            ]
          },
          "metadata": {}
        }
      ],
      "source": [
        "from IPython.display import Image, display\n",
        "\n",
        "try:\n",
        "    display(Image(graph.get_graph().draw_mermaid_png()))\n",
        "except Exception:\n",
        "    # This requires some extra dependencies and is optional\n",
        "    pass"
      ]
    },
    {
      "cell_type": "code",
      "source": [
        "for event in graph.stream({\"messages\": [(\"user\", \"I am Junaid\")]}):\n",
        "  # print(\"Event: \", event)\n",
        "  # print(\"Items: \", event.items())\n",
        "  # print(\"Keys: \", event.keys())\n",
        "  # print(\"Values: \",event.values())\n",
        "  # # print(\"Last message: \", event['chatbot']['messages'][-1])   # Another way to see last message\n",
        "  # print(\"List: \",list(event.values()))\n",
        "  # print(\"First Value: \",list(event.values())[0])\n",
        "  # print(\"Message key: \",list(event.values())[0][\"messages\"])\n",
        "  # print(\"Last message: \",list(event.values())[0][\"messages\"][-1])\n",
        "  print(\"EVENT:\", list(event.values())[0][\"messages\"][-1].content)"
      ],
      "metadata": {
        "id": "UFL71lmqrXN2",
        "colab": {
          "base_uri": "https://localhost:8080/"
        },
        "outputId": "3ffa57dc-ecd9-45fd-f479-9155e676bca0"
      },
      "id": "UFL71lmqrXN2",
      "execution_count": 11,
      "outputs": [
        {
          "output_type": "stream",
          "name": "stdout",
          "text": [
            "EVENT: It's nice to meet you, Junaid.  How can I help you today?\n",
            "\n"
          ]
        }
      ]
    },
    {
      "cell_type": "code",
      "source": [
        "# for event in graph.stream({\"messages\": [(\"user\", \"I am Junaid\")]}):\n",
        "#     # print(\"Event: \", event)\n",
        "#     for value in event.values():\n",
        "#         # print(\"Value:\", value)\n",
        "#         print(\"Assistant:\", value[\"messages\"][-1].content)"
      ],
      "metadata": {
        "id": "onRLz1a3w6ks"
      },
      "id": "onRLz1a3w6ks",
      "execution_count": 85,
      "outputs": []
    },
    {
      "cell_type": "markdown",
      "id": "a98097a3-a126-4081-b21e-697ec1185fff",
      "metadata": {
        "id": "a98097a3-a126-4081-b21e-697ec1185fff"
      },
      "source": [
        "Now let's run the chatbot!\n",
        "\n",
        "**Tip:** You can exit the chat loop at any time by typing \"quit\", \"exit\", or \"q\"."
      ]
    },
    {
      "cell_type": "code",
      "execution_count": 12,
      "id": "6a385b06-8d34-4a2d-aded-1cf4bb0ca590",
      "metadata": {
        "id": "6a385b06-8d34-4a2d-aded-1cf4bb0ca590",
        "colab": {
          "base_uri": "https://localhost:8080/"
        },
        "outputId": "e807e74b-c485-4edb-8086-a843d0d96325"
      },
      "outputs": [
        {
          "output_type": "stream",
          "name": "stdout",
          "text": [
            "User: who is the president of Pakistan?\n",
            "Assistant: The current president of Pakistan is Arif Alvi.\n",
            "\n",
            "User: q\n",
            "Goodbye!\n"
          ]
        }
      ],
      "source": [
        "def stream_graph_updates(user_input: str):\n",
        "    for event in graph.stream({\"messages\": [(\"user\", user_input)]}):\n",
        "        for value in event.values():\n",
        "            print(\"Assistant:\", value[\"messages\"][-1].content)\n",
        "\n",
        "\n",
        "while True:\n",
        "    try:\n",
        "        user_input = input(\"User: \")\n",
        "        if user_input.lower() in [\"quit\", \"exit\", \"q\"]:\n",
        "            print(\"Goodbye!\")\n",
        "            break\n",
        "\n",
        "        stream_graph_updates(user_input)\n",
        "    except:\n",
        "        # fallback if input() is not available\n",
        "        user_input = \"What do you know about LangGraph?\"\n",
        "        print(\"User: \" + user_input)\n",
        "        stream_graph_updates(user_input)\n",
        "        break"
      ]
    },
    {
      "cell_type": "markdown",
      "id": "98e1cdb5-869a-41ea-9dab-e28cfc524499",
      "metadata": {
        "id": "98e1cdb5-869a-41ea-9dab-e28cfc524499"
      },
      "source": [
        "**Congratulations!** You've built your first chatbot using LangGraph. This bot can engage in basic conversation by taking user input and generating responses using an LLM. You can inspect a [LangSmith Trace](https://smith.langchain.com/public/7527e308-9502-4894-b347-f34385740d5a/r) for the call above at the provided link.\n",
        "\n",
        "However, you may have noticed that the bot's knowledge is limited to what's in its training data. In the next part, we'll add a web search tool to expand the bot's knowledge and make it more capable.\n",
        "\n",
        "Below is the full code for this section for your reference:\n",
        "\n",
        "<details>\n",
        "<summary>Full Code</summary>\n",
        "    <pre>\n",
        "        \n",
        "```python\n",
        "from typing import Annotated\n",
        "\n",
        "from langchain_anthropic import ChatAnthropic\n",
        "from typing_extensions import TypedDict\n",
        "\n",
        "from langgraph.graph import StateGraph\n",
        "from langgraph.graph.message import add_messages\n",
        "\n",
        "\n",
        "class State(TypedDict):\n",
        "    messages: Annotated[list, add_messages]\n",
        "\n",
        "\n",
        "graph_builder = StateGraph(State)\n",
        "\n",
        "\n",
        "llm = ChatAnthropic(model=\"claude-3-5-sonnet-20240620\")\n",
        "\n",
        "\n",
        "def chatbot(state: State):\n",
        "    return {\"messages\": [llm.invoke(state[\"messages\"])]}\n",
        "\n",
        "\n",
        "# The first argument is the unique node name\n",
        "# The second argument is the function or object that will be called whenever\n",
        "# the node is used.\n",
        "graph_builder.add_node(\"chatbot\", chatbot)\n",
        "graph_builder.set_entry_point(\"chatbot\")\n",
        "graph_builder.set_finish_point(\"chatbot\")\n",
        "graph = graph_builder.compile()\n",
        "```\n",
        "\n",
        "</pre>\n",
        "</details>"
      ]
    },
    {
      "cell_type": "markdown",
      "id": "f22c5d4a-3134-413c-81fe-dd9752fbeb66",
      "metadata": {
        "id": "f22c5d4a-3134-413c-81fe-dd9752fbeb66"
      },
      "source": [
        "## Part 2: Enhancing the Chatbot with Tools\n",
        "\n",
        "To handle queries our chatbot can't answer \"from memory\", we'll integrate a web search tool. Our bot can use this tool to find relevant information and provide better responses.\n",
        "\n",
        "#### Requirements\n",
        "\n",
        "Before we start, make sure you have the necessary packages installed and API keys set up:\n",
        "\n",
        "First, install the requirements to use the [Tavily Search Engine](https://python.langchain.com/docs/integrations/tools/tavily_search/), and set your [TAVILY_API_KEY](https://tavily.com/)."
      ]
    },
    {
      "cell_type": "code",
      "execution_count": 13,
      "id": "7451151f-41fc-4af0-9359-024ae51b7225",
      "metadata": {
        "id": "7451151f-41fc-4af0-9359-024ae51b7225"
      },
      "outputs": [],
      "source": [
        "%%capture --no-stderr\n",
        "%pip install -U tavily-python langchain_community"
      ]
    },
    {
      "cell_type": "code",
      "execution_count": 14,
      "id": "0c52923c-5665-4f8c-a1ba-9799e369c49e",
      "metadata": {
        "id": "0c52923c-5665-4f8c-a1ba-9799e369c49e"
      },
      "outputs": [],
      "source": [
        "os.environ[\"TAVILY_API_KEY\"] = userdata.get(\"TAVILY_API_KEY\")"
      ]
    },
    {
      "cell_type": "markdown",
      "id": "591ce9ba-c431-4165-b815-25c944ef7cdb",
      "metadata": {
        "id": "591ce9ba-c431-4165-b815-25c944ef7cdb"
      },
      "source": [
        "Next, define the tool:"
      ]
    },
    {
      "cell_type": "code",
      "execution_count": 15,
      "id": "35c8978e-c07d-4dd0-a97b-0ce3a723eea5",
      "metadata": {
        "id": "35c8978e-c07d-4dd0-a97b-0ce3a723eea5",
        "colab": {
          "base_uri": "https://localhost:8080/"
        },
        "outputId": "7e70f195-15fb-4e29-b89b-979815957ab2"
      },
      "outputs": [
        {
          "output_type": "stream",
          "name": "stdout",
          "text": [
            "Tools [TavilySearchResults(max_results=2, api_wrapper=TavilySearchAPIWrapper(tavily_api_key=SecretStr('**********')))]\n"
          ]
        },
        {
          "output_type": "execute_result",
          "data": {
            "text/plain": [
              "[{'url': 'https://apnews.com/article/pakistan-president-asif-ali-zardari-imran-khan-ca74042f395b185cfeada5d7abaa133a',\n",
              "  'content': 'Pakistan’s lawmakers pick Asif Ali Zardari as the country’s president for a second time\\nIn this photo released by Prime Minister Office, Prime Minister Shehbaz Sharif, left, meets with newly election Pakistan’s In this photo released by Prime Minister Office, Prime Minister Shehbaz Sharif, second right, presents bouquet to newly election Pakistan’s President Asif Ali Zardari, center, upon arrival at his resident in Islamabad, Pakistan, Saturday, March 9, 2023. In this photo released by Prime Minister Office, Prime Minister Shehbaz Sharif, second right, presents bouquet to newly election Pakistan’s President Asif Ali Zardari, center, upon arrival at his resident in Islamabad, Pakistan, Saturday, March 9, 2023. In this photo released by Prime Minister Office, Prime Minister Shehbaz Sharif, second right, presents bouquet to newly election Pakistan’s President Asif Ali Zardari, center, upon arrival at his resident in Islamabad, Pakistan, Saturday, March 9, 2023. In this photo released by Prime Minister Office, Prime Minister Shehbaz Sharif, left, meets with newly election Pakistan’s President Asif Ali Zardari, in Islamabad, Pakistan, Saturday, March 9, 2023.'},\n",
              " {'url': 'https://en.wikipedia.org/wiki/List_of_heads_of_state_of_Pakistan',\n",
              "  'content': \"This is a list of the heads of state of Pakistan, from the foundation of Pakistan in 1947 to the present day. The current head of state of Pakistan is Asif Ali Zardari, elected in 2024 after being nominated by the Pakistan People's Party.. From 1947 to 1956 the head of state was the Pakistani monarch, who was the same person as the monarch of the United Kingdom and the other Commonwealth realms.\"}]"
            ]
          },
          "metadata": {},
          "execution_count": 15
        }
      ],
      "source": [
        "from langchain_community.tools.tavily_search import TavilySearchResults\n",
        "\n",
        "tool = TavilySearchResults(max_results=2)\n",
        "tools = [tool]\n",
        "print(\"Tools\", tools)\n",
        "tool.invoke(\"Who's the president of Pakistan\")"
      ]
    },
    {
      "cell_type": "markdown",
      "id": "7f503f02-d23d-42e8-9b5d-eb2681b242f4",
      "metadata": {
        "id": "7f503f02-d23d-42e8-9b5d-eb2681b242f4"
      },
      "source": [
        "The results are page summaries our chat bot can use to answer questions.\n",
        "\n",
        "\n",
        "Next, we'll start defining our graph. The following is all **the same as in Part 1**, except we have added `bind_tools` on our LLM. This lets the LLM know the correct JSON format to use if it wants to use our search engine."
      ]
    },
    {
      "cell_type": "code",
      "execution_count": 16,
      "id": "dc5af88b-47d2-43bf-9a2c-6c07506b1732",
      "metadata": {
        "id": "dc5af88b-47d2-43bf-9a2c-6c07506b1732",
        "colab": {
          "base_uri": "https://localhost:8080/"
        },
        "outputId": "c865b93d-c7d5-4c22-a7dd-a7cdaf38153b"
      },
      "outputs": [
        {
          "output_type": "execute_result",
          "data": {
            "text/plain": [
              "<langgraph.graph.state.StateGraph at 0x7fdd1c68ba90>"
            ]
          },
          "metadata": {},
          "execution_count": 16
        }
      ],
      "source": [
        "from typing import Annotated\n",
        "\n",
        "from typing_extensions import TypedDict\n",
        "\n",
        "from langgraph.graph import StateGraph, START, END\n",
        "from langgraph.graph.message import add_messages\n",
        "\n",
        "\n",
        "class State(TypedDict):\n",
        "    messages: Annotated[list, add_messages]\n",
        "\n",
        "\n",
        "graph_builder = StateGraph(State)\n",
        "\n",
        "\n",
        "# Modification: tell the LLM which tools it can call\n",
        "llm_with_tools = llm.bind_tools(tools)\n",
        "\n",
        "\n",
        "def chatbot(state: State):\n",
        "    return {\"messages\": [llm_with_tools.invoke(state[\"messages\"])]}\n",
        "\n",
        "\n",
        "graph_builder.add_node(\"chatbot\", chatbot)"
      ]
    },
    {
      "cell_type": "markdown",
      "id": "d1e84cfc-b1b2-48e3-8550-152a408c3926",
      "metadata": {
        "id": "d1e84cfc-b1b2-48e3-8550-152a408c3926"
      },
      "source": [
        "Next we need to create a function to actually run the tools if they are called. We'll do this by adding the tools to a new node.\n",
        "\n",
        "Below, we implement a `BasicToolNode` that checks the most recent message in the state and calls tools if the message contains `tool_calls`. It relies on the LLM's `tool_calling` support, which is available in Anthropic, OpenAI, Google Gemini, and a number of other LLM providers.\n",
        "\n",
        "We will later replace this with LangGraph's prebuilt [ToolNode](https://langchain-ai.github.io/langgraph/reference/prebuilt/#toolnode) to speed things up, but building it ourselves first is instructive."
      ]
    },
    {
      "cell_type": "code",
      "source": [
        "# tools_by_name = {tool.name: tool for tool in tools}\n",
        "# print(type(tools_by_name))\n",
        "# print(tools_by_name)\n",
        "\n",
        "# tools_by_name[\"tavily_search_results_json\"]\n",
        "\n",
        "# llm_with_tools.invoke(\"search using tool and what polls say about winner 2024 presidential elections\")"
      ],
      "metadata": {
        "id": "lp4gYto3rlFt"
      },
      "id": "lp4gYto3rlFt",
      "execution_count": 91,
      "outputs": []
    },
    {
      "cell_type": "code",
      "source": [
        "# tool_calls=[\n",
        "#     {\n",
        "#         'name': 'tavily_search_results_json',\n",
        "#         'args': {'query': '2024 presidential election polls'},\n",
        "#         'id': 'f7662c20-0bc5-4788-b7d0-cf4794149066',\n",
        "#         'type': 'tool_call'\n",
        "#         }\n",
        "#     ]"
      ],
      "metadata": {
        "id": "vfx8WHvO2Anl"
      },
      "id": "vfx8WHvO2Anl",
      "execution_count": 92,
      "outputs": []
    },
    {
      "cell_type": "code",
      "execution_count": 17,
      "id": "12f1fc14-cd91-4cd4-9f2e-1d007f8beafc",
      "metadata": {
        "id": "12f1fc14-cd91-4cd4-9f2e-1d007f8beafc",
        "colab": {
          "base_uri": "https://localhost:8080/"
        },
        "outputId": "0ad6158b-9587-4efc-8c11-b0ce323b2016"
      },
      "outputs": [
        {
          "output_type": "execute_result",
          "data": {
            "text/plain": [
              "<langgraph.graph.state.StateGraph at 0x7fdd1c68ba90>"
            ]
          },
          "metadata": {},
          "execution_count": 17
        }
      ],
      "source": [
        "import json\n",
        "\n",
        "from langchain_core.messages import ToolMessage\n",
        "\n",
        "\n",
        "class BasicToolNode:\n",
        "    \"\"\"A node that runs the tools requested in the last AIMessage.\"\"\"\n",
        "\n",
        "    def __init__(self, tools: list) -> None:\n",
        "        self.tools_by_name = {tool.name: tool for tool in tools}\n",
        "\n",
        "    def __call__(self, inputs: dict) -> dict: # called when provide argument to instance of BasicToolNode class\n",
        "        if messages := inputs.get(\"messages\", []):\n",
        "            message = messages[-1]\n",
        "            print(\"Message:\", message , \"\\n\")\n",
        "        else:\n",
        "            raise ValueError(\"No message found in input\")\n",
        "        outputs = []  # type: list[ToolMessage]\n",
        "        for tool_call in message.tool_calls:\n",
        "            print(\"Tool Call:\", tool_call, \"\\n\")\n",
        "            tool_result = self.tools_by_name[tool_call[\"name\"]].invoke(\n",
        "                tool_call[\"args\"]\n",
        "            )\n",
        "            outputs.append(\n",
        "                ToolMessage(\n",
        "                    content=json.dumps(tool_result),\n",
        "                    name=tool_call[\"name\"],\n",
        "                    tool_call_id=tool_call[\"id\"],\n",
        "                )\n",
        "            )\n",
        "        return {\"messages\": outputs}\n",
        "\n",
        "\n",
        "tool_node = BasicToolNode(tools=[tool])\n",
        "graph_builder.add_node(\"tools\", tool_node)"
      ]
    },
    {
      "cell_type": "code",
      "source": [
        "from langchain_core.messages import HumanMessage, AIMessage\n",
        "\n",
        "messages = [\n",
        "AIMessage(content='',\n",
        "          additional_kwargs={'function_call': {'name': 'tavily_search_results_json', 'arguments': '{\"query\": \"2024 presidential elections polls\"}'}},\n",
        "          response_metadata={'prompt_feedback': {'block_reason': 0, 'safety_ratings': []}, 'finish_reason': 'STOP', 'safety_ratings': []},\n",
        "          id='run-621e608b-24ae-4d50-8605-33415037f7df-0',\n",
        "          tool_calls=[{'name': 'tavily_search_results_json', 'args': {'query': '2024 presidential elections polls'}, 'id': '826c7148-a96a-4f79-9c64-325c97489d5e', 'type': 'tool_call'}],\n",
        "          usage_metadata={'input_tokens': 90, 'output_tokens': 16, 'total_tokens': 106, 'input_token_details': {'cache_read': 0}})\n",
        "]\n",
        "\n",
        "tool_node(inputs={\"messages\": messages})"
      ],
      "metadata": {
        "id": "zZrtm_chsEVV",
        "colab": {
          "base_uri": "https://localhost:8080/"
        },
        "outputId": "3d5eb3b3-ca24-47e3-fb6a-04a7e8917060"
      },
      "id": "zZrtm_chsEVV",
      "execution_count": 18,
      "outputs": [
        {
          "output_type": "stream",
          "name": "stdout",
          "text": [
            "Message: content='' additional_kwargs={'function_call': {'name': 'tavily_search_results_json', 'arguments': '{\"query\": \"2024 presidential elections polls\"}'}} response_metadata={'prompt_feedback': {'block_reason': 0, 'safety_ratings': []}, 'finish_reason': 'STOP', 'safety_ratings': []} id='run-621e608b-24ae-4d50-8605-33415037f7df-0' tool_calls=[{'name': 'tavily_search_results_json', 'args': {'query': '2024 presidential elections polls'}, 'id': '826c7148-a96a-4f79-9c64-325c97489d5e', 'type': 'tool_call'}] usage_metadata={'input_tokens': 90, 'output_tokens': 16, 'total_tokens': 106, 'input_token_details': {'cache_read': 0}} \n",
            "\n",
            "Tool Call: {'name': 'tavily_search_results_json', 'args': {'query': '2024 presidential elections polls'}, 'id': '826c7148-a96a-4f79-9c64-325c97489d5e', 'type': 'tool_call'} \n",
            "\n"
          ]
        },
        {
          "output_type": "execute_result",
          "data": {
            "text/plain": [
              "{'messages': [ToolMessage(content='[{\"url\": \"https://en.wikipedia.org/wiki/Nationwide_opinion_polling_for_the_2024_United_States_presidential_election\", \"content\": \"Polling aggregations[edit]\\\\nJoe Biden vs. Donald Trump[edit]\\\\nJoe Biden vs. Donald Trump vs. Robert F. Kennedy Jr.[edit]\\\\nJoe Biden vs. Donald Trump vs. Robert F. Kennedy Jr. vs. Cornel West[edit]\\\\nJoe Biden vs. Ron DeSantis[edit]\\\\nJoe Biden vs. Nikki Haley[edit]\\\\nKamala Harris vs. Donald Trump[edit]\\\\nNational poll results[edit]\\\\nDeclared candidates[edit]\\\\n Contents\\\\nNationwide opinion polling for the 2024 United States presidential election\\\\nThis is a list of nationwide public opinion polls that were conducted relating to the general election for the 2024 United States presidential election. The following nationwide polls feature at least one individual who has publicly denied interest in running for president or has withdrawn from the race, as well as unnamed \\\\\"generic\\\\\" candidates.\\\\n The following nationwide polls feature at least one individual who is not a candidate for president, nor have they declined the possibility of a future campaign.\\\\n The following head-to-head polls feature individuals who have both officially declared their candidacies outside of exploratory committees and pending announcements.\\\\n\"}, {\"url\": \"https://projects.fivethirtyeight.com/2024-election-forecast/\", \"content\": \"With the 2024 presidential election a week away, 538\\'s Galen Druke and G. Elliott Morris discuss the relevancy of early voting data. October 29, 2024. The 2024 election could hinge on Pennsylvania. ... What the polls say about the 2024 election.\"}]', name='tavily_search_results_json', tool_call_id='826c7148-a96a-4f79-9c64-325c97489d5e')]}"
            ]
          },
          "metadata": {},
          "execution_count": 18
        }
      ]
    },
    {
      "cell_type": "markdown",
      "id": "b049afc4-7757-40ba-8e00-589d378e816d",
      "metadata": {
        "id": "b049afc4-7757-40ba-8e00-589d378e816d"
      },
      "source": [
        "With the tool node added, we can define the `conditional_edges`.\n",
        "\n",
        "Recall that **edges** route the control flow from one node to the next. **Conditional edges** usually contain \"if\" statements to route to different nodes depending on the current graph state. These functions receive the current graph `state` and return a string or list of strings indicating which node(s) to call next.\n",
        "\n",
        "Below, call define a router function called `route_tools`, that checks for tool_calls in the chatbot's output. Provide this function to the graph by calling `add_conditional_edges`, which tells the graph that whenever the `chatbot` node completes to check this function to see where to go next.\n",
        "\n",
        "The condition will route to `tools` if tool calls are present and `END` if not.\n",
        "\n",
        "Later, we will replace this with the prebuilt [tools_condition](https://langchain-ai.github.io/langgraph/reference/prebuilt/#tools_condition) to be more concise, but implementing it ourselves first makes things more clear."
      ]
    },
    {
      "cell_type": "code",
      "execution_count": 19,
      "id": "d662df94-66ac-4c6c-92f0-4c93620f1c74",
      "metadata": {
        "id": "d662df94-66ac-4c6c-92f0-4c93620f1c74"
      },
      "outputs": [],
      "source": [
        "from typing import Literal\n",
        "\n",
        "\n",
        "def route_tools(state: State):\n",
        "    \"\"\"\n",
        "    Use in the conditional_edge to route to the ToolNode if the last message\n",
        "    has tool calls. Otherwise, route to the end.\n",
        "    \"\"\"\n",
        "    if isinstance(state, list):\n",
        "        ai_message = state[-1]\n",
        "    elif messages := state.get(\"messages\", []):\n",
        "        ai_message = messages[-1]\n",
        "    else:\n",
        "        raise ValueError(f\"No messages found in input state to tool_edge: {state}\")\n",
        "    if hasattr(ai_message, \"tool_calls\") and len(ai_message.tool_calls) > 0:\n",
        "        return \"tools\"\n",
        "    return END\n",
        "\n",
        "\n",
        "# The `tools_condition` function returns \"tools\" if the chatbot asks to use a tool, and \"END\" if\n",
        "# it is fine directly responding. This conditional routing defines the main agent loop.\n",
        "graph_builder.add_conditional_edges(\n",
        "    \"chatbot\",\n",
        "    route_tools,\n",
        "    # The following dictionary lets you tell the graph to interpret the condition's outputs as a specific node\n",
        "    # It defaults to the identity function, but if you\n",
        "    # want to use a node named something else apart from \"tools\",\n",
        "    # You can update the value of the dictionary to something else\n",
        "    # e.g., \"tools\": \"my_tools\"\n",
        "    {\"tools\": \"tools\", END: END},\n",
        ")\n",
        "# Any time a tool is called, we return to the chatbot to decide the next step\n",
        "graph_builder.add_edge(\"tools\", \"chatbot\")\n",
        "graph_builder.add_edge(START, \"chatbot\")\n",
        "graph = graph_builder.compile()"
      ]
    },
    {
      "cell_type": "markdown",
      "id": "a2aa67c2-dd1b-4bf2-8c64-eea44296d15f",
      "metadata": {
        "id": "a2aa67c2-dd1b-4bf2-8c64-eea44296d15f"
      },
      "source": [
        "**Notice** that conditional edges start from a single node. This tells the graph \"any time the '`chatbot`' node runs, either go to 'tools' if it calls a tool, or end the loop if it responds directly.\n",
        "\n",
        "Like the prebuilt `tools_condition`, our function returns the `END` string if no tool calls are made. When the graph transitions to `END`, it has no more tasks to complete and ceases execution. Because the condition can return `END`, we don't need to explicitly set a `finish_point` this time. Our graph already has a way to finish!\n",
        "\n",
        "Let's visualize the graph we've built. The following function has some additional dependencies to run that are unimportant for this tutorial."
      ]
    },
    {
      "cell_type": "code",
      "execution_count": 20,
      "id": "8b49509c-9d97-457c-a76a-c495fb30ccbc",
      "metadata": {
        "id": "8b49509c-9d97-457c-a76a-c495fb30ccbc",
        "colab": {
          "base_uri": "https://localhost:8080/",
          "height": 266
        },
        "outputId": "7d9c0f5f-d050-4aa4-9c26-1a4aec684cc0"
      },
      "outputs": [
        {
          "output_type": "display_data",
          "data": {
            "image/png": "[encoded data removed]",
            "text/plain": [
              "<IPython.core.display.Image object>"
            ]
          },
          "metadata": {}
        }
      ],
      "source": [
        "from IPython.display import Image, display\n",
        "\n",
        "try:\n",
        "    display(Image(graph.get_graph().draw_mermaid_png()))\n",
        "except Exception:\n",
        "    # This requires some extra dependencies and is optional\n",
        "    pass"
      ]
    },
    {
      "cell_type": "markdown",
      "id": "c59593ef-5073-4279-931e-828dae971f23",
      "metadata": {
        "id": "c59593ef-5073-4279-931e-828dae971f23"
      },
      "source": [
        "Now we can ask the bot questions outside its training data."
      ]
    },
    {
      "cell_type": "code",
      "execution_count": 21,
      "id": "051dc374-67cc-4371-9dd1-221e07593148",
      "metadata": {
        "id": "051dc374-67cc-4371-9dd1-221e07593148",
        "colab": {
          "base_uri": "https://localhost:8080/"
        },
        "outputId": "50d72f16-4660-48d1-fd56-e9f3854f9967"
      },
      "outputs": [
        {
          "output_type": "stream",
          "name": "stdout",
          "text": [
            "User: who is the president of Pakistan?\n",
            "Event:  {'chatbot': {'messages': [AIMessage(content='', additional_kwargs={'function_call': {'name': 'tavily_search_results_json', 'arguments': '{\"query\": \"who is the president of Pakistan?\"}'}}, response_metadata={'prompt_feedback': {'block_reason': 0, 'safety_ratings': []}, 'finish_reason': 'STOP', 'safety_ratings': []}, id='run-26916d8d-860e-45b4-a001-ddb57746d60f-0', tool_calls=[{'name': 'tavily_search_results_json', 'args': {'query': 'who is the president of Pakistan?'}, 'id': '7446204f-58dd-427f-b2da-50dd7c6b1cb2', 'type': 'tool_call'}], usage_metadata={'input_tokens': 81, 'output_tokens': 16, 'total_tokens': 97, 'input_token_details': {'cache_read': 0}})]}} \n",
            "\n",
            "Assistant: \n",
            "Message: content='' additional_kwargs={'function_call': {'name': 'tavily_search_results_json', 'arguments': '{\"query\": \"who is the president of Pakistan?\"}'}} response_metadata={'prompt_feedback': {'block_reason': 0, 'safety_ratings': []}, 'finish_reason': 'STOP', 'safety_ratings': []} id='run-26916d8d-860e-45b4-a001-ddb57746d60f-0' tool_calls=[{'name': 'tavily_search_results_json', 'args': {'query': 'who is the president of Pakistan?'}, 'id': '7446204f-58dd-427f-b2da-50dd7c6b1cb2', 'type': 'tool_call'}] usage_metadata={'input_tokens': 81, 'output_tokens': 16, 'total_tokens': 97, 'input_token_details': {'cache_read': 0}} \n",
            "\n",
            "Tool Call: {'name': 'tavily_search_results_json', 'args': {'query': 'who is the president of Pakistan?'}, 'id': '7446204f-58dd-427f-b2da-50dd7c6b1cb2', 'type': 'tool_call'} \n",
            "\n",
            "Event:  {'tools': {'messages': [ToolMessage(content='[{\"url\": \"https://mofa.gov.pk/president-of-pakistan\", \"content\": \"President Asif Ali Zardari is the 14th President of Pakistan. He took the oath of the office on 10 March 2024. Previously, he served as the 11th President of Pakistan from 2008 to 2013. Born to a Baloch family from Sindh province on 26 July 1955, Mr. Asif Ali Zardari belongs to a political family.\"}, {\"url\": \"https://apnews.com/article/pakistan-president-asif-ali-zardari-imran-khan-ca74042f395b185cfeada5d7abaa133a\", \"content\": \"Pakistan\\\\u2019s lawmakers pick Asif Ali Zardari as the country\\\\u2019s president for a second time\\\\nIn this photo released by Prime Minister Office, Prime Minister Shehbaz Sharif, left, meets with newly election Pakistan\\\\u2019s In this photo released by Prime Minister Office, Prime Minister Shehbaz Sharif, second right, presents bouquet to newly election Pakistan\\\\u2019s President Asif Ali Zardari, center, upon arrival at his resident in Islamabad, Pakistan, Saturday, March 9, 2023. In this photo released by Prime Minister Office, Prime Minister Shehbaz Sharif, second right, presents bouquet to newly election Pakistan\\\\u2019s President Asif Ali Zardari, center, upon arrival at his resident in Islamabad, Pakistan, Saturday, March 9, 2023. In this photo released by Prime Minister Office, Prime Minister Shehbaz Sharif, second right, presents bouquet to newly election Pakistan\\\\u2019s President Asif Ali Zardari, center, upon arrival at his resident in Islamabad, Pakistan, Saturday, March 9, 2023. In this photo released by Prime Minister Office, Prime Minister Shehbaz Sharif, left, meets with newly election Pakistan\\\\u2019s President Asif Ali Zardari, in Islamabad, Pakistan, Saturday, March 9, 2023.\"}]', name='tavily_search_results_json', id='1784f9a9-e050-4598-8226-ddc95250cb7f', tool_call_id='7446204f-58dd-427f-b2da-50dd7c6b1cb2')]}} \n",
            "\n",
            "Assistant: [{\"url\": \"https://mofa.gov.pk/president-of-pakistan\", \"content\": \"President Asif Ali Zardari is the 14th President of Pakistan. He took the oath of the office on 10 March 2024. Previously, he served as the 11th President of Pakistan from 2008 to 2013. Born to a Baloch family from Sindh province on 26 July 1955, Mr. Asif Ali Zardari belongs to a political family.\"}, {\"url\": \"https://apnews.com/article/pakistan-president-asif-ali-zardari-imran-khan-ca74042f395b185cfeada5d7abaa133a\", \"content\": \"Pakistan\\u2019s lawmakers pick Asif Ali Zardari as the country\\u2019s president for a second time\\nIn this photo released by Prime Minister Office, Prime Minister Shehbaz Sharif, left, meets with newly election Pakistan\\u2019s In this photo released by Prime Minister Office, Prime Minister Shehbaz Sharif, second right, presents bouquet to newly election Pakistan\\u2019s President Asif Ali Zardari, center, upon arrival at his resident in Islamabad, Pakistan, Saturday, March 9, 2023. In this photo released by Prime Minister Office, Prime Minister Shehbaz Sharif, second right, presents bouquet to newly election Pakistan\\u2019s President Asif Ali Zardari, center, upon arrival at his resident in Islamabad, Pakistan, Saturday, March 9, 2023. In this photo released by Prime Minister Office, Prime Minister Shehbaz Sharif, second right, presents bouquet to newly election Pakistan\\u2019s President Asif Ali Zardari, center, upon arrival at his resident in Islamabad, Pakistan, Saturday, March 9, 2023. In this photo released by Prime Minister Office, Prime Minister Shehbaz Sharif, left, meets with newly election Pakistan\\u2019s President Asif Ali Zardari, in Islamabad, Pakistan, Saturday, March 9, 2023.\"}]\n",
            "Event:  {'chatbot': {'messages': [AIMessage(content='Asif Ali Zardari is the President of Pakistan.  He was elected in March 2023.\\n', additional_kwargs={}, response_metadata={'prompt_feedback': {'block_reason': 0, 'safety_ratings': []}, 'finish_reason': 'STOP', 'safety_ratings': []}, id='run-541a8861-2d56-4240-a390-70d08b188f4c-0', usage_metadata={'input_tokens': 582, 'output_tokens': 25, 'total_tokens': 607, 'input_token_details': {'cache_read': 0}})]}} \n",
            "\n",
            "Assistant: Asif Ali Zardari is the President of Pakistan.  He was elected in March 2023.\n",
            "\n",
            "User: q\n",
            "Goodbye!\n"
          ]
        }
      ],
      "source": [
        "def stream_graph_updates(user_input: str):\n",
        "    for event in graph.stream({\"messages\": [(\"user\", user_input)]}):\n",
        "        print(\"Event: \",  event, \"\\n\")\n",
        "        for value in event.values():\n",
        "            print(\"Assistant:\", value[\"messages\"][-1].content)\n",
        "\n",
        "while True:\n",
        "    try:\n",
        "        user_input = input(\"User: \")\n",
        "        if user_input.lower() in [\"quit\", \"exit\", \"q\"]:\n",
        "            print(\"Goodbye!\")\n",
        "            break\n",
        "\n",
        "        stream_graph_updates(user_input)\n",
        "    except:\n",
        "        # fallback if input() is not available\n",
        "        user_input = \"What do you know about LangGraph?\"\n",
        "        print(\"User: \" + user_input)\n",
        "        stream_graph_updates(user_input)\n",
        "        break"
      ]
    },
    {
      "cell_type": "markdown",
      "id": "89da9e85-2e5d-49c2-8cbd-572cbdb89135",
      "metadata": {
        "id": "89da9e85-2e5d-49c2-8cbd-572cbdb89135"
      },
      "source": [
        "**Congrats!** You've created a conversational agent in langgraph that can use a search engine to retrieve updated information when needed. Now it can handle a wider range of user queries. To inspect all the steps your agent just took, check out this [LangSmith trace](https://smith.langchain.com/public/4fbd7636-25af-4638-9587-5a02fdbb0172/r).\n",
        "\n",
        "Our chatbot still can't remember past interactions on its own, limiting its ability to have coherent, multi-turn conversations. In the next part, we'll add **memory** to address this.\n",
        "\n",
        "\n",
        "The full code for the graph we've created in this section is reproduced below, replacing our `BasicToolNode` for the prebuilt [ToolNode](https://langchain-ai.github.io/langgraph/reference/prebuilt/#toolnode), and our `route_tools` condition with the prebuilt [tools_condition](https://langchain-ai.github.io/langgraph/reference/prebuilt/#tools_condition)\n",
        "\n",
        "<details>\n",
        "<summary>Full Code</summary>\n",
        "    <pre>\n",
        "\n",
        "```python\n",
        "from typing import Annotated\n",
        "\n",
        "from langchain_anthropic import ChatAnthropic\n",
        "from langchain_community.tools.tavily_search import TavilySearchResults\n",
        "from langchain_core.messages import BaseMessage\n",
        "from typing_extensions import TypedDict\n",
        "\n",
        "from langgraph.graph import StateGraph\n",
        "from langgraph.graph.message import add_messages\n",
        "from langgraph.prebuilt import ToolNode, tools_condition\n",
        "\n",
        "\n",
        "class State(TypedDict):\n",
        "    messages: Annotated[list, add_messages]\n",
        "\n",
        "\n",
        "graph_builder = StateGraph(State)\n",
        "\n",
        "\n",
        "tool = TavilySearchResults(max_results=2)\n",
        "tools = [tool]\n",
        "llm = ChatAnthropic(model=\"claude-3-5-sonnet-20240620\")\n",
        "llm_with_tools = llm.bind_tools(tools)\n",
        "\n",
        "\n",
        "def chatbot(state: State):\n",
        "    return {\"messages\": [llm_with_tools.invoke(state[\"messages\"])]}\n",
        "\n",
        "\n",
        "graph_builder.add_node(\"chatbot\", chatbot)\n",
        "\n",
        "tool_node = ToolNode(tools=[tool])\n",
        "graph_builder.add_node(\"tools\", tool_node)\n",
        "\n",
        "graph_builder.add_conditional_edges(\n",
        "    \"chatbot\",\n",
        "    tools_condition,\n",
        ")\n",
        "# Any time a tool is called, we return to the chatbot to decide the next step\n",
        "graph_builder.add_edge(\"tools\", \"chatbot\")\n",
        "graph_builder.set_entry_point(\"chatbot\")\n",
        "graph = graph_builder.compile()\n",
        "```\n",
        "\n",
        "</pre>\n",
        "</details>"
      ]
    },
    {
      "cell_type": "markdown",
      "id": "ae45f2aa-396f-4f3f-848b-7750611617f8",
      "metadata": {
        "id": "ae45f2aa-396f-4f3f-848b-7750611617f8"
      },
      "source": [
        "## Part 3: Adding Memory to the Chatbot\n",
        "\n",
        "Our chatbot can now use tools to answer user questions, but it doesn't remember the context of previous interactions. This limits its ability to have coherent, multi-turn conversations.\n",
        "\n",
        "LangGraph solves this problem through **persistent checkpointing**. If you provide a `checkpointer` when compiling the graph and a `thread_id` when calling your graph, LangGraph automatically saves the state after each step. When you invoke the graph again using the same `thread_id`, the graph loads its saved state, allowing the chatbot to pick up where it left off.\n",
        "\n",
        "We will see later that **checkpointing** is _much_ more powerful than simple chat memory - it lets you save and resume complex state at any time for error recovery, human-in-the-loop workflows, time travel interactions, and more. But before we get too ahead of ourselves, let's add checkpointing to enable multi-turn conversations.\n",
        "\n",
        "To get started, create a `MemorySaver` checkpointer."
      ]
    },
    {
      "cell_type": "code",
      "execution_count": 22,
      "id": "6baafdf6-6803-4305-9381-9dc970468a4d",
      "metadata": {
        "id": "6baafdf6-6803-4305-9381-9dc970468a4d"
      },
      "outputs": [],
      "source": [
        "from langgraph.checkpoint.memory import MemorySaver\n",
        "\n",
        "memory = MemorySaver()"
      ]
    },
    {
      "cell_type": "markdown",
      "id": "08d3d11a-1b42-4cbb-8e11-2a4294263d90",
      "metadata": {
        "id": "08d3d11a-1b42-4cbb-8e11-2a4294263d90"
      },
      "source": [
        "**Notice** we're using an in-memory checkpointer. This is convenient for our tutorial (it saves it all in-memory). In a production application, you would likely change this to use `SqliteSaver` or `PostgresSaver` and connect to your own DB.\n",
        "\n",
        "Next define the graph. Now that you've already built your own `BasicToolNode`, we'll replace it with LangGraph's prebuilt `ToolNode` and `tools_condition`, since these do some nice things like parallel API execution. Apart from that, the following is all copied from Part 2."
      ]
    },
    {
      "cell_type": "code",
      "execution_count": 23,
      "id": "e6a51f1e-00de-4701-8931-de8cf19294ae",
      "metadata": {
        "id": "e6a51f1e-00de-4701-8931-de8cf19294ae",
        "colab": {
          "base_uri": "https://localhost:8080/"
        },
        "outputId": "2241d90e-d8f2-4fe2-ce16-7e3ca8a8a49d"
      },
      "outputs": [
        {
          "output_type": "execute_result",
          "data": {
            "text/plain": [
              "<langgraph.graph.state.StateGraph at 0x7fdd1c37c5b0>"
            ]
          },
          "metadata": {},
          "execution_count": 23
        }
      ],
      "source": [
        "from typing import Annotated\n",
        "\n",
        "from langchain_community.tools.tavily_search import TavilySearchResults\n",
        "from langchain_core.messages import BaseMessage\n",
        "from typing_extensions import TypedDict\n",
        "\n",
        "from langgraph.graph import StateGraph, START, END\n",
        "from langgraph.graph.message import add_messages\n",
        "from langgraph.prebuilt import ToolNode, tools_condition\n",
        "\n",
        "\n",
        "class State(TypedDict):\n",
        "    messages: Annotated[list, add_messages]\n",
        "\n",
        "\n",
        "graph_builder = StateGraph(State)\n",
        "\n",
        "\n",
        "tool = TavilySearchResults(max_results=2)\n",
        "tools = [tool]\n",
        "llm_with_tools = llm.bind_tools(tools)\n",
        "\n",
        "\n",
        "def chatbot(state: State):\n",
        "    return {\"messages\": [llm_with_tools.invoke(state[\"messages\"])]}\n",
        "\n",
        "\n",
        "graph_builder.add_node(\"chatbot\", chatbot)\n",
        "\n",
        "tool_node = ToolNode(tools=[tool])\n",
        "graph_builder.add_node(\"tools\", tool_node)\n",
        "\n",
        "graph_builder.add_conditional_edges(\n",
        "    \"chatbot\",\n",
        "    tools_condition,\n",
        ")\n",
        "# Any time a tool is called, we return to the chatbot to decide the next step\n",
        "graph_builder.add_edge(\"tools\", \"chatbot\")\n",
        "graph_builder.add_edge(START, \"chatbot\")"
      ]
    },
    {
      "cell_type": "markdown",
      "id": "8a292dfe-764f-4561-90aa-71317d679d3e",
      "metadata": {
        "id": "8a292dfe-764f-4561-90aa-71317d679d3e"
      },
      "source": [
        "Finally, compile the graph with the provided checkpointer."
      ]
    },
    {
      "cell_type": "code",
      "execution_count": 24,
      "id": "a06548bf-81fa-4436-b4c1-f68601fb4187",
      "metadata": {
        "id": "a06548bf-81fa-4436-b4c1-f68601fb4187"
      },
      "outputs": [],
      "source": [
        "graph = graph_builder.compile(checkpointer=memory)"
      ]
    },
    {
      "cell_type": "markdown",
      "id": "df01805c-4458-4474-b13b-59ecfe228f12",
      "metadata": {
        "id": "df01805c-4458-4474-b13b-59ecfe228f12"
      },
      "source": [
        "Notice the connectivity of the graph hasn't changed since Part 2. All we are doing is checkpointing the `State` as the graph works through each node."
      ]
    },
    {
      "cell_type": "code",
      "execution_count": 25,
      "id": "761d15fb-d5e2-4d50-a630-126d77e77294",
      "metadata": {
        "id": "761d15fb-d5e2-4d50-a630-126d77e77294",
        "colab": {
          "base_uri": "https://localhost:8080/",
          "height": 266
        },
        "outputId": "8928e109-fa8e-4c30-8ec1-c60851a7f760"
      },
      "outputs": [
        {
          "output_type": "display_data",
          "data": {
            "image/png": "[encoded data removed]",
            "text/plain": [
              "<IPython.core.display.Image object>"
            ]
          },
          "metadata": {}
        }
      ],
      "source": [
        "from IPython.display import Image, display\n",
        "\n",
        "try:\n",
        "    display(Image(graph.get_graph().draw_mermaid_png()))\n",
        "except Exception:\n",
        "    # This requires some extra dependencies and is optional\n",
        "    pass"
      ]
    },
    {
      "cell_type": "markdown",
      "id": "2c8265ef-e5b4-4c32-9856-5572b5652142",
      "metadata": {
        "id": "2c8265ef-e5b4-4c32-9856-5572b5652142"
      },
      "source": [
        "Now you can interact with your bot! First, pick a thread to use as the key for this conversation."
      ]
    },
    {
      "cell_type": "code",
      "execution_count": 26,
      "id": "be7b5abb-04ef-4d53-83d1-d4d3139cc43a",
      "metadata": {
        "id": "be7b5abb-04ef-4d53-83d1-d4d3139cc43a"
      },
      "outputs": [],
      "source": [
        "config = {\"configurable\": {\"thread_id\": \"1\"}}"
      ]
    },
    {
      "cell_type": "markdown",
      "id": "d0b1a5ee-7fa2-475c-a9db-749694b90ba9",
      "metadata": {
        "id": "d0b1a5ee-7fa2-475c-a9db-749694b90ba9"
      },
      "source": [
        "Next, call your chat bot."
      ]
    },
    {
      "cell_type": "code",
      "execution_count": 27,
      "id": "dba1b168-f8e0-496d-9bd6-37198fb4776e",
      "metadata": {
        "id": "dba1b168-f8e0-496d-9bd6-37198fb4776e",
        "colab": {
          "base_uri": "https://localhost:8080/"
        },
        "outputId": "ec09359c-1447-4fc8-d5a4-b271734133f6"
      },
      "outputs": [
        {
          "output_type": "stream",
          "name": "stdout",
          "text": [
            "================================\u001b[1m Human Message \u001b[0m=================================\n",
            "\n",
            "Hi there! My name is Alla Ud Din.\n",
            "==================================\u001b[1m Ai Message \u001b[0m==================================\n",
            "\n",
            "Nice to meet you, Alla Ud Din! How can I help you today?\n"
          ]
        }
      ],
      "source": [
        "user_input = \"Hi there! My name is Alla Ud Din.\"\n",
        "\n",
        "# The config is the **second positional argument** to stream() or invoke()!\n",
        "events = graph.stream(\n",
        "    {\"messages\": [(\"user\", user_input)]}, config, stream_mode=\"values\"\n",
        ")\n",
        "for event in events:\n",
        "    event[\"messages\"][-1].pretty_print()"
      ]
    },
    {
      "cell_type": "markdown",
      "id": "33c6b470-5082-4c3e-b732-34de47c88735",
      "metadata": {
        "id": "33c6b470-5082-4c3e-b732-34de47c88735"
      },
      "source": [
        "**Note:** The config was provided as the **second positional argument** when calling our graph. It importantly is _not_ nested within the graph inputs (`{'messages': []}`).\n",
        "\n",
        "Let's ask a followup: see if it remembers your name."
      ]
    },
    {
      "cell_type": "code",
      "execution_count": 28,
      "id": "f5447778-53d7-47f3-801b-f47bcf2185a0",
      "metadata": {
        "id": "f5447778-53d7-47f3-801b-f47bcf2185a0",
        "colab": {
          "base_uri": "https://localhost:8080/"
        },
        "outputId": "94acee86-dcb7-46f1-b4d3-6e00e997c6ce"
      },
      "outputs": [
        {
          "output_type": "stream",
          "name": "stdout",
          "text": [
            "================================\u001b[1m Human Message \u001b[0m=================================\n",
            "\n",
            "Remember my name?\n",
            "==================================\u001b[1m Ai Message \u001b[0m==================================\n",
            "\n",
            "Yes, I remember your name is Alla Ud Din.\n"
          ]
        }
      ],
      "source": [
        "user_input = \"Remember my name?\"\n",
        "\n",
        "# The config is the **second positional argument** to stream() or invoke()!\n",
        "events = graph.stream(\n",
        "    {\"messages\": [(\"user\", user_input)]}, config, stream_mode=\"values\"\n",
        ")\n",
        "for event in events:\n",
        "    event[\"messages\"][-1].pretty_print()"
      ]
    },
    {
      "cell_type": "markdown",
      "id": "33be4cd8-f96f-4949-9d1f-48054502e5d0",
      "metadata": {
        "id": "33be4cd8-f96f-4949-9d1f-48054502e5d0"
      },
      "source": [
        "**Notice** that we aren't using an external list for memory: it's all handled by the checkpointer! You can inspect the full execution in this [LangSmith trace](https://smith.langchain.com/public/29ba22b5-6d40-4fbe-8d27-b369e3329c84/r) to see what's going on.\n",
        "\n",
        "Don't believe me? Try this using a different config."
      ]
    },
    {
      "cell_type": "code",
      "execution_count": 29,
      "id": "4527cf9a-b191-4bde-858a-e33a74a48c55",
      "metadata": {
        "id": "4527cf9a-b191-4bde-858a-e33a74a48c55",
        "colab": {
          "base_uri": "https://localhost:8080/"
        },
        "outputId": "9ca5bd17-77df-48ed-b67d-d06fcd5eae7d"
      },
      "outputs": [
        {
          "output_type": "stream",
          "name": "stdout",
          "text": [
            "================================\u001b[1m Human Message \u001b[0m=================================\n",
            "\n",
            "Remember my name?\n",
            "==================================\u001b[1m Ai Message \u001b[0m==================================\n",
            "\n",
            "I have no memory of past conversations.  Every interaction with me starts afresh.  To help me, you can tell me your name now.\n"
          ]
        }
      ],
      "source": [
        "# The only difference is we change the `thread_id` here to \"2\" instead of \"1\"\n",
        "events = graph.stream(\n",
        "    {\"messages\": [(\"user\", user_input)]},\n",
        "    {\"configurable\": {\"thread_id\": \"2\"}},\n",
        "    stream_mode=\"values\",\n",
        ")\n",
        "for event in events:\n",
        "    event[\"messages\"][-1].pretty_print()"
      ]
    },
    {
      "cell_type": "markdown",
      "id": "5eeccbf0-ed74-4838-a7e9-31910d82b0b2",
      "metadata": {
        "id": "5eeccbf0-ed74-4838-a7e9-31910d82b0b2"
      },
      "source": [
        "**Notice** that the **only** change we've made is to modify the `thread_id` in the config. See this call's [LangSmith trace](https://smith.langchain.com/public/51a62351-2f0a-4058-91cc-9996c5561428/r) for comparison.\n",
        "\n",
        "By now, we have made a few checkpoints across two different threads. But what goes into a checkpoint? To inspect a graph's `state` for a given config at any time, call `get_state(config)`."
      ]
    },
    {
      "cell_type": "code",
      "execution_count": 30,
      "id": "0be77c25-1423-4f2d-9b2d-28530cc761a4",
      "metadata": {
        "id": "0be77c25-1423-4f2d-9b2d-28530cc761a4",
        "colab": {
          "base_uri": "https://localhost:8080/"
        },
        "outputId": "f090b22f-6a5e-4623-a219-da9b3c46be70"
      },
      "outputs": [
        {
          "output_type": "execute_result",
          "data": {
            "text/plain": [
              "StateSnapshot(values={'messages': [HumanMessage(content='Hi there! My name is Alla Ud Din.', additional_kwargs={}, response_metadata={}, id='238a92ed-f83d-4a7b-a36c-0627cf46fc52'), AIMessage(content='Nice to meet you, Alla Ud Din! How can I help you today?\\n', additional_kwargs={}, response_metadata={'prompt_feedback': {'block_reason': 0, 'safety_ratings': []}, 'finish_reason': 'STOP', 'safety_ratings': []}, id='run-846748d2-ed3e-4559-814d-bcad4f49d93e-0', usage_metadata={'input_tokens': 84, 'output_tokens': 17, 'total_tokens': 101, 'input_token_details': {'cache_read': 0}}), HumanMessage(content='Remember my name?', additional_kwargs={}, response_metadata={}, id='02f284c1-2045-435d-926c-61dbcdbb4f20'), AIMessage(content='Yes, I remember your name is Alla Ud Din.\\n', additional_kwargs={}, response_metadata={'prompt_feedback': {'block_reason': 0, 'safety_ratings': []}, 'finish_reason': 'STOP', 'safety_ratings': []}, id='run-9aa4d06a-732f-4f0c-9c23-903a73d46f51-0', usage_metadata={'input_tokens': 107, 'output_tokens': 12, 'total_tokens': 119, 'input_token_details': {'cache_read': 0}})]}, next=(), config={'configurable': {'thread_id': '1', 'checkpoint_ns': '', 'checkpoint_id': '1efbae43-f7e5-664b-8004-39c1793ff4df'}}, metadata={'source': 'loop', 'writes': {'chatbot': {'messages': [AIMessage(content='Yes, I remember your name is Alla Ud Din.\\n', additional_kwargs={}, response_metadata={'prompt_feedback': {'block_reason': 0, 'safety_ratings': []}, 'finish_reason': 'STOP', 'safety_ratings': []}, id='run-9aa4d06a-732f-4f0c-9c23-903a73d46f51-0', usage_metadata={'input_tokens': 107, 'output_tokens': 12, 'total_tokens': 119, 'input_token_details': {'cache_read': 0}})]}}, 'thread_id': '1', 'step': 4, 'parents': {}}, created_at='2024-12-15T12:58:15.232852+00:00', parent_config={'configurable': {'thread_id': '1', 'checkpoint_ns': '', 'checkpoint_id': '1efbae43-f3e6-65c5-8003-9348b93019bc'}}, tasks=())"
            ]
          },
          "metadata": {},
          "execution_count": 30
        }
      ],
      "source": [
        "snapshot = graph.get_state(config)\n",
        "snapshot"
      ]
    },
    {
      "cell_type": "code",
      "source": [
        "print(snapshot.values)\n",
        "print(snapshot.values['messages'])\n",
        "print(len(snapshot.values['messages']))\n",
        "for content in snapshot.values['messages']:\n",
        "    print(content.content)"
      ],
      "metadata": {
        "id": "RkruGXktTJDa",
        "outputId": "1c27de63-ced4-4a44-a274-162e764b5185",
        "colab": {
          "base_uri": "https://localhost:8080/"
        }
      },
      "id": "RkruGXktTJDa",
      "execution_count": 31,
      "outputs": [
        {
          "output_type": "stream",
          "name": "stdout",
          "text": [
            "{'messages': [HumanMessage(content='Hi there! My name is Alla Ud Din.', additional_kwargs={}, response_metadata={}, id='238a92ed-f83d-4a7b-a36c-0627cf46fc52'), AIMessage(content='Nice to meet you, Alla Ud Din! How can I help you today?\\n', additional_kwargs={}, response_metadata={'prompt_feedback': {'block_reason': 0, 'safety_ratings': []}, 'finish_reason': 'STOP', 'safety_ratings': []}, id='run-846748d2-ed3e-4559-814d-bcad4f49d93e-0', usage_metadata={'input_tokens': 84, 'output_tokens': 17, 'total_tokens': 101, 'input_token_details': {'cache_read': 0}}), HumanMessage(content='Remember my name?', additional_kwargs={}, response_metadata={}, id='02f284c1-2045-435d-926c-61dbcdbb4f20'), AIMessage(content='Yes, I remember your name is Alla Ud Din.\\n', additional_kwargs={}, response_metadata={'prompt_feedback': {'block_reason': 0, 'safety_ratings': []}, 'finish_reason': 'STOP', 'safety_ratings': []}, id='run-9aa4d06a-732f-4f0c-9c23-903a73d46f51-0', usage_metadata={'input_tokens': 107, 'output_tokens': 12, 'total_tokens': 119, 'input_token_details': {'cache_read': 0}})]}\n",
            "[HumanMessage(content='Hi there! My name is Alla Ud Din.', additional_kwargs={}, response_metadata={}, id='238a92ed-f83d-4a7b-a36c-0627cf46fc52'), AIMessage(content='Nice to meet you, Alla Ud Din! How can I help you today?\\n', additional_kwargs={}, response_metadata={'prompt_feedback': {'block_reason': 0, 'safety_ratings': []}, 'finish_reason': 'STOP', 'safety_ratings': []}, id='run-846748d2-ed3e-4559-814d-bcad4f49d93e-0', usage_metadata={'input_tokens': 84, 'output_tokens': 17, 'total_tokens': 101, 'input_token_details': {'cache_read': 0}}), HumanMessage(content='Remember my name?', additional_kwargs={}, response_metadata={}, id='02f284c1-2045-435d-926c-61dbcdbb4f20'), AIMessage(content='Yes, I remember your name is Alla Ud Din.\\n', additional_kwargs={}, response_metadata={'prompt_feedback': {'block_reason': 0, 'safety_ratings': []}, 'finish_reason': 'STOP', 'safety_ratings': []}, id='run-9aa4d06a-732f-4f0c-9c23-903a73d46f51-0', usage_metadata={'input_tokens': 107, 'output_tokens': 12, 'total_tokens': 119, 'input_token_details': {'cache_read': 0}})]\n",
            "4\n",
            "Hi there! My name is Alla Ud Din.\n",
            "Nice to meet you, Alla Ud Din! How can I help you today?\n",
            "\n",
            "Remember my name?\n",
            "Yes, I remember your name is Alla Ud Din.\n",
            "\n"
          ]
        }
      ]
    },
    {
      "cell_type": "code",
      "execution_count": 32,
      "id": "c106bd09-f155-4e15-9120-c60c834106e5",
      "metadata": {
        "colab": {
          "base_uri": "https://localhost:8080/"
        },
        "id": "c106bd09-f155-4e15-9120-c60c834106e5",
        "outputId": "67357e43-4edb-4be8-ca90-4526744c5389"
      },
      "outputs": [
        {
          "output_type": "execute_result",
          "data": {
            "text/plain": [
              "()"
            ]
          },
          "metadata": {},
          "execution_count": 32
        }
      ],
      "source": [
        "snapshot.next  # (since the graph ended this turn, `next` is empty. If you fetch a state from within a graph invocation, next tells which node will execute next)"
      ]
    },
    {
      "cell_type": "markdown",
      "id": "627f4998-6780-4cce-8f3c-9a5580888e3a",
      "metadata": {
        "id": "627f4998-6780-4cce-8f3c-9a5580888e3a"
      },
      "source": [
        "The snapshot above contains the current state values, corresponding config, and the `next` node to process. In our case, the graph has reached an `END` state, so `next` is empty.\n",
        "\n",
        "**Congratulations!** Your chatbot can now maintain conversation state across sessions thanks to LangGraph's checkpointing system. This opens up exciting possibilities for more natural, contextual interactions. LangGraph's checkpointing even handles **arbitrarily complex graph states**, which is much more expressive and powerful than simple chat memory.\n",
        "\n",
        "In the next part, we'll introduce human oversight to our bot to handle situations where it may need guidance or verification before proceeding.\n",
        "  \n",
        "Check out the code snippet below to review our graph from this section.\n",
        "\n",
        "<details>\n",
        "<summary>Full Code</summary>\n",
        "    <pre>\n",
        "\n",
        "```python\n",
        "from typing import Annotated\n",
        "\n",
        "from langchain_anthropic import ChatAnthropic\n",
        "from langchain_community.tools.tavily_search import TavilySearchResults\n",
        "from langchain_core.messages import BaseMessage\n",
        "from typing_extensions import TypedDict\n",
        "\n",
        "from langgraph.checkpoint.memory import MemorySaver\n",
        "from langgraph.graph import StateGraph\n",
        "from langgraph.graph.message import add_messages\n",
        "from langgraph.prebuilt import ToolNode\n",
        "\n",
        "\n",
        "class State(TypedDict):\n",
        "    messages: Annotated[list, add_messages]\n",
        "\n",
        "\n",
        "graph_builder = StateGraph(State)\n",
        "\n",
        "\n",
        "tool = TavilySearchResults(max_results=2)\n",
        "tools = [tool]\n",
        "llm = ChatAnthropic(model=\"claude-3-5-sonnet-20240620\")\n",
        "llm_with_tools = llm.bind_tools(tools)\n",
        "\n",
        "\n",
        "def chatbot(state: State):\n",
        "    return {\"messages\": [llm_with_tools.invoke(state[\"messages\"])]}\n",
        "\n",
        "\n",
        "graph_builder.add_node(\"chatbot\", chatbot)\n",
        "\n",
        "tool_node = ToolNode(tools=[tool])\n",
        "graph_builder.add_node(\"tools\", tool_node)\n",
        "\n",
        "graph_builder.add_conditional_edges(\n",
        "    \"chatbot\",\n",
        "    tools_condition,\n",
        ")\n",
        "graph_builder.add_edge(\"tools\", \"chatbot\")\n",
        "graph_builder.set_entry_point(\"chatbot\")\n",
        "graph = graph_builder.compile(checkpointer=memory)\n",
        "```\n",
        "</pre>\n",
        "</pre>\n",
        "</details>"
      ]
    },
    {
      "cell_type": "markdown",
      "id": "6f1da240-ec9b-441f-9d47-44c6dc85d540",
      "metadata": {
        "id": "6f1da240-ec9b-441f-9d47-44c6dc85d540"
      },
      "source": [
        "## Part 4: Human-in-the-loop\n",
        "\n",
        "Agents can be unreliable and may need human input to successfully accomplish tasks. Similarly, for some actions, you may want to require human approval before running to ensure that everything is running as intended.\n",
        "\n",
        "LangGraph supports `human-in-the-loop` workflows in a number of ways. In this section, we will use LangGraph's `interrupt_before` functionality to always break the tool node.\n",
        "\n",
        "First, start from our existing code. The following is copied from Part 3."
      ]
    },
    {
      "cell_type": "code",
      "execution_count": 41,
      "id": "5a81608a-373a-4339-b1c6-65b73a92b983",
      "metadata": {
        "colab": {
          "base_uri": "https://localhost:8080/"
        },
        "id": "5a81608a-373a-4339-b1c6-65b73a92b983",
        "outputId": "c70cf4ce-1b44-41a0-cdb8-94075a3edef5"
      },
      "outputs": [
        {
          "output_type": "execute_result",
          "data": {
            "text/plain": [
              "<langgraph.graph.state.StateGraph at 0x7fdd1c31ec50>"
            ]
          },
          "metadata": {},
          "execution_count": 41
        }
      ],
      "source": [
        "from typing import Annotated\n",
        "\n",
        "from langchain_community.tools.tavily_search import TavilySearchResults\n",
        "from typing_extensions import TypedDict\n",
        "\n",
        "from langgraph.checkpoint.memory import MemorySaver\n",
        "from langgraph.graph import StateGraph, START\n",
        "from langgraph.graph.message import add_messages\n",
        "from langgraph.prebuilt import ToolNode, tools_condition\n",
        "\n",
        "memory = MemorySaver()\n",
        "\n",
        "\n",
        "class State(TypedDict):\n",
        "    messages: Annotated[list, add_messages]\n",
        "\n",
        "\n",
        "graph_builder = StateGraph(State)\n",
        "\n",
        "\n",
        "tool = TavilySearchResults(max_results=2)\n",
        "tools = [tool]\n",
        "llm_with_tools = llm.bind_tools(tools)\n",
        "\n",
        "\n",
        "def chatbot(state: State):\n",
        "    return {\"messages\": [llm_with_tools.invoke(state[\"messages\"])]}\n",
        "\n",
        "\n",
        "graph_builder.add_node(\"chatbot\", chatbot)\n",
        "\n",
        "tool_node = ToolNode(tools=[tool])\n",
        "graph_builder.add_node(\"tools\", tool_node)\n",
        "\n",
        "graph_builder.add_conditional_edges(\n",
        "    \"chatbot\",\n",
        "    tools_condition,\n",
        ")\n",
        "graph_builder.add_edge(\"tools\", \"chatbot\")\n",
        "graph_builder.add_edge(START, \"chatbot\")"
      ]
    },
    {
      "cell_type": "markdown",
      "id": "813505b2-18c1-46e9-b891-20a34232808b",
      "metadata": {
        "id": "813505b2-18c1-46e9-b891-20a34232808b"
      },
      "source": [
        "Now, compile the graph, specifying to `interrupt_before` the `tools` node."
      ]
    },
    {
      "cell_type": "code",
      "execution_count": 42,
      "id": "b0883e32-1a39-4ce9-ae32-bbd66708fd84",
      "metadata": {
        "id": "b0883e32-1a39-4ce9-ae32-bbd66708fd84"
      },
      "outputs": [],
      "source": [
        "graph = graph_builder.compile(\n",
        "    checkpointer=memory,\n",
        "    # This is new!\n",
        "    interrupt_before=[\"tools\"],\n",
        "    # Note: can also interrupt __after__ tools, if desired.\n",
        "    # interrupt_after=[\"tools\"]\n",
        ")"
      ]
    },
    {
      "cell_type": "code",
      "execution_count": 44,
      "id": "9f318020-ab7e-415b-a5e2-eddec6d9f3a6",
      "metadata": {
        "colab": {
          "base_uri": "https://localhost:8080/"
        },
        "id": "9f318020-ab7e-415b-a5e2-eddec6d9f3a6",
        "outputId": "8361a1cc-f642-412b-9d90-69138730084b"
      },
      "outputs": [
        {
          "output_type": "stream",
          "name": "stdout",
          "text": [
            "================================\u001b[1m Human Message \u001b[0m=================================\n",
            "\n",
            "I'm learning LangGraph. Could you do some research on it for me?\n",
            "==================================\u001b[1m Ai Message \u001b[0m==================================\n",
            "\n",
            "I cannot directly perform research using external websites or specific research papers. My knowledge is based on the data I was trained on, and I don't have access to real-time information or the internet.  Therefore, I can't provide you with current research on LangGraph.\n",
            "\n",
            "To learn about LangGraph, I recommend searching online using a search engine like Google, Bing, or DuckDuckGo.  You can also try searching academic databases like Google Scholar, IEEE Xplore, or ACM Digital Library.  These resources will provide you with up-to-date and detailed information.\n"
          ]
        }
      ],
      "source": [
        "user_input = \"I'm learning LangGraph. Could you do some research on it for me?\"\n",
        "config = {\"configurable\": {\"thread_id\": \"1\"}}\n",
        "# The config is the **second positional argument** to stream() or invoke()!\n",
        "events = graph.stream(\n",
        "    {\"messages\": [(\"user\", user_input)]}, config, stream_mode=\"values\"\n",
        ")\n",
        "for event in events:\n",
        "    if \"messages\" in event:\n",
        "        event[\"messages\"][-1].pretty_print()"
      ]
    },
    {
      "cell_type": "markdown",
      "id": "39405637-13b1-40b1-a51e-6d60bf675ff1",
      "metadata": {
        "id": "39405637-13b1-40b1-a51e-6d60bf675ff1"
      },
      "source": [
        "Let's inspect the graph state to confirm it worked."
      ]
    },
    {
      "cell_type": "code",
      "execution_count": 36,
      "id": "9bb7af46-9b4f-4bb1-b8b9-e9ddf7dbc82c",
      "metadata": {
        "colab": {
          "base_uri": "https://localhost:8080/"
        },
        "id": "9bb7af46-9b4f-4bb1-b8b9-e9ddf7dbc82c",
        "outputId": "6552601b-3c22-4394-ef02-b0d03cf538c4"
      },
      "outputs": [
        {
          "output_type": "execute_result",
          "data": {
            "text/plain": [
              "()"
            ]
          },
          "metadata": {},
          "execution_count": 36
        }
      ],
      "source": [
        "snapshot = graph.get_state(config)\n",
        "snapshot.next"
      ]
    },
    {
      "cell_type": "markdown",
      "id": "89326046-2b11-4812-8b6d-8780306ec275",
      "metadata": {
        "id": "89326046-2b11-4812-8b6d-8780306ec275"
      },
      "source": [
        "**Notice** that unlike last time, the \"next\" node is set to **'tools'**. We've interrupted here! Let's check the tool invocation."
      ]
    },
    {
      "cell_type": "code",
      "execution_count": 37,
      "id": "3facda0a-e6ad-4b28-b627-753ad8c90c15",
      "metadata": {
        "colab": {
          "base_uri": "https://localhost:8080/"
        },
        "id": "3facda0a-e6ad-4b28-b627-753ad8c90c15",
        "outputId": "381bb9bd-7cc1-4367-b190-f2f037e66c4f"
      },
      "outputs": [
        {
          "output_type": "execute_result",
          "data": {
            "text/plain": [
              "[]"
            ]
          },
          "metadata": {},
          "execution_count": 37
        }
      ],
      "source": [
        "existing_message = snapshot.values[\"messages\"][-1]\n",
        "existing_message.tool_calls"
      ]
    },
    {
      "cell_type": "markdown",
      "id": "a55a4c70-7226-4be0-8562-391f72bc1f2b",
      "metadata": {
        "id": "a55a4c70-7226-4be0-8562-391f72bc1f2b"
      },
      "source": [
        "This query seems reasonable. Nothing to filter here. The simplest thing the human can do is just let the graph continue executing. Let's do that below.\n",
        "\n",
        "Next, continue the graph! Passing in `None` will just let the graph continue where it left off, without adding anything new to the state."
      ]
    },
    {
      "cell_type": "code",
      "execution_count": 38,
      "id": "effb95d9-b7d5-40c5-9253-253d193b23b2",
      "metadata": {
        "colab": {
          "base_uri": "https://localhost:8080/"
        },
        "id": "effb95d9-b7d5-40c5-9253-253d193b23b2",
        "outputId": "a0025f49-a03a-481c-a81b-d980fbeb642e"
      },
      "outputs": [
        {
          "output_type": "stream",
          "name": "stdout",
          "text": [
            "==================================\u001b[1m Ai Message \u001b[0m==================================\n",
            "\n",
            "I am sorry, I do not have access to external websites or specific research papers, including those about LangGraph.  My knowledge is limited to the information provided in my context.  Therefore, I cannot conduct research on LangGraph for you.\n"
          ]
        }
      ],
      "source": [
        "# `None` will append nothing new to the current state, letting it resume as if it had never been interrupted\n",
        "events = graph.stream(None, config, stream_mode=\"values\")\n",
        "for event in events:\n",
        "    if \"messages\" in event:\n",
        "        event[\"messages\"][-1].pretty_print()"
      ]
    },
    {
      "cell_type": "markdown",
      "id": "21e78a97-474f-4709-b51d-9d5e8323e14c",
      "metadata": {
        "id": "21e78a97-474f-4709-b51d-9d5e8323e14c"
      },
      "source": [
        "Review this call's [LangSmith trace](https://smith.langchain.com/public/4d7f8757-9d3b-43b9-88b6-aeab0595bc4c/r) to see the exact work that was done in the above call. Notice that the state is loaded in the first step so that your chatbot can continue where it left off.\n",
        "\n",
        "**Congrats!** You've used an `interrupt` to add human-in-the-loop execution to your chatbot, allowing for human oversight and intervention when needed. This opens up the potential UIs you can create with your AI systems. Since we have already added a **checkpointer**, the graph can be paused **indefinitely** and resumed at any time as if nothing had happened.\n",
        "\n",
        "Next, we'll explore how to further customize the bot's behavior using custom state updates.\n",
        "\n",
        "Below is a copy of the code you used in this section. The only difference between this and the previous parts is the addition of the `interrupt_before` argument.\n",
        "\n",
        "<details>\n",
        "<summary>Full Code</summary>\n",
        "    <pre>\n",
        "\n",
        "```python\n",
        "from typing import Annotated\n",
        "\n",
        "from langchain_anthropic import ChatAnthropic\n",
        "from langchain_community.tools.tavily_search import TavilySearchResults\n",
        "from langchain_core.messages import BaseMessage\n",
        "from typing_extensions import TypedDict\n",
        "\n",
        "from langgraph.checkpoint.memory import MemorySaver\n",
        "from langgraph.graph import StateGraph\n",
        "from langgraph.graph.message import add_messages\n",
        "from langgraph.prebuilt import ToolNode, tools_condition\n",
        "\n",
        "\n",
        "class State(TypedDict):\n",
        "    messages: Annotated[list, add_messages]\n",
        "\n",
        "\n",
        "graph_builder = StateGraph(State)\n",
        "\n",
        "\n",
        "tool = TavilySearchResults(max_results=2)\n",
        "tools = [tool]\n",
        "llm = ChatAnthropic(model=\"claude-3-5-sonnet-20240620\")\n",
        "llm_with_tools = llm.bind_tools(tools)\n",
        "\n",
        "\n",
        "def chatbot(state: State):\n",
        "    return {\"messages\": [llm_with_tools.invoke(state[\"messages\"])]}\n",
        "\n",
        "\n",
        "graph_builder.add_node(\"chatbot\", chatbot)\n",
        "\n",
        "tool_node = ToolNode(tools=[tool])\n",
        "graph_builder.add_node(\"tools\", tool_node)\n",
        "\n",
        "graph_builder.add_conditional_edges(\n",
        "    \"chatbot\",\n",
        "    tools_condition,\n",
        ")\n",
        "graph_builder.add_edge(\"tools\", \"chatbot\")\n",
        "graph_builder.set_entry_point(\"chatbot\")\n",
        "\n",
        "memory = MemorySaver()\n",
        "graph = graph_builder.compile(\n",
        "    checkpointer=memory,\n",
        "    # This is new!\n",
        "    interrupt_before=[\"tools\"],\n",
        "    # Note: can also interrupt __after__ actions, if desired.\n",
        "    # interrupt_after=[\"tools\"]\n",
        ")\n",
        "```\n",
        "</pre>\n",
        "</details>"
      ]
    },
    {
      "cell_type": "markdown",
      "id": "6df38bc4-c177-4ccd-9ec2-83d32bf66722",
      "metadata": {
        "id": "6df38bc4-c177-4ccd-9ec2-83d32bf66722"
      },
      "source": [
        "## Part 5: Manually Updating the State\n",
        "\n",
        "In the previous section, we showed how to interrupt a graph so that a human could inspect its actions. This lets the human `read` the state, but if they want to change their agent's course, they'll need to have `write` access.\n",
        "\n",
        "Thankfully, LangGraph lets you **manually update state**! Updating the state lets you control the agent's trajectory by modifying its actions (even modifying the past!). This capability is particularly useful when you want to correct the agent's mistakes, explore alternative paths, or guide the agent towards a specific goal.\n",
        "\n",
        "We'll show how to update a checkpointed state below. As before, first, define your graph. We'll reuse the exact same graph as before."
      ]
    },
    {
      "cell_type": "code",
      "execution_count": 39,
      "id": "faa345c6-38a2-42e8-9035-9cf56f7bb5b1",
      "metadata": {
        "id": "faa345c6-38a2-42e8-9035-9cf56f7bb5b1"
      },
      "outputs": [],
      "source": [
        "from typing import Annotated\n",
        "\n",
        "from langchain_community.tools.tavily_search import TavilySearchResults\n",
        "from typing_extensions import TypedDict\n",
        "\n",
        "from langgraph.checkpoint.memory import MemorySaver\n",
        "from langgraph.graph import StateGraph, START\n",
        "from langgraph.graph.message import add_messages\n",
        "from langgraph.prebuilt import ToolNode, tools_condition\n",
        "\n",
        "\n",
        "class State(TypedDict):\n",
        "    messages: Annotated[list, add_messages]\n",
        "\n",
        "\n",
        "graph_builder = StateGraph(State)\n",
        "\n",
        "\n",
        "tool = TavilySearchResults(max_results=2)\n",
        "tools = [tool]\n",
        "llm_with_tools = llm.bind_tools(tools)\n",
        "\n",
        "\n",
        "def chatbot(state: State):\n",
        "    return {\"messages\": [llm_with_tools.invoke(state[\"messages\"])]}\n",
        "\n",
        "\n",
        "graph_builder.add_node(\"chatbot\", chatbot)\n",
        "\n",
        "tool_node = ToolNode(tools=[tool])\n",
        "graph_builder.add_node(\"tools\", tool_node)\n",
        "\n",
        "graph_builder.add_conditional_edges(\n",
        "    \"chatbot\",\n",
        "    tools_condition,\n",
        ")\n",
        "graph_builder.add_edge(\"tools\", \"chatbot\")\n",
        "graph_builder.add_edge(START, \"chatbot\")\n",
        "memory = MemorySaver()\n",
        "graph = graph_builder.compile(\n",
        "    checkpointer=memory,\n",
        "    # This is new!\n",
        "    interrupt_before=[\"tools\"],\n",
        "    # Note: can also interrupt **after** actions, if desired.\n",
        "    # interrupt_after=[\"tools\"]\n",
        ")\n",
        "\n",
        "user_input = \"I'm learning LangGraph. Could you do some research on it for me?\"\n",
        "config = {\"configurable\": {\"thread_id\": \"1\"}}\n",
        "# The config is the **second positional argument** to stream() or invoke()!\n",
        "events = graph.stream({\"messages\": [(\"user\", user_input)]}, config)\n",
        "for event in events:\n",
        "    if \"messages\" in event:\n",
        "        event[\"messages\"][-1].pretty_print()"
      ]
    },
    {
      "cell_type": "code",
      "execution_count": 40,
      "id": "a6b3bcae-dd04-49da-a4ef-e05634657faf",
      "metadata": {
        "colab": {
          "base_uri": "https://localhost:8080/"
        },
        "id": "a6b3bcae-dd04-49da-a4ef-e05634657faf",
        "outputId": "6c634d08-40b4-4766-8e50-f8bbfb8c918a"
      },
      "outputs": [
        {
          "output_type": "stream",
          "name": "stdout",
          "text": [
            "==================================\u001b[1m Ai Message \u001b[0m==================================\n",
            "\n",
            "I am sorry, I do not have access to external websites or specific research papers, including information about LangGraph.  My knowledge about LangGraph is limited.  To learn more about LangGraph, I suggest you search online using a search engine like Google, Bing, or DuckDuckGo.\n"
          ]
        }
      ],
      "source": [
        "snapshot = graph.get_state(config)\n",
        "existing_message = snapshot.values[\"messages\"][-1]\n",
        "existing_message.pretty_print()"
      ]
    },
    {
      "cell_type": "markdown",
      "id": "3bf55a26-8c12-477a-9e83-5011d36ac4ee",
      "metadata": {
        "id": "3bf55a26-8c12-477a-9e83-5011d36ac4ee"
      },
      "source": [
        "So far, all of this is an _exact repeat_ of the previous section. The LLM just requested to use the search engine tool and our graph was interrupted. If we proceed as before, the tool will be called to search the web.\n",
        "\n",
        "But what if the user wants to intercede? What if we think the chat bot doesn't need to use the tool?\n",
        "\n",
        "Let's directly provide the correct response!"
      ]
    },
    {
      "cell_type": "code",
      "execution_count": null,
      "id": "6a44bedc-ea91-4c22-976c-98b3d5a5e4a7",
      "metadata": {
        "colab": {
          "base_uri": "https://localhost:8080/"
        },
        "id": "6a44bedc-ea91-4c22-976c-98b3d5a5e4a7",
        "outputId": "492ee6b8-0603-4668-fb21-0c0138d3ac3b"
      },
      "outputs": [
        {
          "output_type": "stream",
          "name": "stdout",
          "text": [
            "==================================\u001b[1m Ai Message \u001b[0m==================================\n",
            "\n",
            "LangGraph is a library for building stateful, multi-actor applications with LLMs.\n",
            "\n",
            "\n",
            "Last 2 messages;\n",
            "[ToolMessage(content='LangGraph is a library for building stateful, multi-actor applications with LLMs.', id='0d2d3897-a968-4aa5-b739-d7f79593a443', tool_call_id='6a3adc86-5cb4-45c8-9b70-0ded6b9ef6a2'), AIMessage(content='LangGraph is a library for building stateful, multi-actor applications with LLMs.', additional_kwargs={}, response_metadata={}, id='f7a65d05-91cc-4502-9bb7-042063ef8a5c')]\n"
          ]
        }
      ],
      "source": [
        "from langchain_core.messages import AIMessage, ToolMessage\n",
        "\n",
        "answer = (\n",
        "    \"LangGraph is a library for building stateful, multi-actor applications with LLMs.\"\n",
        ")\n",
        "new_messages = [\n",
        "    # The LLM API expects some ToolMessage to match its tool call. We'll satisfy that here.\n",
        "    ToolMessage(content=answer, tool_call_id=existing_message.tool_calls[0][\"id\"]),\n",
        "    # And then directly \"put words in the LLM's mouth\" by populating its response.\n",
        "    AIMessage(content=answer),\n",
        "]\n",
        "\n",
        "new_messages[-1].pretty_print()\n",
        "graph.update_state(\n",
        "    # Which state to update\n",
        "    config,\n",
        "    # The updated values to provide. The messages in our `State` are \"append-only\", meaning this will be appended\n",
        "    # to the existing state. We will review how to update existing messages in the next section!\n",
        "    {\"messages\": new_messages},\n",
        ")\n",
        "\n",
        "print(\"\\n\\nLast 2 messages;\")\n",
        "print(graph.get_state(config).values[\"messages\"][-2:])"
      ]
    },
    {
      "cell_type": "code",
      "source": [
        "snapshot = graph.get_state(config)\n",
        "snapshot.next"
      ],
      "metadata": {
        "colab": {
          "base_uri": "https://localhost:8080/"
        },
        "id": "HNeqW0SGv8Mx",
        "outputId": "951893ca-89c3-4e92-dc4b-e0ef4cb8b1d8"
      },
      "id": "HNeqW0SGv8Mx",
      "execution_count": null,
      "outputs": [
        {
          "output_type": "execute_result",
          "data": {
            "text/plain": [
              "()"
            ]
          },
          "metadata": {},
          "execution_count": 68
        }
      ]
    },
    {
      "cell_type": "markdown",
      "id": "584de971-6b10-4931-986e-cc35f7adbb3d",
      "metadata": {
        "id": "584de971-6b10-4931-986e-cc35f7adbb3d"
      },
      "source": [
        "Now the graph is complete, since we've provided the final response message! Since state updates simulate a graph step, they even generate corresponding traces. Inspec the [LangSmith trace](https://smith.langchain.com/public/6d72aeb5-3bca-4090-8684-a11d5a36b10c/r) of the `update_state` call above to see what's going on.\n",
        "\n",
        "**Notice** that our new messages are _appended_ to the messages already in the state. Remember how we defined the `State` type?\n",
        "\n",
        "```python\n",
        "class State(TypedDict):\n",
        "    messages: Annotated[list, add_messages]\n",
        "```\n",
        "\n",
        "We annotated `messages` with the pre-built `add_messages` function. This instructs the graph to always append values to the existing list, rather than overwriting the list directly. The same logic is applied here, so the messages we passed to `update_state` were appended in the same way!\n",
        "\n",
        "The `update_state` function operates as if it were one of the nodes in your graph! By default, the update operation uses the node that was last executed, but you can manually specify it below. Let's add an update and tell the graph to treat it as if it came from the \"chatbot\"."
      ]
    },
    {
      "cell_type": "code",
      "execution_count": null,
      "id": "d16d95c3-b465-42ac-8015-26b669d45d1f",
      "metadata": {
        "colab": {
          "base_uri": "https://localhost:8080/"
        },
        "id": "d16d95c3-b465-42ac-8015-26b669d45d1f",
        "outputId": "9fe0d80a-7acf-4ac9-c742-90a8fa6e3e9e"
      },
      "outputs": [
        {
          "output_type": "execute_result",
          "data": {
            "text/plain": [
              "{'configurable': {'thread_id': '1',\n",
              "  'checkpoint_ns': '',\n",
              "  'checkpoint_id': '1ef973d7-4d00-6224-8003-e2025998a965'}}"
            ]
          },
          "metadata": {},
          "execution_count": 69
        }
      ],
      "source": [
        "graph.update_state(\n",
        "    config,\n",
        "    {\"messages\": [AIMessage(content=\"I'm an AI expert!\")]},\n",
        "    # Which node for this function to act as. It will automatically continue\n",
        "    # processing as if this node just ran.\n",
        "    as_node=\"chatbot\",\n",
        ")"
      ]
    },
    {
      "cell_type": "markdown",
      "id": "5a1f0056-6b6f-425f-ac1a-0d4b0e9b85cc",
      "metadata": {
        "id": "5a1f0056-6b6f-425f-ac1a-0d4b0e9b85cc"
      },
      "source": [
        "Check out the [LangSmith trace](https://smith.langchain.com/public/2e4d92ca-c17c-49e0-92e5-3962390ded30/r) for this update call at the provided link. **Notice** from the trace that the graph continues into the `tools_condition` edge. We just told the graph to treat the update `as_node=\"chatbot\"`. If we follow the diagram below and start from the `chatbot` node, we naturally end up in the `tools_condition` edge and then `__end__` since our updated message lacks tool calls."
      ]
    },
    {
      "cell_type": "code",
      "execution_count": null,
      "id": "f4009ba6-dc0b-4216-ab0c-fbb104616f73",
      "metadata": {
        "colab": {
          "base_uri": "https://localhost:8080/",
          "height": 308
        },
        "id": "f4009ba6-dc0b-4216-ab0c-fbb104616f73",
        "outputId": "995264fa-08c2-49e3-ac7f-f0dc95f504fc"
      },
      "outputs": [
        {
          "output_type": "display_data",
          "data": {
            "image/jpeg": "[encoded data removed]",
            "text/plain": [
              "<IPython.core.display.Image object>"
            ]
          },
          "metadata": {}
        }
      ],
      "source": [
        "from IPython.display import Image, display\n",
        "\n",
        "try:\n",
        "    display(Image(graph.get_graph().draw_mermaid_png()))\n",
        "except Exception:\n",
        "    # This requires some extra dependencies and is optional\n",
        "    pass"
      ]
    },
    {
      "cell_type": "markdown",
      "id": "96cd4ffa-8fb2-4bd6-bef9-564cbfe7e3ab",
      "metadata": {
        "id": "96cd4ffa-8fb2-4bd6-bef9-564cbfe7e3ab"
      },
      "source": [
        "Inspect the current state as before to confirm the checkpoint reflects our manual updates."
      ]
    },
    {
      "cell_type": "code",
      "execution_count": null,
      "id": "d420e813-a8c7-415d-ab31-5298d42491e4",
      "metadata": {
        "colab": {
          "base_uri": "https://localhost:8080/"
        },
        "id": "d420e813-a8c7-415d-ab31-5298d42491e4",
        "outputId": "8c88f8bf-03a5-4ef9-b95f-4b77c78acd32"
      },
      "outputs": [
        {
          "output_type": "stream",
          "name": "stdout",
          "text": [
            "[ToolMessage(content='LangGraph is a library for building stateful, multi-actor applications with LLMs.', id='0d2d3897-a968-4aa5-b739-d7f79593a443', tool_call_id='6a3adc86-5cb4-45c8-9b70-0ded6b9ef6a2'), AIMessage(content='LangGraph is a library for building stateful, multi-actor applications with LLMs.', additional_kwargs={}, response_metadata={}, id='f7a65d05-91cc-4502-9bb7-042063ef8a5c'), AIMessage(content=\"I'm an AI expert!\", additional_kwargs={}, response_metadata={}, id='fba74b9e-fde3-43fa-8c40-6f34cf26abdf')]\n",
            "()\n"
          ]
        }
      ],
      "source": [
        "snapshot = graph.get_state(config)\n",
        "print(snapshot.values[\"messages\"][-3:])\n",
        "print(snapshot.next)"
      ]
    },
    {
      "cell_type": "markdown",
      "id": "380222f4-65fa-4962-afe6-6a715fadb2de",
      "metadata": {
        "id": "380222f4-65fa-4962-afe6-6a715fadb2de"
      },
      "source": [
        "**Notice**: that we've continued to add AI messages to the state. Since we are acting as the `chatbot` and responding with an AIMessage that doesn't contain `tool_calls`, the graph knows that it has entered a finished state (`next` is empty).\n",
        "\n",
        "#### What if you want to **overwrite** existing messages?\n",
        "\n",
        "The [`add_messages`](https://langchain-ai.github.io/langgraph/reference/graphs/?h=add+messages#add_messages) function we used to annotate our graph's `State` above controls how updates are made to the `messages` key. This function looks at any message IDs in the new `messages` list. If the ID matches a message in the existing state, [`add_messages`](https://langchain-ai.github.io/langgraph/reference/graphs/?h=add+messages#add_messages) overwrites the existing message with the new content.\n",
        "\n",
        "As an example, let's update the tool invocation to make sure we get good results from our search engine! First, start a new thread:"
      ]
    },
    {
      "cell_type": "code",
      "execution_count": null,
      "id": "9fc99c7e-b61d-4aec-9c62-042798185ec3",
      "metadata": {
        "colab": {
          "base_uri": "https://localhost:8080/"
        },
        "id": "9fc99c7e-b61d-4aec-9c62-042798185ec3",
        "outputId": "e7ccb980-6950-45d6-b3ff-11bc3b4645bf"
      },
      "outputs": [
        {
          "output_type": "stream",
          "name": "stdout",
          "text": [
            "================================\u001b[1m Human Message \u001b[0m=================================\n",
            "\n",
            "I'm learning LangGraph. Could you do some research on it for me?\n",
            "==================================\u001b[1m Ai Message \u001b[0m==================================\n",
            "Tool Calls:\n",
            "  tavily_search_results_json (b4dc1eda-f5d3-4260-af9d-263d7d0fa438)\n",
            " Call ID: b4dc1eda-f5d3-4260-af9d-263d7d0fa438\n",
            "  Args:\n",
            "    query: LangGraph\n"
          ]
        }
      ],
      "source": [
        "user_input = \"I'm learning LangGraph. Could you do some research on it for me?\"\n",
        "config = {\"configurable\": {\"thread_id\": \"2\"}}  # we'll use thread_id = 2 here\n",
        "events = graph.stream(\n",
        "    {\"messages\": [(\"user\", user_input)]}, config, stream_mode=\"values\"\n",
        ")\n",
        "for event in events:\n",
        "    if \"messages\" in event:\n",
        "        event[\"messages\"][-1].pretty_print()"
      ]
    },
    {
      "cell_type": "markdown",
      "id": "8b019fc6-7826-4291-9178-6cecb5d7b3d0",
      "metadata": {
        "id": "8b019fc6-7826-4291-9178-6cecb5d7b3d0"
      },
      "source": [
        "**Next,** let's update the tool invocation for our agent. Maybe we want to search for human-in-the-loop workflows in particular."
      ]
    },
    {
      "cell_type": "code",
      "execution_count": null,
      "id": "7215533a-b7e2-4b2d-bc1d-5122b1d06b8b",
      "metadata": {
        "colab": {
          "base_uri": "https://localhost:8080/"
        },
        "id": "7215533a-b7e2-4b2d-bc1d-5122b1d06b8b",
        "outputId": "5709a7ea-60f9-477f-f082-798bdc03c789"
      },
      "outputs": [
        {
          "output_type": "stream",
          "name": "stdout",
          "text": [
            "Original\n",
            "Message ID run-0593108e-cf64-4cd5-8081-cd2a0f2a888d-0\n",
            "{'name': 'tavily_search_results_json', 'args': {'query': 'LangGraph'}, 'id': 'b4dc1eda-f5d3-4260-af9d-263d7d0fa438', 'type': 'tool_call'}\n",
            "Updated\n",
            "{'name': 'tavily_search_results_json', 'args': {'query': 'LangGraph human-in-the-loop workflow'}, 'id': 'b4dc1eda-f5d3-4260-af9d-263d7d0fa438', 'type': 'tool_call'}\n",
            "Message ID run-0593108e-cf64-4cd5-8081-cd2a0f2a888d-0\n",
            "\n",
            "\n",
            "Tool calls\n"
          ]
        },
        {
          "output_type": "execute_result",
          "data": {
            "text/plain": [
              "[{'name': 'tavily_search_results_json',\n",
              "  'args': {'query': 'LangGraph human-in-the-loop workflow'},\n",
              "  'id': 'b4dc1eda-f5d3-4260-af9d-263d7d0fa438',\n",
              "  'type': 'tool_call'}]"
            ]
          },
          "metadata": {},
          "execution_count": 73
        }
      ],
      "source": [
        "from langchain_core.messages import AIMessage\n",
        "\n",
        "snapshot = graph.get_state(config)\n",
        "existing_message = snapshot.values[\"messages\"][-1]\n",
        "print(\"Original\")\n",
        "print(\"Message ID\", existing_message.id)\n",
        "print(existing_message.tool_calls[0])\n",
        "\n",
        "new_tool_call = existing_message.tool_calls[0].copy()\n",
        "new_tool_call[\"args\"][\"query\"] = \"LangGraph human-in-the-loop workflow\"\n",
        "new_message = AIMessage(\n",
        "    content=existing_message.content,\n",
        "    tool_calls=[new_tool_call],\n",
        "    # Important! The ID is how LangGraph knows to REPLACE the message in the state rather than APPEND this messages\n",
        "    id=existing_message.id,\n",
        ")\n",
        "\n",
        "print(\"Updated\")\n",
        "print(new_message.tool_calls[0])\n",
        "print(\"Message ID\", new_message.id)\n",
        "\n",
        "graph.update_state(config, {\"messages\": [new_message]})\n",
        "\n",
        "print(\"\\n\\nTool calls\")\n",
        "graph.get_state(config).values[\"messages\"][-1].tool_calls"
      ]
    },
    {
      "cell_type": "markdown",
      "id": "680f0ebd-ebce-4de6-8a9b-37d3d4ef0234",
      "metadata": {
        "id": "680f0ebd-ebce-4de6-8a9b-37d3d4ef0234"
      },
      "source": [
        "**Notice** that we've modified the AI's tool invocation to search for \"LangGraph human-in-the-loop workflow\" instead of the simple \"LangGraph\".\n",
        "\n",
        "Check out the [LangSmith trace](https://smith.langchain.com/public/cd7c09a6-758d-41d4-8de1-64ab838b2338/r) to see the state update call - you can see our new message has successfully updated the previous AI message.\n",
        "\n",
        "Resume the graph by streaming with an input of `None` and the existing config."
      ]
    },
    {
      "cell_type": "code",
      "execution_count": null,
      "id": "03a09bfc-3d90-4e54-878f-22e3cb28a418",
      "metadata": {
        "colab": {
          "base_uri": "https://localhost:8080/"
        },
        "id": "03a09bfc-3d90-4e54-878f-22e3cb28a418",
        "outputId": "3f1a318e-6eee-44bc-e2e2-0d8a62e5f935"
      },
      "outputs": [
        {
          "output_type": "stream",
          "name": "stdout",
          "text": [
            "==================================\u001b[1m Ai Message \u001b[0m==================================\n",
            "Tool Calls:\n",
            "  tavily_search_results_json (b4dc1eda-f5d3-4260-af9d-263d7d0fa438)\n",
            " Call ID: b4dc1eda-f5d3-4260-af9d-263d7d0fa438\n",
            "  Args:\n",
            "    query: LangGraph human-in-the-loop workflow\n",
            "=================================\u001b[1m Tool Message \u001b[0m=================================\n",
            "Name: tavily_search_results_json\n",
            "\n",
            "[{\"url\": \"https://www.youtube.com/watch?v=9BPCV5TYPmg\", \"content\": \"In this video, I'll show you how to handle persistence with LangGraph, enabling a unique Human-in-the-Loop workflow. This approach allows a human to grant an\"}, {\"url\": \"https://medium.com/@kbdhunga/implementing-human-in-the-loop-with-langgraph-ccfde023385c\", \"content\": \"Implementing a Human-in-the-Loop (HIL) framework in LangGraph with the Streamlit app provides a robust mechanism for user engagement and decision-making. By incorporating breakpoints and\"}]\n",
            "==================================\u001b[1m Ai Message \u001b[0m==================================\n",
            "\n",
            "LangGraph is a tool for building human-in-the-loop applications. It allows humans to interact with the system and provide feedback, which can be used to improve the system's performance. This is especially useful in applications where the system needs to learn from human input, such as natural language processing or machine learning. \n",
            "\n",
            "LangGraph is often used in conjunction with Streamlit, a web framework for building interactive data applications. This combination allows users to build applications that are both powerful and easy to use.\n",
            "\n",
            "Here are some examples of how LangGraph can be used:\n",
            "\n",
            "* **Building a chatbot:** A chatbot that uses LangGraph can learn from user interactions and improve its responses over time.\n",
            "* **Creating a personalized recommendation system:** A recommendation system that uses LangGraph can learn from user feedback and provide more relevant recommendations.\n",
            "* **Developing a machine learning model:** A machine learning model that uses LangGraph can be trained on a dataset of human-labeled data.\n",
            "\n",
            "If you are interested in learning more about LangGraph, I recommend checking out the following resources:\n",
            "\n",
            "* **LangGraph documentation:** https://langgraph.readthedocs.io/en/latest/\n",
            "* **LangGraph GitHub repository:** https://github.com/langgraph/langgraph\n",
            "* **LangGraph YouTube channel:** https://www.youtube.com/channel/UC-y42wM_00D71j5KzM8e1Jg\n"
          ]
        }
      ],
      "source": [
        "events = graph.stream(None, config, stream_mode=\"values\")\n",
        "for event in events:\n",
        "    if \"messages\" in event:\n",
        "        event[\"messages\"][-1].pretty_print()"
      ]
    },
    {
      "cell_type": "markdown",
      "id": "090b680b-f53f-4af2-a432-45f8c5a10779",
      "metadata": {
        "id": "090b680b-f53f-4af2-a432-45f8c5a10779"
      },
      "source": [
        "Check out the [trace](https://smith.langchain.com/public/2d633326-14ad-4248-a391-2757d01851c4/r/6464f2f2-edb4-4ef3-8f48-ee4e249f2ad0) to see the tool call and later LLM response. **Notice** that now the graph queries the search engine using our updated query term - we were able to manually override the LLM's search here!\n",
        "\n",
        "All of this is reflected in the graph's checkpointed memory, meaning if we continue the conversation, it will recall all the _modified_ state."
      ]
    },
    {
      "cell_type": "code",
      "execution_count": null,
      "id": "11d5b934-6d8b-4f52-a3bc-b3daa7207e00",
      "metadata": {
        "colab": {
          "base_uri": "https://localhost:8080/"
        },
        "id": "11d5b934-6d8b-4f52-a3bc-b3daa7207e00",
        "outputId": "bf07c7ce-b184-4ecf-a9fb-51400f9e3c08"
      },
      "outputs": [
        {
          "output_type": "stream",
          "name": "stdout",
          "text": [
            "================================\u001b[1m Human Message \u001b[0m=================================\n",
            "\n",
            "Remember what I'm learning about?\n",
            "==================================\u001b[1m Ai Message \u001b[0m==================================\n",
            "\n",
            "You are learning about LangGraph, a tool for building human-in-the-loop applications.\n"
          ]
        }
      ],
      "source": [
        "events = graph.stream(\n",
        "    {\n",
        "        \"messages\": (\n",
        "            \"user\",\n",
        "            \"Remember what I'm learning about?\",\n",
        "        )\n",
        "    },\n",
        "    config,\n",
        "    stream_mode=\"values\",\n",
        ")\n",
        "for event in events:\n",
        "    if \"messages\" in event:\n",
        "        event[\"messages\"][-1].pretty_print()"
      ]
    },
    {
      "cell_type": "markdown",
      "id": "a5166e1b-96a6-4ac0-88a1-bf32a422134a",
      "metadata": {
        "id": "a5166e1b-96a6-4ac0-88a1-bf32a422134a"
      },
      "source": [
        "**Congratulations!** You've used `interrupt_before` and `update_state` to manually modify the state as a part of a human-in-the-loop workflow. Interruptions and state modifications let you control how the agent behaves. Combined with persistent checkpointing, it means you can `pause` an action and `resume` at any point. Your user doesn't have to be available when the graph interrupts!\n",
        "\n",
        "The graph code for this section is identical to previous ones. The key snippets to remember are to add `.compile(..., interrupt_before=[...])` (or `interrupt_after`) if you want to explicitly pause the graph whenever it reaches a node. Then you can use `update_state` to modify the checkpoint and control how the graph should proceed."
      ]
    },
    {
      "cell_type": "markdown",
      "id": "d88d4c9e-65c8-4093-a6c2-c261475f7c07",
      "metadata": {
        "id": "d88d4c9e-65c8-4093-a6c2-c261475f7c07"
      },
      "source": [
        "## Part 6: Customizing State\n",
        "\n",
        "So far, we've relied on a simple state (it's just a list of messages!). You can go far with this simple state, but if you want to define complex behavior without relying on the message list, you can add additional fields to the state. In this section, we will extend our chat bot with a new node to illustrate this.\n",
        "\n",
        "In the examples above, we involved a human deterministically: the graph __always__ interrupted whenever an tool was invoked. Suppose we wanted our chat bot to have the choice of relying on a human.\n",
        "\n",
        "One way to do this is to create a passthrough \"human\" node, before which the graph will always stop. We will only execute this node if the LLM invokes a \"human\" tool. For our convenience, we will include an \"ask_human\" flag in our graph state that we will flip if the LLM calls this tool.\n",
        "\n",
        "Below, define this new graph, with an updated `State`"
      ]
    },
    {
      "cell_type": "code",
      "execution_count": null,
      "id": "3cf7e042-1718-4625-ae30-a9917f595449",
      "metadata": {
        "id": "3cf7e042-1718-4625-ae30-a9917f595449"
      },
      "outputs": [],
      "source": [
        "from typing import Annotated\n",
        "\n",
        "from langchain_community.tools.tavily_search import TavilySearchResults\n",
        "from typing_extensions import TypedDict\n",
        "\n",
        "from langgraph.checkpoint.memory import MemorySaver\n",
        "from langgraph.graph import StateGraph, START\n",
        "from langgraph.graph.message import add_messages\n",
        "from langgraph.prebuilt import ToolNode, tools_condition\n",
        "\n",
        "\n",
        "class State(TypedDict):\n",
        "    messages: Annotated[list, add_messages]\n",
        "    # This flag is new\n",
        "    ask_human: bool"
      ]
    },
    {
      "cell_type": "markdown",
      "id": "e87f2cb8-c066-4b54-acc4-e8c7399c5f3d",
      "metadata": {
        "id": "e87f2cb8-c066-4b54-acc4-e8c7399c5f3d"
      },
      "source": [
        "Next, define a schema to show the model to let it decide to request assistance."
      ]
    },
    {
      "cell_type": "markdown",
      "id": "7bd3d704-5bee-4872-8d12-992bc970c158",
      "metadata": {
        "id": "7bd3d704-5bee-4872-8d12-992bc970c158"
      },
      "source": [
        "<div class=\"admonition note\">\n",
        "    <p class=\"admonition-title\">Using Pydantic with LangChain</p>\n",
        "    <p>\n",
        "        This notebook uses Pydantic v2 <code>BaseModel</code>, which requires <code>langchain-core >= 0.3</code>. Using <code>langchain-core < 0.3</code> will result in errors due to mixing of Pydantic v1 and v2 <code>BaseModels</code>.\n",
        "    </p>\n",
        "</div>"
      ]
    },
    {
      "cell_type": "code",
      "execution_count": null,
      "id": "e5192e54-6a28-42fe-a8a7-62d45d61f994",
      "metadata": {
        "id": "e5192e54-6a28-42fe-a8a7-62d45d61f994"
      },
      "outputs": [],
      "source": [
        "from pydantic import BaseModel\n",
        "\n",
        "\n",
        "class RequestAssistance(BaseModel):\n",
        "    \"\"\"Escalate the conversation to an expert. Use this if you are unable to assist directly or if the user requires support beyond your permissions.\n",
        "\n",
        "    To use this function, relay the user's 'request' so the expert can provide the right guidance.\n",
        "    \"\"\"\n",
        "\n",
        "    request: str"
      ]
    },
    {
      "cell_type": "markdown",
      "id": "2b19c61b-2087-463b-adf8-96dbc193f41c",
      "metadata": {
        "id": "2b19c61b-2087-463b-adf8-96dbc193f41c"
      },
      "source": [
        "Next, define the chatbot node. The primary modification here is flip the `ask_human` flag if we see that the chat bot has invoked the `RequestAssistance` flag."
      ]
    },
    {
      "cell_type": "code",
      "execution_count": null,
      "id": "fa59b266-14e5-4c75-8b3d-54fac28e8290",
      "metadata": {
        "id": "fa59b266-14e5-4c75-8b3d-54fac28e8290"
      },
      "outputs": [],
      "source": [
        "tool = TavilySearchResults(max_results=2)\n",
        "tools = [tool]\n",
        "\n",
        "# We can bind the llm to a tool definition, a pydantic model, or a json schema\n",
        "llm_with_tools = llm.bind_tools(tools + [RequestAssistance])\n",
        "\n",
        "\n",
        "def chatbot(state: State):\n",
        "    response = llm_with_tools.invoke(state[\"messages\"])\n",
        "    ask_human = False\n",
        "    if (\n",
        "        response.tool_calls\n",
        "        and response.tool_calls[0][\"name\"] == RequestAssistance.__name__\n",
        "    ):\n",
        "        ask_human = True\n",
        "    return {\"messages\": [response], \"ask_human\": ask_human}"
      ]
    },
    {
      "cell_type": "markdown",
      "id": "04ca0f57-2519-49c2-9499-888b5a884897",
      "metadata": {
        "id": "04ca0f57-2519-49c2-9499-888b5a884897"
      },
      "source": [
        "Next, create the graph builder and add the chatbot and tools nodes to the graph, same as before."
      ]
    },
    {
      "cell_type": "code",
      "execution_count": null,
      "id": "3f4464d2-288b-4689-aaf0-329a55dcb85c",
      "metadata": {
        "colab": {
          "base_uri": "https://localhost:8080/"
        },
        "id": "3f4464d2-288b-4689-aaf0-329a55dcb85c",
        "outputId": "0aa463a1-3e4a-4dea-8f45-2a44ffb0e32e"
      },
      "outputs": [
        {
          "output_type": "execute_result",
          "data": {
            "text/plain": [
              "<langgraph.graph.state.StateGraph at 0x7ac95114bb80>"
            ]
          },
          "metadata": {},
          "execution_count": 79
        }
      ],
      "source": [
        "graph_builder = StateGraph(State)\n",
        "\n",
        "graph_builder.add_node(\"chatbot\", chatbot)\n",
        "graph_builder.add_node(\"tools\", ToolNode(tools=[tool]))"
      ]
    },
    {
      "cell_type": "markdown",
      "id": "7f7a0ff3-b671-45c8-8157-ce5db411d370",
      "metadata": {
        "id": "7f7a0ff3-b671-45c8-8157-ce5db411d370"
      },
      "source": [
        "Next, create the \"human\" `node`. This `node` function is mostly a placeholder in our graph that will trigger an interrupt. If the human does __not__ manually update the state during the `interrupt`, it inserts a tool message so the LLM knows the user was requested but didn't respond. This node also unsets the `ask_human` flag so the graph knows not to revisit the node unless further requests are made."
      ]
    },
    {
      "cell_type": "code",
      "execution_count": null,
      "id": "1d70b5a4-ce50-47dc-aa43-ffb5c48c46fc",
      "metadata": {
        "colab": {
          "base_uri": "https://localhost:8080/"
        },
        "id": "1d70b5a4-ce50-47dc-aa43-ffb5c48c46fc",
        "outputId": "cfd96626-fd1b-4ead-ad68-8835e536ef30"
      },
      "outputs": [
        {
          "output_type": "execute_result",
          "data": {
            "text/plain": [
              "<langgraph.graph.state.StateGraph at 0x7ac95114bb80>"
            ]
          },
          "metadata": {},
          "execution_count": 80
        }
      ],
      "source": [
        "from langchain_core.messages import AIMessage, ToolMessage\n",
        "\n",
        "\n",
        "def create_response(response: str, ai_message: AIMessage):\n",
        "    return ToolMessage(\n",
        "        content=response,\n",
        "        tool_call_id=ai_message.tool_calls[0][\"id\"],\n",
        "    )\n",
        "\n",
        "\n",
        "def human_node(state: State):\n",
        "    new_messages = []\n",
        "    if not isinstance(state[\"messages\"][-1], ToolMessage):\n",
        "        # Typically, the user will have updated the state during the interrupt.\n",
        "        # If they choose not to, we will include a placeholder ToolMessage to\n",
        "        # let the LLM continue.\n",
        "        new_messages.append(\n",
        "            create_response(\"No response from human.\", state[\"messages\"][-1])\n",
        "        )\n",
        "    return {\n",
        "        # Append the new messages\n",
        "        \"messages\": new_messages,\n",
        "        # Unset the flag\n",
        "        \"ask_human\": False,\n",
        "    }\n",
        "\n",
        "\n",
        "graph_builder.add_node(\"human\", human_node)"
      ]
    },
    {
      "cell_type": "markdown",
      "id": "d56e5c65-f7b7-48bd-b0b5-fc8e590eca7d",
      "metadata": {
        "id": "d56e5c65-f7b7-48bd-b0b5-fc8e590eca7d"
      },
      "source": [
        "Next, define the conditional logic. The `select_next_node` will route to the `human` node if the flag is set. Otherwise, it lets the prebuilt `tools_condition` function choose the next node.\n",
        "\n",
        "Recall that the `tools_condition` function simply checks to see if the `chatbot` has responded with any `tool_calls` in its response message. If so, it routes to the `action` node. Otherwise, it ends the graph."
      ]
    },
    {
      "cell_type": "code",
      "execution_count": null,
      "id": "586a0d07-8303-47f4-b3cf-3bdd043e762b",
      "metadata": {
        "colab": {
          "base_uri": "https://localhost:8080/"
        },
        "id": "586a0d07-8303-47f4-b3cf-3bdd043e762b",
        "outputId": "b88e85eb-8780-48dc-f58b-9d05136a4d4a"
      },
      "outputs": [
        {
          "output_type": "execute_result",
          "data": {
            "text/plain": [
              "<langgraph.graph.state.StateGraph at 0x7ac95114bb80>"
            ]
          },
          "metadata": {},
          "execution_count": 81
        }
      ],
      "source": [
        "def select_next_node(state: State):\n",
        "    if state[\"ask_human\"]:\n",
        "        return \"human\"\n",
        "    # Otherwise, we can route as before\n",
        "    return tools_condition(state)\n",
        "\n",
        "\n",
        "graph_builder.add_conditional_edges(\n",
        "    \"chatbot\",\n",
        "    select_next_node,\n",
        "    {\"human\": \"human\", \"tools\": \"tools\", END: END},\n",
        ")"
      ]
    },
    {
      "cell_type": "markdown",
      "id": "66cd0bb1-b13e-477e-a08a-a7e657e2c19e",
      "metadata": {
        "id": "66cd0bb1-b13e-477e-a08a-a7e657e2c19e"
      },
      "source": [
        "Finally, add the simple directed edges and compile the graph. These edges instruct the graph to **always** flow from node `a`->`b` whenever `a` finishes executing."
      ]
    },
    {
      "cell_type": "code",
      "execution_count": null,
      "id": "84101737-0048-4635-9f68-45b0c508b6b6",
      "metadata": {
        "id": "84101737-0048-4635-9f68-45b0c508b6b6"
      },
      "outputs": [],
      "source": [
        "# The rest is the same\n",
        "graph_builder.add_edge(\"tools\", \"chatbot\")\n",
        "graph_builder.add_edge(\"human\", \"chatbot\")\n",
        "graph_builder.add_edge(START, \"chatbot\")\n",
        "memory = MemorySaver()\n",
        "graph = graph_builder.compile(\n",
        "    checkpointer=memory,\n",
        "    # We interrupt before 'human' here instead.\n",
        "    interrupt_before=[\"human\"],\n",
        ")"
      ]
    },
    {
      "cell_type": "markdown",
      "id": "7f855593-8690-4a18-9ef8-7f3ccdc335bf",
      "metadata": {
        "id": "7f855593-8690-4a18-9ef8-7f3ccdc335bf"
      },
      "source": [
        "If you have the visualization dependencies installed, you can see the graph structure below:"
      ]
    },
    {
      "cell_type": "code",
      "execution_count": null,
      "id": "b3220ae2-cba0-4447-96d1-eb0be4684e59",
      "metadata": {
        "colab": {
          "base_uri": "https://localhost:8080/",
          "height": 308
        },
        "id": "b3220ae2-cba0-4447-96d1-eb0be4684e59",
        "outputId": "f104b216-af92-4ff6-f872-b4fe159691c2"
      },
      "outputs": [
        {
          "output_type": "display_data",
          "data": {
            "image/jpeg": "[encoded data removed]",
            "text/plain": [
              "<IPython.core.display.Image object>"
            ]
          },
          "metadata": {}
        }
      ],
      "source": [
        "from IPython.display import Image, display\n",
        "\n",
        "try:\n",
        "    display(Image(graph.get_graph().draw_mermaid_png()))\n",
        "except Exception:\n",
        "    # This requires some extra dependencies and is optional\n",
        "    pass"
      ]
    },
    {
      "cell_type": "markdown",
      "id": "a3b73851-810e-4466-89d8-37fba87e8494",
      "metadata": {
        "id": "a3b73851-810e-4466-89d8-37fba87e8494"
      },
      "source": [
        "The chat bot can either request help from a human (chatbot->select->human), invoke the search engine tool (chatbot->select->action), or directly respond (chatbot->select->__end__). Once an action or request has been made, the graph will transition back to the `chatbot` node to continue operations.\n",
        "\n",
        "Let's see this graph in action. We will request for expert assistance to illustrate our graph."
      ]
    },
    {
      "cell_type": "code",
      "execution_count": null,
      "id": "c1955d79-a1e4-47d0-ba79-b45bd5752a23",
      "metadata": {
        "colab": {
          "base_uri": "https://localhost:8080/"
        },
        "id": "c1955d79-a1e4-47d0-ba79-b45bd5752a23",
        "outputId": "9ce86a2c-c6d4-4750-d950-dbefc430c6d0"
      },
      "outputs": [
        {
          "output_type": "stream",
          "name": "stdout",
          "text": [
            "================================\u001b[1m Human Message \u001b[0m=================================\n",
            "\n",
            "I need some expert guidance for building this AI agent. Could you request assistance for me?\n",
            "==================================\u001b[1m Ai Message \u001b[0m==================================\n",
            "Tool Calls:\n",
            "  RequestAssistance (25cc6e79-9808-4b63-95df-ba1a6c35b5d8)\n",
            " Call ID: 25cc6e79-9808-4b63-95df-ba1a6c35b5d8\n",
            "  Args:\n",
            "    request: I need some expert guidance for building this AI agent.\n"
          ]
        }
      ],
      "source": [
        "user_input = \"I need some expert guidance for building this AI agent. Could you request assistance for me?\"\n",
        "config = {\"configurable\": {\"thread_id\": \"1\"}}\n",
        "# The config is the **second positional argument** to stream() or invoke()!\n",
        "events = graph.stream(\n",
        "    {\"messages\": [(\"user\", user_input)]}, config, stream_mode=\"values\"\n",
        ")\n",
        "for event in events:\n",
        "    if \"messages\" in event:\n",
        "        event[\"messages\"][-1].pretty_print()"
      ]
    },
    {
      "cell_type": "markdown",
      "id": "b3945ea4-8dbd-4e14-ae2a-34da7f05a0c1",
      "metadata": {
        "id": "b3945ea4-8dbd-4e14-ae2a-34da7f05a0c1"
      },
      "source": [
        "**Notice:** the LLM has invoked the \"`RequestAssistance`\" tool we provided it, and the interrupt has been set. Let's inspect the graph state to confirm."
      ]
    },
    {
      "cell_type": "code",
      "execution_count": null,
      "id": "5320ba05-5696-4194-8278-5385c571264d",
      "metadata": {
        "colab": {
          "base_uri": "https://localhost:8080/"
        },
        "id": "5320ba05-5696-4194-8278-5385c571264d",
        "outputId": "166757a5-bbac-4665-cd04-765d88fb86cd"
      },
      "outputs": [
        {
          "output_type": "execute_result",
          "data": {
            "text/plain": [
              "('human',)"
            ]
          },
          "metadata": {},
          "execution_count": 85
        }
      ],
      "source": [
        "snapshot = graph.get_state(config)\n",
        "snapshot.next"
      ]
    },
    {
      "cell_type": "markdown",
      "id": "ed2dd02e-f0a6-4f63-a7d6-e49ecf40db21",
      "metadata": {
        "id": "ed2dd02e-f0a6-4f63-a7d6-e49ecf40db21"
      },
      "source": [
        "The graph state is indeed **interrupted** before the `'human'` node. We can act as the \"expert\" in this scenario and manually update the state by adding a new ToolMessage with our input.\n",
        "\n",
        "Next, respond to the chatbot's request by:\n",
        "1. Creating a `ToolMessage` with our response. This will be passed back to the `chatbot`.\n",
        "2. Calling `update_state` to manually update the graph state."
      ]
    },
    {
      "cell_type": "code",
      "execution_count": null,
      "id": "2cbac924-61ce-4282-9b1c-77f9090ea1f5",
      "metadata": {
        "colab": {
          "base_uri": "https://localhost:8080/"
        },
        "id": "2cbac924-61ce-4282-9b1c-77f9090ea1f5",
        "outputId": "9739095d-9404-418e-9b89-bfd1cabd62aa"
      },
      "outputs": [
        {
          "output_type": "execute_result",
          "data": {
            "text/plain": [
              "{'configurable': {'thread_id': '1',\n",
              "  'checkpoint_ns': '',\n",
              "  'checkpoint_id': '1ef973e8-c910-6f1c-8002-8a22235d093a'}}"
            ]
          },
          "metadata": {},
          "execution_count": 86
        }
      ],
      "source": [
        "ai_message = snapshot.values[\"messages\"][-1]\n",
        "human_response = (\n",
        "    \"We, the experts are here to help! We'd recommend you check out LangGraph to build your agent.\"\n",
        "    \" It's much more reliable and extensible than simple autonomous agents.\"\n",
        ")\n",
        "tool_message = create_response(human_response, ai_message)\n",
        "graph.update_state(config, {\"messages\": [tool_message]})"
      ]
    },
    {
      "cell_type": "markdown",
      "id": "79492363-7fc6-4ec7-977d-9030648029bc",
      "metadata": {
        "id": "79492363-7fc6-4ec7-977d-9030648029bc"
      },
      "source": [
        "You can inspect the state to confirm our response was added."
      ]
    },
    {
      "cell_type": "code",
      "execution_count": null,
      "id": "4b986c66-1c65-4da8-a404-db7e28f8364e",
      "metadata": {
        "colab": {
          "base_uri": "https://localhost:8080/"
        },
        "id": "4b986c66-1c65-4da8-a404-db7e28f8364e",
        "outputId": "462dbde6-2725-4628-debb-566d9b0ff659"
      },
      "outputs": [
        {
          "output_type": "execute_result",
          "data": {
            "text/plain": [
              "[HumanMessage(content='I need some expert guidance for building this AI agent. Could you request assistance for me?', additional_kwargs={}, response_metadata={}, id='9ba65a95-0c10-4993-853e-308f7d9017d3'),\n",
              " AIMessage(content='', additional_kwargs={'function_call': {'name': 'RequestAssistance', 'arguments': '{\"request\": \"I need some expert guidance for building this AI agent.\"}'}}, response_metadata={'prompt_feedback': {'block_reason': 0, 'safety_ratings': []}, 'finish_reason': 'STOP', 'safety_ratings': [{'category': 'HARM_CATEGORY_HARASSMENT', 'probability': 'NEGLIGIBLE', 'blocked': False}, {'category': 'HARM_CATEGORY_DANGEROUS_CONTENT', 'probability': 'NEGLIGIBLE', 'blocked': False}, {'category': 'HARM_CATEGORY_SEXUALLY_EXPLICIT', 'probability': 'NEGLIGIBLE', 'blocked': False}, {'category': 'HARM_CATEGORY_HATE_SPEECH', 'probability': 'NEGLIGIBLE', 'blocked': False}]}, id='run-476f0073-0a84-4caf-9357-878624870e0b-0', tool_calls=[{'name': 'RequestAssistance', 'args': {'request': 'I need some expert guidance for building this AI agent.'}, 'id': '25cc6e79-9808-4b63-95df-ba1a6c35b5d8', 'type': 'tool_call'}], usage_metadata={'input_tokens': 173, 'output_tokens': 24, 'total_tokens': 197, 'input_token_details': {'cache_read': 0}}),\n",
              " ToolMessage(content=\"We, the experts are here to help! We'd recommend you check out LangGraph to build your agent. It's much more reliable and extensible than simple autonomous agents.\", id='99935d37-ff8a-48b8-8cd7-2a3eb12e0e7c', tool_call_id='25cc6e79-9808-4b63-95df-ba1a6c35b5d8')]"
            ]
          },
          "metadata": {},
          "execution_count": 87
        }
      ],
      "source": [
        "graph.get_state(config).values[\"messages\"]"
      ]
    },
    {
      "cell_type": "markdown",
      "id": "ea6b8616-de10-44d6-a8f0-3ac73c3c3680",
      "metadata": {
        "id": "ea6b8616-de10-44d6-a8f0-3ac73c3c3680"
      },
      "source": [
        "Next, **resume** the graph by invoking it with `None` as the inputs."
      ]
    },
    {
      "cell_type": "code",
      "execution_count": null,
      "id": "6b32914d-4d60-491f-8e11-1e6867e38ffd",
      "metadata": {
        "colab": {
          "base_uri": "https://localhost:8080/"
        },
        "id": "6b32914d-4d60-491f-8e11-1e6867e38ffd",
        "outputId": "ec5248ce-9b14-4063-94fb-6bf9a48c5b6a"
      },
      "outputs": [
        {
          "output_type": "stream",
          "name": "stdout",
          "text": [
            "=================================\u001b[1m Tool Message \u001b[0m=================================\n",
            "\n",
            "We, the experts are here to help! We'd recommend you check out LangGraph to build your agent. It's much more reliable and extensible than simple autonomous agents.\n",
            "=================================\u001b[1m Tool Message \u001b[0m=================================\n",
            "\n",
            "We, the experts are here to help! We'd recommend you check out LangGraph to build your agent. It's much more reliable and extensible than simple autonomous agents.\n",
            "==================================\u001b[1m Ai Message \u001b[0m==================================\n",
            "\n",
            "OK. I've requested assistance from an expert. They recommend checking out LangGraph for building your AI agent. It's apparently more reliable and extensible than simple autonomous agents.\n"
          ]
        }
      ],
      "source": [
        "events = graph.stream(None, config, stream_mode=\"values\")\n",
        "for event in events:\n",
        "    if \"messages\" in event:\n",
        "        event[\"messages\"][-1].pretty_print()"
      ]
    },
    {
      "cell_type": "code",
      "source": [
        "graph.get_state(config).values[\"messages\"]"
      ],
      "metadata": {
        "colab": {
          "base_uri": "https://localhost:8080/"
        },
        "id": "ikr_vFL8yMt9",
        "outputId": "24324fac-e70e-4d1d-f835-6a30cb632cdf"
      },
      "id": "ikr_vFL8yMt9",
      "execution_count": null,
      "outputs": [
        {
          "output_type": "execute_result",
          "data": {
            "text/plain": [
              "[HumanMessage(content='I need some expert guidance for building this AI agent. Could you request assistance for me?', additional_kwargs={}, response_metadata={}, id='9ba65a95-0c10-4993-853e-308f7d9017d3'),\n",
              " AIMessage(content='', additional_kwargs={'function_call': {'name': 'RequestAssistance', 'arguments': '{\"request\": \"I need some expert guidance for building this AI agent.\"}'}}, response_metadata={'prompt_feedback': {'block_reason': 0, 'safety_ratings': []}, 'finish_reason': 'STOP', 'safety_ratings': [{'category': 'HARM_CATEGORY_HARASSMENT', 'probability': 'NEGLIGIBLE', 'blocked': False}, {'category': 'HARM_CATEGORY_DANGEROUS_CONTENT', 'probability': 'NEGLIGIBLE', 'blocked': False}, {'category': 'HARM_CATEGORY_SEXUALLY_EXPLICIT', 'probability': 'NEGLIGIBLE', 'blocked': False}, {'category': 'HARM_CATEGORY_HATE_SPEECH', 'probability': 'NEGLIGIBLE', 'blocked': False}]}, id='run-476f0073-0a84-4caf-9357-878624870e0b-0', tool_calls=[{'name': 'RequestAssistance', 'args': {'request': 'I need some expert guidance for building this AI agent.'}, 'id': '25cc6e79-9808-4b63-95df-ba1a6c35b5d8', 'type': 'tool_call'}], usage_metadata={'input_tokens': 173, 'output_tokens': 24, 'total_tokens': 197, 'input_token_details': {'cache_read': 0}}),\n",
              " ToolMessage(content=\"We, the experts are here to help! We'd recommend you check out LangGraph to build your agent. It's much more reliable and extensible than simple autonomous agents.\", id='99935d37-ff8a-48b8-8cd7-2a3eb12e0e7c', tool_call_id='25cc6e79-9808-4b63-95df-ba1a6c35b5d8'),\n",
              " AIMessage(content=\"OK. I've requested assistance from an expert. They recommend checking out LangGraph for building your AI agent. It's apparently more reliable and extensible than simple autonomous agents. \\n\", additional_kwargs={}, response_metadata={'prompt_feedback': {'block_reason': 0, 'safety_ratings': []}, 'finish_reason': 'STOP', 'safety_ratings': [{'category': 'HARM_CATEGORY_SEXUALLY_EXPLICIT', 'probability': 'NEGLIGIBLE', 'blocked': False}, {'category': 'HARM_CATEGORY_HATE_SPEECH', 'probability': 'NEGLIGIBLE', 'blocked': False}, {'category': 'HARM_CATEGORY_HARASSMENT', 'probability': 'NEGLIGIBLE', 'blocked': False}, {'category': 'HARM_CATEGORY_DANGEROUS_CONTENT', 'probability': 'NEGLIGIBLE', 'blocked': False}]}, id='run-fe0fcfeb-5770-4e3e-88d3-3ff210efa56e-0', usage_metadata={'input_tokens': 248, 'output_tokens': 36, 'total_tokens': 284, 'input_token_details': {'cache_read': 0}})]"
            ]
          },
          "metadata": {},
          "execution_count": 89
        }
      ]
    },
    {
      "cell_type": "markdown",
      "id": "48e0559b-d653-4dab-8928-b001004d14cb",
      "metadata": {
        "id": "48e0559b-d653-4dab-8928-b001004d14cb"
      },
      "source": [
        "**Notice** that the chat bot has incorporated the updated state in its final response. Since **everything** was checkpointed, the \"expert\" human in the loop could perform the update at any time without impacting the graph's execution.\n",
        "\n",
        "**Congratulations!** you've now added an additional node to your assistant graph to let the chat bot decide for itself whether or not it needs to interrupt execution. You did so by updating the graph `State` with a new `ask_human` field and modifying the interruption logic when compiling the graph. This lets you dynamically include a human in the loop while maintaining full **memory** every time you execute the graph.\n",
        "\n",
        "We're almost done with the tutorial, but there is one more concept we'd like to review before finishing that connects `checkpointing` and `state updates`.\n",
        "\n",
        "This section's code is reproduced below for your reference.\n",
        "\n",
        "<details>\n",
        "<summary>Full Code</summary>\n",
        "    <pre>\n",
        "\n",
        "```python\n",
        "from typing import Annotated\n",
        "\n",
        "from langchain_anthropic import ChatAnthropic\n",
        "from langchain_community.tools.tavily_search import TavilySearchResults\n",
        "from langchain_core.messages import BaseMessage\n",
        "# NOTE: you must use langchain-core >= 0.3 with Pydantic v2\n",
        "from pydantic import BaseModel\n",
        "from typing_extensions import TypedDict\n",
        "\n",
        "from langgraph.checkpoint.memory import MemorySaver\n",
        "from langgraph.graph import StateGraph\n",
        "from langgraph.graph.message import add_messages\n",
        "from langgraph.prebuilt import ToolNode, tools_condition\n",
        "\n",
        "\n",
        "class State(TypedDict):\n",
        "    messages: Annotated[list, add_messages]\n",
        "    # This flag is new\n",
        "    ask_human: bool\n",
        "\n",
        "\n",
        "class RequestAssistance(BaseModel):\n",
        "    \"\"\"Escalate the conversation to an expert. Use this if you are unable to assist directly or if the user requires support beyond your permissions.\n",
        "\n",
        "    To use this function, relay the user's 'request' so the expert can provide the right guidance.\n",
        "    \"\"\"\n",
        "\n",
        "    request: str\n",
        "\n",
        "\n",
        "tool = TavilySearchResults(max_results=2)\n",
        "tools = [tool]\n",
        "llm = ChatAnthropic(model=\"claude-3-5-sonnet-20240620\")\n",
        "# We can bind the llm to a tool definition, a pydantic model, or a json schema\n",
        "llm_with_tools = llm.bind_tools(tools + [RequestAssistance])\n",
        "\n",
        "\n",
        "def chatbot(state: State):\n",
        "    response = llm_with_tools.invoke(state[\"messages\"])\n",
        "    ask_human = False\n",
        "    if (\n",
        "        response.tool_calls\n",
        "        and response.tool_calls[0][\"name\"] == RequestAssistance.__name__\n",
        "    ):\n",
        "        ask_human = True\n",
        "    return {\"messages\": [response], \"ask_human\": ask_human}\n",
        "\n",
        "\n",
        "graph_builder = StateGraph(State)\n",
        "\n",
        "graph_builder.add_node(\"chatbot\", chatbot)\n",
        "graph_builder.add_node(\"tools\", ToolNode(tools=[tool]))\n",
        "\n",
        "\n",
        "def create_response(response: str, ai_message: AIMessage):\n",
        "    return ToolMessage(\n",
        "        content=response,\n",
        "        tool_call_id=ai_message.tool_calls[0][\"id\"],\n",
        "    )\n",
        "\n",
        "\n",
        "def human_node(state: State):\n",
        "    new_messages = []\n",
        "    if not isinstance(state[\"messages\"][-1], ToolMessage):\n",
        "        # Typically, the user will have updated the state during the interrupt.\n",
        "        # If they choose not to, we will include a placeholder ToolMessage to\n",
        "        # let the LLM continue.\n",
        "        new_messages.append(\n",
        "            create_response(\"No response from human.\", state[\"messages\"][-1])\n",
        "        )\n",
        "    return {\n",
        "        # Append the new messages\n",
        "        \"messages\": new_messages,\n",
        "        # Unset the flag\n",
        "        \"ask_human\": False,\n",
        "    }\n",
        "\n",
        "\n",
        "graph_builder.add_node(\"human\", human_node)\n",
        "\n",
        "\n",
        "def select_next_node(state: State):\n",
        "    if state[\"ask_human\"]:\n",
        "        return \"human\"\n",
        "    # Otherwise, we can route as before\n",
        "    return tools_condition(state)\n",
        "\n",
        "\n",
        "graph_builder.add_conditional_edges(\n",
        "    \"chatbot\",\n",
        "    select_next_node,\n",
        "    {\"human\": \"human\", \"tools\": \"tools\", \"__end__\": \"__end__\"},\n",
        ")\n",
        "graph_builder.add_edge(\"tools\", \"chatbot\")\n",
        "graph_builder.add_edge(\"human\", \"chatbot\")\n",
        "graph_builder.set_entry_point(\"chatbot\")\n",
        "memory = MemorySaver()\n",
        "graph = graph_builder.compile(\n",
        "    checkpointer=memory,\n",
        "    interrupt_before=[\"human\"],\n",
        ")\n",
        "```\n",
        "</pre>\n",
        "</details>"
      ]
    },
    {
      "cell_type": "markdown",
      "id": "05283db2-2f26-4800-8eda-78a4468a3d8f",
      "metadata": {
        "id": "05283db2-2f26-4800-8eda-78a4468a3d8f"
      },
      "source": [
        "## Part 7: Time Travel\n",
        "\n",
        "In a typical chat bot workflow, the user interacts with the bot 1 or more times to accomplish a task. In the previous sections, we saw how to add memory and a human-in-the-loop to be able to checkpoint our graph state and manually override the state to control future responses.\n",
        "\n",
        "But what if you want to let your user start from a previous response and \"branch off\" to explore a separate outcome? Or what if you want users to be able to \"rewind\" your assistant's work to fix some mistakes or try a different strategy (common in applications like autonomous software engineers)?\n",
        "\n",
        "You can create both of these experiences and more using LangGraph's built-in \"time travel\" functionality.\n",
        "\n",
        "In this section, you will \"rewind\" your graph by fetching a checkpoint using the graph's `get_state_history` method. You can then resume execution at this previous point in time.\n",
        "\n",
        "First, recall our chatbot graph. We don't need to make **any** changes from before:"
      ]
    },
    {
      "cell_type": "code",
      "execution_count": null,
      "id": "bb8a02de-a21b-4ef6-a714-7d6e44435e3a",
      "metadata": {
        "id": "bb8a02de-a21b-4ef6-a714-7d6e44435e3a"
      },
      "outputs": [],
      "source": [
        "from typing import Annotated, Literal\n",
        "\n",
        "from langchain_community.tools.tavily_search import TavilySearchResults\n",
        "from langchain_core.messages import AIMessage, ToolMessage\n",
        "\n",
        "# NOTE: you must use langchain-core >= 0.3 with Pydantic v2\n",
        "from pydantic import BaseModel\n",
        "from typing_extensions import TypedDict\n",
        "\n",
        "from langgraph.checkpoint.memory import MemorySaver\n",
        "from langgraph.graph import StateGraph, START\n",
        "from langgraph.graph.message import add_messages\n",
        "from langgraph.prebuilt import ToolNode, tools_condition\n",
        "\n",
        "\n",
        "class State(TypedDict):\n",
        "    messages: Annotated[list, add_messages]\n",
        "    # This flag is new\n",
        "    ask_human: bool\n",
        "\n",
        "\n",
        "class RequestAssistance(BaseModel):\n",
        "    \"\"\"Escalate the conversation to an expert. Use this if you are unable to assist directly or if the user requires support beyond your permissions.\n",
        "\n",
        "    To use this function, relay the user's 'request' so the expert can provide the right guidance.\n",
        "    \"\"\"\n",
        "\n",
        "    request: str\n",
        "\n",
        "\n",
        "tool = TavilySearchResults(max_results=2)\n",
        "tools = [tool]\n",
        "# We can bind the llm to a tool definition, a pydantic model, or a json schema\n",
        "llm_with_tools = llm.bind_tools(tools + [RequestAssistance])\n",
        "\n",
        "\n",
        "def chatbot(state: State):\n",
        "    response = llm_with_tools.invoke(state[\"messages\"])\n",
        "    ask_human = False\n",
        "    if (\n",
        "        response.tool_calls\n",
        "        and response.tool_calls[0][\"name\"] == RequestAssistance.__name__\n",
        "    ):\n",
        "        ask_human = True\n",
        "    return {\"messages\": [response], \"ask_human\": ask_human}\n",
        "\n",
        "\n",
        "graph_builder = StateGraph(State)\n",
        "\n",
        "graph_builder.add_node(\"chatbot\", chatbot)\n",
        "graph_builder.add_node(\"tools\", ToolNode(tools=[tool]))\n",
        "\n",
        "\n",
        "def create_response(response: str, ai_message: AIMessage):\n",
        "    return ToolMessage(\n",
        "        content=response,\n",
        "        tool_call_id=ai_message.tool_calls[0][\"id\"],\n",
        "    )\n",
        "\n",
        "\n",
        "def human_node(state: State):\n",
        "    new_messages = []\n",
        "    if not isinstance(state[\"messages\"][-1], ToolMessage):\n",
        "        # Typically, the user will have updated the state during the interrupt.\n",
        "        # If they choose not to, we will include a placeholder ToolMessage to\n",
        "        # let the LLM continue.\n",
        "        new_messages.append(\n",
        "            create_response(\"No response from human.\", state[\"messages\"][-1])\n",
        "        )\n",
        "    return {\n",
        "        # Append the new messages\n",
        "        \"messages\": new_messages,\n",
        "        # Unset the flag\n",
        "        \"ask_human\": False,\n",
        "    }\n",
        "\n",
        "\n",
        "graph_builder.add_node(\"human\", human_node)\n",
        "\n",
        "\n",
        "def select_next_node(state: State):\n",
        "    if state[\"ask_human\"]:\n",
        "        return \"human\"\n",
        "    # Otherwise, we can route as before\n",
        "    return tools_condition(state)\n",
        "\n",
        "\n",
        "graph_builder.add_conditional_edges(\n",
        "    \"chatbot\",\n",
        "    select_next_node,\n",
        "    {\"human\": \"human\", \"tools\": \"tools\", END: END},\n",
        ")\n",
        "graph_builder.add_edge(\"tools\", \"chatbot\")\n",
        "graph_builder.add_edge(\"human\", \"chatbot\")\n",
        "graph_builder.add_edge(START, \"chatbot\")\n",
        "memory = MemorySaver()\n",
        "graph = graph_builder.compile(\n",
        "    checkpointer=memory,\n",
        "    interrupt_before=[\"human\"],\n",
        ")"
      ]
    },
    {
      "cell_type": "code",
      "execution_count": null,
      "id": "a7debb4a-2a3a-40b9-a48c-7052ec2c2726",
      "metadata": {
        "colab": {
          "base_uri": "https://localhost:8080/",
          "height": 308
        },
        "id": "a7debb4a-2a3a-40b9-a48c-7052ec2c2726",
        "outputId": "7ec5ba48-1c64-4ec1-d9e3-53ffff5f20ed"
      },
      "outputs": [
        {
          "output_type": "display_data",
          "data": {
            "image/jpeg": "[encoded data removed]",
            "text/plain": [
              "<IPython.core.display.Image object>"
            ]
          },
          "metadata": {}
        }
      ],
      "source": [
        "from IPython.display import Image, display\n",
        "\n",
        "try:\n",
        "    display(Image(graph.get_graph().draw_mermaid_png()))\n",
        "except Exception:\n",
        "    # This requires some extra dependencies and is optional\n",
        "    pass"
      ]
    },
    {
      "cell_type": "markdown",
      "id": "5414c482-215e-4cc0-9eef-4a8722d2f468",
      "metadata": {
        "id": "5414c482-215e-4cc0-9eef-4a8722d2f468"
      },
      "source": [
        "Let's have our graph take a couple steps. Every step will be checkpointed in its state history:"
      ]
    },
    {
      "cell_type": "code",
      "execution_count": null,
      "id": "69071b02-c011-4b7f-90b1-8e89e032322d",
      "metadata": {
        "colab": {
          "base_uri": "https://localhost:8080/"
        },
        "id": "69071b02-c011-4b7f-90b1-8e89e032322d",
        "outputId": "358cdea9-a67c-413c-bd2e-e1c81e446a54"
      },
      "outputs": [
        {
          "output_type": "stream",
          "name": "stdout",
          "text": [
            "================================\u001b[1m Human Message \u001b[0m=================================\n",
            "\n",
            "I'm learning LangGraph. Could you do some research on it for me?\n",
            "==================================\u001b[1m Ai Message \u001b[0m==================================\n",
            "Tool Calls:\n",
            "  tavily_search_results_json (7e98a255-e576-4fff-ab15-fa5bc398a4f1)\n",
            " Call ID: 7e98a255-e576-4fff-ab15-fa5bc398a4f1\n",
            "  Args:\n",
            "    query: LangGraph\n",
            "=================================\u001b[1m Tool Message \u001b[0m=================================\n",
            "Name: tavily_search_results_json\n",
            "\n",
            "[{\"url\": \"https://langchain-ai.github.io/langgraph/\", \"content\": \"LangGraph is a framework for creating stateful, multi-actor applications with LLMs, using cycles, controllability, and persistence. Learn how to use LangGraph with LangChain, LangSmith, and Anthropic tools to build agent and multi-agent workflows.\"}, {\"url\": \"https://langchain-ai.github.io/langgraph/tutorials/\", \"content\": \"LangGraph is a framework for building language agents as graphs. Learn how to use LangGraph to create chatbots, code assistants, planning agents, reflection agents, and more with these notebooks.\"}]\n",
            "==================================\u001b[1m Ai Message \u001b[0m==================================\n",
            "\n",
            "LangGraph is a framework for creating stateful, multi-actor applications with LLMs, using cycles, controllability, and persistence. You can learn more about it here: https://langchain-ai.github.io/langgraph/  It seems like you can also use LangGraph to create chatbots, code assistants, planning agents, reflection agents, and more. You can find some tutorials on how to do this here: https://langchain-ai.github.io/langgraph/tutorials/\n"
          ]
        }
      ],
      "source": [
        "config = {\"configurable\": {\"thread_id\": \"1\"}}\n",
        "events = graph.stream(\n",
        "    {\n",
        "        \"messages\": [\n",
        "            (\"user\", \"I'm learning LangGraph. Could you do some research on it for me?\")\n",
        "        ]\n",
        "    },\n",
        "    config,\n",
        "    stream_mode=\"values\",\n",
        ")\n",
        "for event in events:\n",
        "    if \"messages\" in event:\n",
        "        event[\"messages\"][-1].pretty_print()"
      ]
    },
    {
      "cell_type": "code",
      "execution_count": null,
      "id": "acbec099-e5d2-497f-929e-c548d7bcbf77",
      "metadata": {
        "colab": {
          "base_uri": "https://localhost:8080/"
        },
        "id": "acbec099-e5d2-497f-929e-c548d7bcbf77",
        "outputId": "ed74695c-e152-4c4a-d2ef-3316f6838466"
      },
      "outputs": [
        {
          "output_type": "stream",
          "name": "stdout",
          "text": [
            "================================\u001b[1m Human Message \u001b[0m=================================\n",
            "\n",
            "Ya that's helpful. Maybe I'll build an autonomous agent with it!\n",
            "==================================\u001b[1m Ai Message \u001b[0m==================================\n",
            "\n",
            "That sounds like a fun project!  LangGraph is a powerful tool for building autonomous agents, and there are many interesting possibilities to explore.  What kind of agent are you thinking of building?  What tasks would you want it to be able to perform?\n"
          ]
        }
      ],
      "source": [
        "events = graph.stream(\n",
        "    {\n",
        "        \"messages\": [\n",
        "            (\"user\", \"Ya that's helpful. Maybe I'll build an autonomous agent with it!\")\n",
        "        ]\n",
        "    },\n",
        "    config,\n",
        "    stream_mode=\"values\",\n",
        ")\n",
        "for event in events:\n",
        "    if \"messages\" in event:\n",
        "        event[\"messages\"][-1].pretty_print()"
      ]
    },
    {
      "cell_type": "markdown",
      "id": "b2e48c77-65f3-4075-8030-ebf943a281f1",
      "metadata": {
        "id": "b2e48c77-65f3-4075-8030-ebf943a281f1"
      },
      "source": [
        "Now that we've had the agent take a couple steps, we can `replay` the full state history to see everything that occurred."
      ]
    },
    {
      "cell_type": "code",
      "execution_count": null,
      "id": "6c0dbed5-210d-40ad-b002-0bc52ef28fac",
      "metadata": {
        "colab": {
          "base_uri": "https://localhost:8080/"
        },
        "id": "6c0dbed5-210d-40ad-b002-0bc52ef28fac",
        "outputId": "3ae39d7f-331b-45fc-9ef4-1c20c98acadb"
      },
      "outputs": [
        {
          "output_type": "stream",
          "name": "stdout",
          "text": [
            "Num Messages:  6 Next:  ()\n",
            "--------------------------------------------------------------------------------\n",
            "Num Messages:  5 Next:  ('chatbot',)\n",
            "--------------------------------------------------------------------------------\n",
            "Num Messages:  4 Next:  ('__start__',)\n",
            "--------------------------------------------------------------------------------\n",
            "Num Messages:  4 Next:  ()\n",
            "--------------------------------------------------------------------------------\n",
            "Num Messages:  3 Next:  ('chatbot',)\n",
            "--------------------------------------------------------------------------------\n",
            "Num Messages:  2 Next:  ('tools',)\n",
            "--------------------------------------------------------------------------------\n",
            "Num Messages:  1 Next:  ('chatbot',)\n",
            "--------------------------------------------------------------------------------\n",
            "Num Messages:  0 Next:  ('__start__',)\n",
            "--------------------------------------------------------------------------------\n"
          ]
        }
      ],
      "source": [
        "to_replay = None\n",
        "for state in graph.get_state_history(config):\n",
        "    print(\"Num Messages: \", len(state.values[\"messages\"]), \"Next: \", state.next)\n",
        "    print(\"-\" * 80)\n",
        "    if len(state.values[\"messages\"]) == 6:\n",
        "        # We are somewhat arbitrarily selecting a specific state based on the number of chat messages in the state.\n",
        "        to_replay = state"
      ]
    },
    {
      "cell_type": "markdown",
      "id": "b182019e-bae3-4616-ba1b-f845c0ab6636",
      "metadata": {
        "id": "b182019e-bae3-4616-ba1b-f845c0ab6636"
      },
      "source": [
        "**Notice** that checkpoints are saved for every step of the graph. This __spans invocations__ so you can rewind across a full thread's history. We've picked out `to_replay` as a state to resume from. This is the state after the `chatbot` node in the second graph invocation above.\n",
        "\n",
        "Resuming from this point should call the **action** node next."
      ]
    },
    {
      "cell_type": "code",
      "execution_count": null,
      "id": "de8d5521-8d71-4093-a657-4920c790802f",
      "metadata": {
        "colab": {
          "base_uri": "https://localhost:8080/"
        },
        "id": "de8d5521-8d71-4093-a657-4920c790802f",
        "outputId": "ba147679-244c-409d-ed77-db72892da83c"
      },
      "outputs": [
        {
          "output_type": "stream",
          "name": "stdout",
          "text": [
            "()\n",
            "{'configurable': {'thread_id': '1', 'checkpoint_ns': '', 'checkpoint_id': '1ef973ed-cb57-677a-8006-950832180416'}}\n"
          ]
        }
      ],
      "source": [
        "print(to_replay.next)\n",
        "print(to_replay.config)"
      ]
    },
    {
      "cell_type": "markdown",
      "id": "7e8c61f5-3a4a-4cce-b81b-43fe1dcc971f",
      "metadata": {
        "id": "7e8c61f5-3a4a-4cce-b81b-43fe1dcc971f"
      },
      "source": [
        "**Notice** that the checkpoint's config (`to_replay.config`) contains a `checkpoint_id` **timestamp**. Providing this `checkpoint_id` value tells LangGraph's checkpointer to **load** the state from that moment in time. Let's try it below:"
      ]
    },
    {
      "cell_type": "code",
      "execution_count": null,
      "id": "85f17be3-eaf6-495e-a846-49436916b4ab",
      "metadata": {
        "colab": {
          "base_uri": "https://localhost:8080/"
        },
        "id": "85f17be3-eaf6-495e-a846-49436916b4ab",
        "outputId": "5ea89092-3776-437e-d976-5f4e5082e7d8"
      },
      "outputs": [
        {
          "output_type": "stream",
          "name": "stdout",
          "text": [
            "==================================\u001b[1m Ai Message \u001b[0m==================================\n",
            "\n",
            "That sounds like a fun project!  LangGraph is a powerful tool for building autonomous agents, and there are many interesting possibilities to explore.  What kind of agent are you thinking of building?  What tasks would you want it to be able to perform?\n"
          ]
        }
      ],
      "source": [
        "# The `checkpoint_id` in the `to_replay.config` corresponds to a state we've persisted to our checkpointer.\n",
        "for event in graph.stream(None, to_replay.config, stream_mode=\"values\"):\n",
        "    if \"messages\" in event:\n",
        "        event[\"messages\"][-1].pretty_print()"
      ]
    },
    {
      "cell_type": "markdown",
      "id": "c2501fed-2591-420d-98e0-4a3836fb99a8",
      "metadata": {
        "id": "c2501fed-2591-420d-98e0-4a3836fb99a8"
      },
      "source": [
        "Notice that the graph resumed execution from the `**action**` node. You can tell this is the case since the first value printed above is the response from our search engine tool.\n",
        "\n",
        "**Congratulations!** You've now used time-travel checkpoint traversal in LangGraph. Being able to rewind and explore alternative paths opens up a world of possibilities for debugging, experimentation, and interactive applications."
      ]
    },
    {
      "cell_type": "markdown",
      "id": "e584d57f-5aad-4507-815f-0b2e4b64b791",
      "metadata": {
        "id": "e584d57f-5aad-4507-815f-0b2e4b64b791"
      },
      "source": [
        "## Conclusion\n",
        "\n",
        "Congrats! You've completed the intro tutorial and built a chat bot in LangGraph that supports tool calling, persistent memory, human-in-the-loop interactivity, and even time-travel!\n",
        "\n",
        "The [LangGraph documentation](https://langchain-ai.github.io/langgraph/) is a great resource for diving deeper into the library's capabilities."
      ]
    }
  ],
  "metadata": {
    "kernelspec": {
      "display_name": "Python 3 (ipykernel)",
      "language": "python",
      "name": "python3"
    },
    "language_info": {
      "codemirror_mode": {
        "name": "ipython",
        "version": 3
      },
      "file_extension": ".py",
      "mimetype": "text/x-python",
      "name": "python",
      "nbconvert_exporter": "python",
      "pygments_lexer": "ipython3",
      "version": "3.11.9"
    },
    "colab": {
      "provenance": [],
      "include_colab_link": true
    }
  },
  "nbformat": 4,
  "nbformat_minor": 5
}