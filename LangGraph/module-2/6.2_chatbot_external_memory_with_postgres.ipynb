{
  "nbformat": 4,
  "nbformat_minor": 0,
  "metadata": {
    "colab": {
      "provenance": [],
      "include_colab_link": true
    },
    "kernelspec": {
      "name": "python3",
      "display_name": "Python 3"
    },
    "language_info": {
      "name": "python"
    }
  },
  "cells": [
    {
      "cell_type": "markdown",
      "metadata": {
        "id": "view-in-github",
        "colab_type": "text"
      },
      "source": [
        "<a href=\"https://colab.research.google.com/github/Alla-ud-din/Classes-Q3-Q4/blob/langgraph/LangGraph/module-2/6.2_chatbot_external_memory_with_postgres.ipynb\" target=\"_parent\"><img src=\"https://colab.research.google.com/assets/colab-badge.svg\" alt=\"Open In Colab\"/></a>"
      ]
    },
    {
      "cell_type": "markdown",
      "source": [
        "# Chatbot with message summarization & external DB memory\n",
        "\n",
        "## Review\n",
        "\n",
        "We've covered how to customize graph state schema and reducer.\n",
        "\n",
        "We've also shown a number of tricks for trimming or filtering messages in graph state.\n",
        "\n",
        "We've used these concepts in a Chatbot with memory that produces a running summary of the conversation.\n",
        "\n",
        "## Goals\n",
        "\n",
        "But, what if we want our Chatbot to have memory that persists indefinitely?\n",
        "\n",
        "Now, we'll introduce some more advanced checkpointers that support external databases.\n",
        "\n",
        "Here, we'll show how to use [Postgres as a checkpointer](https://langchain-ai.github.io/langgraph/how-tos/persistence_postgres/)"
      ],
      "metadata": {
        "id": "9iKKYdAkVoxu"
      }
    },
    {
      "cell_type": "code",
      "execution_count": 2,
      "metadata": {
        "id": "Lwi6YkLu31aK"
      },
      "outputs": [],
      "source": [
        "%%capture --no-stderr\n",
        "%pip install -U langgraph langgraph-checkpoint-postgres psycopg psycopg-pool langchain_google_genai\n"
      ]
    },
    {
      "cell_type": "code",
      "source": [
        "from google.colab import userdata\n",
        "GEMINI_API_KEY = userdata.get('GEMINI_API_KEY')"
      ],
      "metadata": {
        "id": "i6Tn95wS4rxz"
      },
      "execution_count": 3,
      "outputs": []
    },
    {
      "cell_type": "code",
      "source": [
        "import os\n",
        "os.environ[\"LANGCHAIN_API_KEY\"] = userdata.get('LANGCHAIN_API_KEY')\n",
        "os.environ[\"LANGCHAIN_TRACING_V2\"] = \"true\"\n",
        "os.environ[\"LANGCHAIN_PROJECT\"] = \"langchain-academy\""
      ],
      "metadata": {
        "id": "qtL0cG1B8pMt"
      },
      "execution_count": 4,
      "outputs": []
    },
    {
      "cell_type": "markdown",
      "source": [
        "# Use sync connection¶\n",
        "This sets up a synchronous connection to the database.\n",
        "\n",
        "Synchronous connections execute operations in a blocking manner, meaning each operation waits for completion before moving to the next one. The DB_URI is the database connection URI, with the protocol used for connecting to a PostgreSQL database, authentication, and host where database is running. The connection_kwargs dictionary defines additional parameters for the database connection."
      ],
      "metadata": {
        "id": "AqAjciKmV6vl"
      }
    },
    {
      "cell_type": "code",
      "source": [
        "from google.colab import userdata\n",
        "DB_URI = userdata.get('DB_URI')"
      ],
      "metadata": {
        "id": "cP2TdPSB3-dO"
      },
      "execution_count": 5,
      "outputs": []
    },
    {
      "cell_type": "code",
      "source": [
        "from psycopg_pool import ConnectionPool\n",
        "from langgraph.checkpoint.postgres import PostgresSaver\n",
        "\n",
        "# Connection pool for efficient database access\n",
        "connection_kwargs = {\"autocommit\": True, \"prepare_threshold\": 0}\n",
        "\n",
        "# Create a persistent connection pool\n",
        "pool = ConnectionPool(conninfo=DB_URI, max_size=20, kwargs=connection_kwargs)\n",
        "\n",
        "# Initialize PostgresSaver checkpointer\n",
        "checkpointer = PostgresSaver(pool)\n",
        "checkpointer.setup()  # Ensure database tables are set up\n"
      ],
      "metadata": {
        "id": "0XCqHjWM4LTc"
      },
      "execution_count": 6,
      "outputs": []
    },
    {
      "cell_type": "markdown",
      "source": [
        "Let's re-define our chatbot."
      ],
      "metadata": {
        "id": "w9All8mCV1o0"
      }
    },
    {
      "cell_type": "code",
      "source": [
        "from langchain_google_genai import ChatGoogleGenerativeAI\n",
        "from langchain_core.messages import SystemMessage, HumanMessage, RemoveMessage\n",
        "\n",
        "from langgraph.graph import END\n",
        "from langgraph.graph import MessagesState\n",
        "\n",
        "model: ChatGoogleGenerativeAI = ChatGoogleGenerativeAI(model = \"gemini-1.5-flash\", api_key =  GEMINI_API_KEY)\n",
        "\n",
        "class State(MessagesState):\n",
        "    summary: str\n",
        "\n",
        "# Define the logic to call the model\n",
        "def call_model(state: State) -> State:\n",
        "\n",
        "    # Get summary if it exists\n",
        "    summary = state.get(\"summary\", \"\")\n",
        "    print(f\"Using summary: {summary}\")\n",
        "\n",
        "    # If there is summary, then we add it\n",
        "    if summary:\n",
        "\n",
        "        # Add summary to system message\n",
        "        system_message = f\"Summary of conversation earlier: {summary}\"\n",
        "\n",
        "        # Append summary to any newer messages\n",
        "        messages = [SystemMessage(content=system_message)] + state[\"messages\"]\n",
        "\n",
        "    else:\n",
        "        messages = state[\"messages\"]\n",
        "\n",
        "    response = model.invoke(messages)\n",
        "    return {\"messages\": response}\n",
        "\n",
        "def summarize_conversation(state: State) -> State:\n",
        "    print(f\"Messages before summarizing: {len(state['messages'])}\")\n",
        "    # First, we get any existing summary\n",
        "    summary = state.get(\"summary\", \"\")\n",
        "    print(f\"Existing summary: {summary}\")\n",
        "\n",
        "    # Create our summarization prompt\n",
        "    if summary:\n",
        "\n",
        "        # A summary already exists\n",
        "        summary_message = (\n",
        "            f\"This is summary of the conversation to date: {summary}\\n\\n\"\n",
        "            \"Extend the summary by taking into account the new messages above:\"\n",
        "        )\n",
        "\n",
        "    else:\n",
        "        summary_message = \"Create a summary of the conversation above:\"\n",
        "\n",
        "\n",
        "    # Add prompt to our history\n",
        "    messages = state[\"messages\"] + [HumanMessage(content=summary_message)]\n",
        "    response = model.invoke(messages)\n",
        "    # Summarization logic\n",
        "    print(f\"New summary: {response.content}\")\n",
        "\n",
        "    # Delete all but the 2 most recent messages\n",
        "    delete_messages = [RemoveMessage(id=m.id) for m in state[\"messages\"][:-2]]\n",
        "\n",
        "    print(f\"Messages after truncation: {len(delete_messages)}\")\n",
        "    return {\"summary\": response.content, \"messages\": delete_messages}\n",
        "\n",
        "# Determine whether to end or summarize the conversation\n",
        "def should_continue(state: State) -> State:\n",
        "\n",
        "    \"\"\"Return the next node to execute.\"\"\"\n",
        "\n",
        "    messages = state[\"messages\"]\n",
        "    print(f\"Message count: {len(messages)}\")\n",
        "    # If there are more than six messages, then we summarize the conversation\n",
        "    if len(messages) > 6:\n",
        "        return \"summarize_conversation\"\n",
        "\n",
        "    # Otherwise we can just end\n",
        "    return END"
      ],
      "metadata": {
        "id": "kvU-4FnS4Wxu"
      },
      "execution_count": 7,
      "outputs": []
    },
    {
      "cell_type": "markdown",
      "source": [
        "Now, we just re-compile with our postgres checkpointer."
      ],
      "metadata": {
        "id": "zzIVvGsXWap4"
      }
    },
    {
      "cell_type": "code",
      "source": [
        "from langgraph.graph import StateGraph, START, END\n",
        "from langgraph.graph.state import CompiledStateGraph\n",
        "\n",
        "# Redefine workflow\n",
        "workflow = StateGraph(State)\n",
        "workflow.add_node(\"conversation\", call_model)\n",
        "workflow.add_node(summarize_conversation)\n",
        "\n",
        "workflow.add_edge(START, \"conversation\")\n",
        "workflow.add_conditional_edges(\"conversation\", should_continue)\n",
        "workflow.add_edge(\"summarize_conversation\", END)\n",
        "\n",
        "# Compile the workflow with PostgreSQL checkpointer\n",
        "graph = workflow.compile(checkpointer=checkpointer)\n"
      ],
      "metadata": {
        "id": "d7wrnazV4mdo"
      },
      "execution_count": 8,
      "outputs": []
    },
    {
      "cell_type": "markdown",
      "source": [
        "Now, we can invoke the graph several times."
      ],
      "metadata": {
        "id": "C_KTIXuvWkT0"
      }
    },
    {
      "cell_type": "code",
      "source": [
        "# Configuration for thread\n",
        "config = {\"configurable\": {\"thread_id\": \"1\"}}\n",
        "\n",
        "# Start a conversation\n",
        "input_message = HumanMessage(content=\"hi! I'm Wania\")\n",
        "output = graph.invoke({\"messages\": [input_message]}, config)\n",
        "for m in output['messages'][-1:]:\n",
        "    m.pretty_print()\n",
        "\n",
        "# Check the persisted state\n",
        "graph_state = graph.get_state(config)\n",
        "graph_state"
      ],
      "metadata": {
        "colab": {
          "base_uri": "https://localhost:8080/"
        },
        "id": "Wk129iSWZapB",
        "outputId": "445c12e1-c439-40d0-be23-77afa2c6c89d"
      },
      "execution_count": 10,
      "outputs": [
        {
          "output_type": "stream",
          "name": "stdout",
          "text": [
            "Using summary: \n",
            "Message count: 2\n",
            "==================================\u001b[1m Ai Message \u001b[0m==================================\n",
            "\n",
            "Hi Wania!  It's nice to meet you. How can I help you today?\n"
          ]
        },
        {
          "output_type": "execute_result",
          "data": {
            "text/plain": [
              "StateSnapshot(values={'messages': [HumanMessage(content=\"hi! I'm Wania\", additional_kwargs={}, response_metadata={}, id='45866f7c-a271-478f-a209-b1eb39bff715'), AIMessage(content=\"Hi Wania!  It's nice to meet you. How can I help you today?\\n\", additional_kwargs={}, response_metadata={'prompt_feedback': {'block_reason': 0, 'safety_ratings': []}, 'finish_reason': 'STOP', 'safety_ratings': []}, id='run-c3ca8caf-b414-4cff-9a8f-62e822c2292f-0', usage_metadata={'input_tokens': 8, 'output_tokens': 21, 'total_tokens': 29, 'input_token_details': {'cache_read': 0}})]}, next=(), config={'configurable': {'thread_id': '1', 'checkpoint_ns': '', 'checkpoint_id': '1efca658-adcd-610f-8001-a6d86f30483b'}}, metadata={'step': 1, 'source': 'loop', 'writes': {'conversation': {'messages': AIMessage(content=\"Hi Wania!  It's nice to meet you. How can I help you today?\\n\", additional_kwargs={}, response_metadata={'finish_reason': 'STOP', 'safety_ratings': [], 'prompt_feedback': {'block_reason': 0, 'safety_ratings': []}}, id='run-c3ca8caf-b414-4cff-9a8f-62e822c2292f-0', usage_metadata={'input_tokens': 8, 'output_tokens': 21, 'total_tokens': 29, 'input_token_details': {'cache_read': 0}})}}, 'parents': {}, 'thread_id': '1'}, created_at='2025-01-04T06:31:34.200938+00:00', parent_config={'configurable': {'thread_id': '1', 'checkpoint_ns': '', 'checkpoint_id': '1efca658-a7e9-61fc-8000-19ca93f3b068'}}, tasks=())"
            ]
          },
          "metadata": {},
          "execution_count": 10
        }
      ]
    },
    {
      "cell_type": "code",
      "source": [
        "# Configuration for thread\n",
        "config = {\"configurable\": {\"thread_id\": \"1\"}}\n",
        "\n",
        "# Start a conversation\n",
        "input_message = HumanMessage(content=\"I like painting pictures.\")\n",
        "output = graph.invoke({\"messages\": [input_message]}, config)\n",
        "for m in output['messages'][-1:]:\n",
        "    m.pretty_print()\n",
        "\n",
        "# Check the persisted state\n",
        "graph_state = graph.get_state(config)\n",
        "graph_state"
      ],
      "metadata": {
        "colab": {
          "base_uri": "https://localhost:8080/"
        },
        "id": "HxWCVPkuZvf-",
        "outputId": "87fbdbf4-7dd3-4e4d-e8b0-ae809af54c60"
      },
      "execution_count": 11,
      "outputs": [
        {
          "output_type": "stream",
          "name": "stdout",
          "text": [
            "Using summary: \n",
            "Message count: 4\n",
            "==================================\u001b[1m Ai Message \u001b[0m==================================\n",
            "\n",
            "That's wonderful!  What kind of pictures do you like to paint?  Do you have a favorite medium (oil, acrylic, watercolor, etc.)?\n"
          ]
        },
        {
          "output_type": "execute_result",
          "data": {
            "text/plain": [
              "StateSnapshot(values={'messages': [HumanMessage(content=\"hi! I'm Wania\", additional_kwargs={}, response_metadata={}, id='45866f7c-a271-478f-a209-b1eb39bff715'), AIMessage(content=\"Hi Wania!  It's nice to meet you. How can I help you today?\\n\", additional_kwargs={}, response_metadata={'prompt_feedback': {'block_reason': 0, 'safety_ratings': []}, 'finish_reason': 'STOP', 'safety_ratings': []}, id='run-c3ca8caf-b414-4cff-9a8f-62e822c2292f-0', usage_metadata={'input_tokens': 8, 'output_tokens': 21, 'total_tokens': 29, 'input_token_details': {'cache_read': 0}}), HumanMessage(content='I like painting pictures.', additional_kwargs={}, response_metadata={}, id='7269d870-703a-4b9b-b588-a7ab7b2fb52a'), AIMessage(content=\"That's wonderful!  What kind of pictures do you like to paint?  Do you have a favorite medium (oil, acrylic, watercolor, etc.)?\\n\", additional_kwargs={}, response_metadata={'prompt_feedback': {'block_reason': 0, 'safety_ratings': []}, 'finish_reason': 'STOP', 'safety_ratings': []}, id='run-6f471745-f761-42e8-8a33-f16a61b576c3-0', usage_metadata={'input_tokens': 36, 'output_tokens': 34, 'total_tokens': 70, 'input_token_details': {'cache_read': 0}})]}, next=(), config={'configurable': {'thread_id': '1', 'checkpoint_ns': '', 'checkpoint_id': '1efca659-a051-6181-8004-dfdb1a13812b'}}, metadata={'step': 4, 'source': 'loop', 'writes': {'conversation': {'messages': AIMessage(content=\"That's wonderful!  What kind of pictures do you like to paint?  Do you have a favorite medium (oil, acrylic, watercolor, etc.)?\\n\", additional_kwargs={}, response_metadata={'finish_reason': 'STOP', 'safety_ratings': [], 'prompt_feedback': {'block_reason': 0, 'safety_ratings': []}}, id='run-6f471745-f761-42e8-8a33-f16a61b576c3-0', usage_metadata={'input_tokens': 36, 'output_tokens': 34, 'total_tokens': 70, 'input_token_details': {'cache_read': 0}})}}, 'parents': {}, 'thread_id': '1'}, created_at='2025-01-04T06:31:59.630557+00:00', parent_config={'configurable': {'thread_id': '1', 'checkpoint_ns': '', 'checkpoint_id': '1efca659-9adb-60bf-8003-19b4e8f665c6'}}, tasks=())"
            ]
          },
          "metadata": {},
          "execution_count": 11
        }
      ]
    },
    {
      "cell_type": "code",
      "source": [
        "# Configuration for thread\n",
        "config = {\"configurable\": {\"thread_id\": \"1\"}}\n",
        "\n",
        "# Start a conversation\n",
        "input_message = HumanMessage(content=\"What's my name and what is my hobby?\")\n",
        "output = graph.invoke({\"messages\": [input_message]}, config)\n",
        "for m in output['messages'][-1:]:\n",
        "    m.pretty_print()\n",
        "\n",
        "# Check the persisted state\n",
        "graph_state = graph.get_state(config)\n",
        "graph_state"
      ],
      "metadata": {
        "colab": {
          "base_uri": "https://localhost:8080/"
        },
        "id": "HxLLjBiBfZAL",
        "outputId": "716331c9-8021-40ce-c5df-f22ba7bc9a2f"
      },
      "execution_count": 12,
      "outputs": [
        {
          "output_type": "stream",
          "name": "stdout",
          "text": [
            "Using summary: \n",
            "Message count: 6\n",
            "==================================\u001b[1m Ai Message \u001b[0m==================================\n",
            "\n",
            "Your name is Wania, and your hobby is painting pictures.\n"
          ]
        },
        {
          "output_type": "execute_result",
          "data": {
            "text/plain": [
              "StateSnapshot(values={'messages': [HumanMessage(content=\"hi! I'm Wania\", additional_kwargs={}, response_metadata={}, id='45866f7c-a271-478f-a209-b1eb39bff715'), AIMessage(content=\"Hi Wania!  It's nice to meet you. How can I help you today?\\n\", additional_kwargs={}, response_metadata={'prompt_feedback': {'block_reason': 0, 'safety_ratings': []}, 'finish_reason': 'STOP', 'safety_ratings': []}, id='run-c3ca8caf-b414-4cff-9a8f-62e822c2292f-0', usage_metadata={'input_tokens': 8, 'output_tokens': 21, 'total_tokens': 29, 'input_token_details': {'cache_read': 0}}), HumanMessage(content='I like painting pictures.', additional_kwargs={}, response_metadata={}, id='7269d870-703a-4b9b-b588-a7ab7b2fb52a'), AIMessage(content=\"That's wonderful!  What kind of pictures do you like to paint?  Do you have a favorite medium (oil, acrylic, watercolor, etc.)?\\n\", additional_kwargs={}, response_metadata={'prompt_feedback': {'block_reason': 0, 'safety_ratings': []}, 'finish_reason': 'STOP', 'safety_ratings': []}, id='run-6f471745-f761-42e8-8a33-f16a61b576c3-0', usage_metadata={'input_tokens': 36, 'output_tokens': 34, 'total_tokens': 70, 'input_token_details': {'cache_read': 0}}), HumanMessage(content=\"What's my name and what is my hobby?\", additional_kwargs={}, response_metadata={}, id='7a812592-197a-4b3f-8a06-4af191cd3c4a'), AIMessage(content='Your name is Wania, and your hobby is painting pictures.\\n', additional_kwargs={}, response_metadata={'prompt_feedback': {'block_reason': 0, 'safety_ratings': []}, 'finish_reason': 'STOP', 'safety_ratings': []}, id='run-0b2a57fb-4c4a-44f9-85d3-2db4b5c55717-0', usage_metadata={'input_tokens': 83, 'output_tokens': 14, 'total_tokens': 97, 'input_token_details': {'cache_read': 0}})]}, next=(), config={'configurable': {'thread_id': '1', 'checkpoint_ns': '', 'checkpoint_id': '1efca664-42d1-6414-8007-eebb2d2d8a71'}}, metadata={'step': 7, 'source': 'loop', 'writes': {'conversation': {'messages': AIMessage(content='Your name is Wania, and your hobby is painting pictures.\\n', additional_kwargs={}, response_metadata={'finish_reason': 'STOP', 'safety_ratings': [], 'prompt_feedback': {'block_reason': 0, 'safety_ratings': []}}, id='run-0b2a57fb-4c4a-44f9-85d3-2db4b5c55717-0', usage_metadata={'input_tokens': 83, 'output_tokens': 14, 'total_tokens': 97, 'input_token_details': {'cache_read': 0}})}}, 'parents': {}, 'thread_id': '1'}, created_at='2025-01-04T06:36:45.105438+00:00', parent_config={'configurable': {'thread_id': '1', 'checkpoint_ns': '', 'checkpoint_id': '1efca664-3d5c-6997-8006-857507e31d91'}}, tasks=())"
            ]
          },
          "metadata": {},
          "execution_count": 12
        }
      ]
    },
    {
      "cell_type": "code",
      "source": [
        "# Configuration for thread\n",
        "config = {\"configurable\": {\"thread_id\": \"1\"}}\n",
        "\n",
        "# Start a conversation\n",
        "input_message = HumanMessage(content=\"Can you describe about abstract paintings?\")\n",
        "output = graph.invoke({\"messages\": [input_message]}, config)\n",
        "for m in output['messages'][-1:]:\n",
        "    m.pretty_print()\n",
        "\n",
        "# Check the persisted state\n",
        "graph_state = graph.get_state(config)\n",
        "graph_state"
      ],
      "metadata": {
        "colab": {
          "base_uri": "https://localhost:8080/"
        },
        "id": "iygDZ-_xhsQW",
        "outputId": "fbc39591-d9aa-4b02-80d5-263df0b0e3f3"
      },
      "execution_count": 10,
      "outputs": [
        {
          "output_type": "stream",
          "name": "stdout",
          "text": [
            "Using summary: The conversation began with introductions, where I learned the user's name is Wania and her hobby is painting.  She then asked about abstract painting, and I provided a detailed description of the art style, including its characteristics, different movements within it, and its emphasis on form, color, and emotional expression over representational accuracy.\n",
            "\n",
            "Message count: 6\n",
            "==================================\u001b[1m Ai Message \u001b[0m==================================\n",
            "\n",
            "Abstract painting is a form of art that doesn't aim to represent the visible world realistically. Instead, it uses shapes, colors, lines, and textures to express ideas, emotions, or explore the visual elements themselves.  It's about the *feeling* or *concept* conveyed, rather than a literal depiction of something.\n",
            "\n",
            "Key characteristics include:\n",
            "\n",
            "* **Non-representational:** Unlike realistic art, there aren't recognizable objects or scenes.  It's not about \"what\" is depicted, but \"how\" it's depicted.\n",
            "\n",
            "* **Emphasis on visual elements:**  The primary focus is on the interplay of color, shape, line, texture, and composition. These elements are used to create visual interest and evoke emotional responses.\n",
            "\n",
            "* **Emotional expression:**  Many abstract paintings aim to convey feelings or moods.  The artist uses the visual elements to express their inner world or create a particular atmosphere.\n",
            "\n",
            "* **Varied styles and techniques:** Abstract art encompasses a wide range of styles, from geometric abstraction (precise shapes and lines) to gestural abstraction (spontaneous brushstrokes and movement).  Techniques can range from meticulously planned compositions to highly improvisational approaches.\n",
            "\n",
            "* **Open to interpretation:**  The meaning of an abstract painting is often left open to the viewer's interpretation. There's no single \"right\" answer; the viewer's own experiences and emotions shape their understanding.\n",
            "\n",
            "\n",
            "Think of it this way:  a representational painting might show a landscape; an abstract painting might use colors and shapes to evoke the *feeling* of a vast, open space.  The focus shifts from representation to expression.\n"
          ]
        },
        {
          "output_type": "execute_result",
          "data": {
            "text/plain": [
              "StateSnapshot(values={'messages': [HumanMessage(content='Can you describe about abstract paintings?', additional_kwargs={}, response_metadata={}, id='0a624a56-cb73-4c3f-a414-3d861aef5836'), AIMessage(content='Abstract painting is a genre of art that doesn\\'t attempt to represent an accurate depiction of visual reality but instead uses shapes, colors, forms, and gestural marks to achieve its effect.  It\\'s less about representing something recognizable and more about expressing feelings, ideas, or exploring the elements of art themselves.\\n\\nHere are some key characteristics of abstract painting:\\n\\n* **Non-representational:**  Unlike realistic or representational art, abstract art doesn\\'t aim to portray objects or scenes from the real world in a recognizable way.\\n\\n* **Emphasis on form and color:**  The focus is often on the interplay of shapes, lines, colors, and textures, rather than subject matter.  Color can be used expressively, symbolically, or purely for its aesthetic qualities.\\n\\n* **Emotional expression:**  Many abstract paintings aim to evoke emotions or feelings in the viewer, rather than tell a story or depict a specific scene.\\n\\n* **Variety of styles:**  Abstract art encompasses a huge range of styles, from the geometric precision of Mondrian to the gestural spontaneity of Pollock.  Some abstract works might be highly structured and planned, while others might be more intuitive and improvisational.\\n\\n* **Open to interpretation:**  The meaning of an abstract painting is often left open to the viewer\\'s interpretation.  There\\'s no single \"correct\" way to understand it.\\n\\n\\nDifferent movements within abstract art include:\\n\\n* **Cubism:**  Breaking down objects into geometric forms.\\n* **Surrealism:**  Exploring the subconscious mind through dreamlike imagery (though often incorporating representational elements).\\n* **Abstract Expressionism:**  Characterized by large-scale canvases and spontaneous gestures.\\n* **Minimalism:**  Using simple geometric forms and limited color palettes.\\n* **Geometric Abstraction:**  Focusing on precise geometric shapes and compositions.\\n\\n\\nAbstract painting can be challenging to understand at first, but its beauty often lies in its ability to stimulate the imagination and provoke emotional responses.\\n', additional_kwargs={}, response_metadata={'prompt_feedback': {'block_reason': 0, 'safety_ratings': []}, 'finish_reason': 'STOP', 'safety_ratings': []}, id='run-a6870655-baaa-4556-8b9c-7e5902f22aba-0', usage_metadata={'input_tokens': 106, 'output_tokens': 406, 'total_tokens': 512, 'input_token_details': {'cache_read': 0}}), HumanMessage(content='Can you describe about abstract paintings?', additional_kwargs={}, response_metadata={}, id='c0fb6ac4-42ae-41b7-bad2-8a73cac79343'), AIMessage(content='Abstract painting is a style of art that moves away from representing reality in a recognizable way. Instead, it focuses on expressing ideas, emotions, or exploring the elements of art themselves – color, form, line, texture – in a non-representational manner.  Think of it less as depicting something you can see and more as conveying a feeling or concept visually.\\n\\nHere\\'s a breakdown of key aspects:\\n\\n* **Non-representational:** You won\\'t find recognizable objects like trees or people in a purely abstract painting.  The focus is on the visual elements themselves.\\n\\n* **Emphasis on Form and Color:**  The arrangement of shapes, the use of color (both in terms of hue and intensity), and the textures created all play crucial roles in conveying the artist\\'s intention.  Color might be used symbolically, emotionally, or purely for its aesthetic impact.\\n\\n* **Emotional Expression:** Many abstract works aim to evoke feelings or moods in the viewer.  The artist might be expressing their own emotions or attempting to create a specific atmosphere.\\n\\n* **Diversity of Styles:** Abstract art is not a single style but a broad category encompassing many approaches.  Some are highly structured and geometric (think Mondrian), while others are spontaneous and gestural (think Pollock).\\n\\n* **Open to Interpretation:**  There isn\\'t always a single \"correct\" interpretation of an abstract painting.  The meaning is often left open for the viewer to discover and respond to personally.\\n\\n\\nIn short, abstract painting is a powerful and versatile form of artistic expression that invites viewers to engage with its visual elements and create their own meaning from the experience.\\n', additional_kwargs={}, response_metadata={'prompt_feedback': {'block_reason': 0, 'safety_ratings': []}, 'finish_reason': 'STOP', 'safety_ratings': []}, id='run-ea847ac2-4184-4dbc-b75e-442db72d063b-0', usage_metadata={'input_tokens': 496, 'output_tokens': 334, 'total_tokens': 830, 'input_token_details': {'cache_read': 0}}), HumanMessage(content='Can you describe about abstract paintings?', additional_kwargs={}, response_metadata={}, id='7eaf92d1-aea6-4993-b2bb-15d6f5a1e2c9'), AIMessage(content='Abstract painting is a form of art that doesn\\'t aim to represent the visible world realistically. Instead, it uses shapes, colors, lines, and textures to express ideas, emotions, or explore the visual elements themselves.  It\\'s about the *feeling* or *concept* conveyed, rather than a literal depiction of something.\\n\\nKey characteristics include:\\n\\n* **Non-representational:** Unlike realistic art, there aren\\'t recognizable objects or scenes.  It\\'s not about \"what\" is depicted, but \"how\" it\\'s depicted.\\n\\n* **Emphasis on visual elements:**  The primary focus is on the interplay of color, shape, line, texture, and composition. These elements are used to create visual interest and evoke emotional responses.\\n\\n* **Emotional expression:**  Many abstract paintings aim to convey feelings or moods.  The artist uses the visual elements to express their inner world or create a particular atmosphere.\\n\\n* **Varied styles and techniques:** Abstract art encompasses a wide range of styles, from geometric abstraction (precise shapes and lines) to gestural abstraction (spontaneous brushstrokes and movement).  Techniques can range from meticulously planned compositions to highly improvisational approaches.\\n\\n* **Open to interpretation:**  The meaning of an abstract painting is often left open to the viewer\\'s interpretation. There\\'s no single \"right\" answer; the viewer\\'s own experiences and emotions shape their understanding.\\n\\n\\nThink of it this way:  a representational painting might show a landscape; an abstract painting might use colors and shapes to evoke the *feeling* of a vast, open space.  The focus shifts from representation to expression.\\n', additional_kwargs={}, response_metadata={'prompt_feedback': {'block_reason': 0, 'safety_ratings': []}, 'finish_reason': 'STOP', 'safety_ratings': []}, id='run-ae30eab7-65f9-49e8-8f75-75debfbf92bb-0', usage_metadata={'input_tokens': 839, 'output_tokens': 338, 'total_tokens': 1177, 'input_token_details': {'cache_read': 0}})], 'summary': \"The conversation began with introductions, where I learned the user's name is Wania and her hobby is painting.  She then asked about abstract painting, and I provided a detailed description of the art style, including its characteristics, different movements within it, and its emphasis on form, color, and emotional expression over representational accuracy.\\n\"}, next=(), config={'configurable': {'thread_id': '1', 'checkpoint_ns': '', 'checkpoint_id': '1efca66c-e3ee-6f09-8011-08c1fa75b167'}}, metadata={'step': 17, 'source': 'loop', 'writes': {'conversation': {'messages': AIMessage(content='Abstract painting is a form of art that doesn\\'t aim to represent the visible world realistically. Instead, it uses shapes, colors, lines, and textures to express ideas, emotions, or explore the visual elements themselves.  It\\'s about the *feeling* or *concept* conveyed, rather than a literal depiction of something.\\n\\nKey characteristics include:\\n\\n* **Non-representational:** Unlike realistic art, there aren\\'t recognizable objects or scenes.  It\\'s not about \"what\" is depicted, but \"how\" it\\'s depicted.\\n\\n* **Emphasis on visual elements:**  The primary focus is on the interplay of color, shape, line, texture, and composition. These elements are used to create visual interest and evoke emotional responses.\\n\\n* **Emotional expression:**  Many abstract paintings aim to convey feelings or moods.  The artist uses the visual elements to express their inner world or create a particular atmosphere.\\n\\n* **Varied styles and techniques:** Abstract art encompasses a wide range of styles, from geometric abstraction (precise shapes and lines) to gestural abstraction (spontaneous brushstrokes and movement).  Techniques can range from meticulously planned compositions to highly improvisational approaches.\\n\\n* **Open to interpretation:**  The meaning of an abstract painting is often left open to the viewer\\'s interpretation. There\\'s no single \"right\" answer; the viewer\\'s own experiences and emotions shape their understanding.\\n\\n\\nThink of it this way:  a representational painting might show a landscape; an abstract painting might use colors and shapes to evoke the *feeling* of a vast, open space.  The focus shifts from representation to expression.\\n', additional_kwargs={}, response_metadata={'finish_reason': 'STOP', 'safety_ratings': [], 'prompt_feedback': {'block_reason': 0, 'safety_ratings': []}}, id='run-ae30eab7-65f9-49e8-8f75-75debfbf92bb-0', usage_metadata={'input_tokens': 839, 'output_tokens': 338, 'total_tokens': 1177, 'input_token_details': {'cache_read': 0}})}}, 'parents': {}, 'thread_id': '1'}, created_at='2025-01-04T06:40:36.748028+00:00', parent_config={'configurable': {'thread_id': '1', 'checkpoint_ns': '', 'checkpoint_id': '1efca66c-c9d4-69b8-8010-5c6968fb5a2c'}}, tasks=())"
            ]
          },
          "metadata": {},
          "execution_count": 10
        }
      ]
    },
    {
      "cell_type": "markdown",
      "source": [],
      "metadata": {
        "id": "gFqFzWDrWnt5"
      }
    },
    {
      "cell_type": "code",
      "source": [
        "# Retrieve state using thread ID\n",
        "config = {\"configurable\": {\"thread_id\": \"1\"}}\n",
        "graph_state = graph.get_state(config).values.get('summary', \"\")\n",
        "graph_state"
      ],
      "metadata": {
        "colab": {
          "base_uri": "https://localhost:8080/",
          "height": 200
        },
        "id": "Cmwlf-TFYQqH",
        "outputId": "75c479c3-431a-4aa8-8040-b4e9052db120"
      },
      "execution_count": 1,
      "outputs": [
        {
          "output_type": "error",
          "ename": "NameError",
          "evalue": "name 'graph' is not defined",
          "traceback": [
            "\u001b[0;31m---------------------------------------------------------------------------\u001b[0m",
            "\u001b[0;31mNameError\u001b[0m                                 Traceback (most recent call last)",
            "\u001b[0;32m<ipython-input-1-852d6eede75a>\u001b[0m in \u001b[0;36m<cell line: 3>\u001b[0;34m()\u001b[0m\n\u001b[1;32m      1\u001b[0m \u001b[0;31m# Retrieve state using thread ID\u001b[0m\u001b[0;34m\u001b[0m\u001b[0;34m\u001b[0m\u001b[0m\n\u001b[1;32m      2\u001b[0m \u001b[0mconfig\u001b[0m \u001b[0;34m=\u001b[0m \u001b[0;34m{\u001b[0m\u001b[0;34m\"configurable\"\u001b[0m\u001b[0;34m:\u001b[0m \u001b[0;34m{\u001b[0m\u001b[0;34m\"thread_id\"\u001b[0m\u001b[0;34m:\u001b[0m \u001b[0;34m\"1\"\u001b[0m\u001b[0;34m}\u001b[0m\u001b[0;34m}\u001b[0m\u001b[0;34m\u001b[0m\u001b[0;34m\u001b[0m\u001b[0m\n\u001b[0;32m----> 3\u001b[0;31m \u001b[0mgraph_state\u001b[0m \u001b[0;34m=\u001b[0m \u001b[0mgraph\u001b[0m\u001b[0;34m.\u001b[0m\u001b[0mget_state\u001b[0m\u001b[0;34m(\u001b[0m\u001b[0mconfig\u001b[0m\u001b[0;34m)\u001b[0m\u001b[0;34m.\u001b[0m\u001b[0mvalues\u001b[0m\u001b[0;34m.\u001b[0m\u001b[0mget\u001b[0m\u001b[0;34m(\u001b[0m\u001b[0;34m'summary'\u001b[0m\u001b[0;34m,\u001b[0m \u001b[0;34m\"\"\u001b[0m\u001b[0;34m)\u001b[0m\u001b[0;34m\u001b[0m\u001b[0;34m\u001b[0m\u001b[0m\n\u001b[0m\u001b[1;32m      4\u001b[0m \u001b[0mgraph_state\u001b[0m\u001b[0;34m\u001b[0m\u001b[0;34m\u001b[0m\u001b[0m\n",
            "\u001b[0;31mNameError\u001b[0m: name 'graph' is not defined"
          ]
        }
      ]
    },
    {
      "cell_type": "code",
      "source": [
        "pool.close()"
      ],
      "metadata": {
        "id": "d_YbgTBs89_o"
      },
      "execution_count": null,
      "outputs": []
    },
    {
      "cell_type": "markdown",
      "source": [
        "### Persisting state\n",
        "\n",
        "Using database like Postgres means state is persisted!\n",
        "\n",
        "For example, we can re-start the notebook kernel and see that we can still load from Postgres DB on disk.\n"
      ],
      "metadata": {
        "id": "Io-K7MCWinYF"
      }
    }
  ]
}